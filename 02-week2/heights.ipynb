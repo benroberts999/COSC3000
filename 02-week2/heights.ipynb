{
 "cells": [
  {
   "cell_type": "code",
   "execution_count": null,
   "metadata": {},
   "outputs": [],
   "source": [
    "import numpy as np\n",
    "from matplotlib import pyplot as plt\n",
    "import scipy.stats as stats\n",
    "import pandas as pd"
   ]
  },
  {
   "cell_type": "markdown",
   "metadata": {},
   "source": [
    "### Load in data (from unequal-length csv file)"
   ]
  },
  {
   "cell_type": "code",
   "execution_count": null,
   "metadata": {},
   "outputs": [],
   "source": [
    "filename = \"heights.csv\"\n",
    "heights = np.genfromtxt(filename, delimiter=\",\", names=True)\n",
    "collumns = list(heights.dtype.names)\n",
    "print(collumns)"
   ]
  },
  {
   "cell_type": "markdown",
   "metadata": {},
   "source": [
    "### Remove NaN's: print mean, and Standard Error"
   ]
  },
  {
   "cell_type": "code",
   "execution_count": null,
   "metadata": {},
   "outputs": [],
   "source": [
    "inch_to_cm = 2.54\n",
    "\n",
    "data_sets = [\n",
    "    heights[col][~np.isnan(heights[col])] * inch_to_cm for col in collumns\n",
    "]\n",
    "print(\"Average heights:\")\n",
    "for i, col in enumerate(collumns):\n",
    "    print(f\"{col:7}: {np.mean(data_sets[i]):.1f} +/- {stats.sem(data_sets[i]):.1f}\")\n",
    "\n",
    "print(\"\\nModal heights:\")\n",
    "for i, col in enumerate(collumns):\n",
    "    mode, count = stats.mode(data_sets[i], keepdims=True)\n",
    "    print(f\"{col:7}: {mode[0]:.0f}\")\n",
    "\n",
    "print(\"\\nMedian heights:\")\n",
    "for i, col in enumerate(collumns):\n",
    "    median = np.median(data_sets[i])\n",
    "    print(f\"{col:7}: {median:.0f}\")"
   ]
  },
  {
   "cell_type": "markdown",
   "metadata": {},
   "source": [
    "### Histograms - a few ways"
   ]
  },
  {
   "cell_type": "code",
   "execution_count": null,
   "metadata": {},
   "outputs": [],
   "source": [
    "altos, sopranos, tenors, bass = data_sets\n",
    "fig, axs = plt.subplots(nrows=2, ncols=2)\n",
    "fig.tight_layout(pad=2.0)  # add some space\n",
    "axs[0, 0].hist(altos)\n",
    "axs[0, 1].hist(sopranos)\n",
    "axs[1, 0].hist(tenors)\n",
    "axs[1, 1].hist(bass)\n",
    "axs[0, 0].set_title(\"altos\")\n",
    "axs[0, 1].set_title(\"sopranos\")\n",
    "axs[1, 0].set_title(\"tenors\")\n",
    "axs[1, 1].set_title(\"bass\")\n",
    "fig.suptitle(\"Not ideal: axes differ\", y = 1.05)\n",
    "plt.show()"
   ]
  },
  {
   "cell_type": "code",
   "execution_count": null,
   "metadata": {},
   "outputs": [],
   "source": [
    "fig, axs = plt.subplots(nrows=2, ncols=2)\n",
    "fig.tight_layout(pad=2.0)  # add some space\n",
    "\n",
    "axs[0,0].hist(altos, density=True)\n",
    "axs[0,1].hist(sopranos, density=True)\n",
    "axs[1,0].hist(tenors, density=True)\n",
    "axs[1,1].hist(bass, density=True)\n",
    "axs[0,0].set_title(\"altos\")\n",
    "axs[0,1].set_title(\"sopranos\")\n",
    "axs[1,0].set_title(\"tenors\")\n",
    "axs[1,1].set_title(\"bass\")\n",
    "axs[0,0].set_ylabel(\"count\")\n",
    "axs[1,0].set_ylabel(\"count\")\n",
    "axs[1,0].set_xlabel(\"height (cm)\")\n",
    "axs[1,1].set_xlabel(\"height (cm)\")\n",
    "fig.suptitle(\"Better: consistant axes\", y = 1.05)\n",
    "\n",
    "min_height = np.min([np.min(altos), np.min(sopranos), np.min(tenors), np.min(bass)])\n",
    "max_height = np.max([np.max(altos), np.max(sopranos), np.max(tenors), np.max(bass)])\n",
    "plt.setp(axs, ylim=(0.0, 0.13), xlim=(min_height, max_height))\n",
    "\n",
    "plt.show()"
   ]
  },
  {
   "cell_type": "markdown",
   "metadata": {},
   "source": [
    "Sometime better to plot together.. sometimes just too messy"
   ]
  },
  {
   "cell_type": "code",
   "execution_count": null,
   "metadata": {},
   "outputs": [],
   "source": [
    "for i, data in enumerate(data_sets):\n",
    "  plt.hist(data, bins='fd', histtype=\"step\", linewidth=2)\n",
    "  plt.hist(data, bins='fd', histtype=\"stepfilled\",  color=f\"C{i}\", alpha=0.4, label = collumns[i])\n",
    "  plt.fill()\n",
    "plt.ylabel(\"count\")\n",
    "plt.xlabel(\"height (cm)\")\n",
    "plt.legend()\n",
    "plt.show()"
   ]
  },
  {
   "cell_type": "markdown",
   "metadata": {},
   "source": [
    "### KDE: often not a good idea\n",
    " * Kernel density estimation: estimates PDF (prob dist. function)\n",
    " * Certainly makes it easier to read\n",
    " * BUT at the expense of correctness in this case\n",
    " * Great for very dense histograms; usually best to show both"
   ]
  },
  {
   "cell_type": "code",
   "execution_count": null,
   "metadata": {},
   "outputs": [],
   "source": [
    "x = np.linspace(min_height, max_height, 100)\n",
    "\n",
    "for i, data in enumerate(data_sets):\n",
    "    kde = stats.gaussian_kde(data)\n",
    "    # plt.hist(data, bins=\"fd\", histtype=\"step\", color=f\"C{i}\", linestyle=\"--\", linewidth=2, density=True)\n",
    "    plt.plot(x, kde(x), linewidth = 2, label=collumns[i])\n",
    "    plt.fill_between(x, kde(x), alpha=0.4)\n",
    "plt.ylabel(\"Prob. density\")\n",
    "plt.xlabel(\"height (cm)\")\n",
    "plt.legend()\n",
    "plt.show()"
   ]
  },
  {
   "cell_type": "markdown",
   "metadata": {},
   "source": [
    "### Quantiles"
   ]
  },
  {
   "cell_type": "code",
   "execution_count": null,
   "metadata": {},
   "outputs": [],
   "source": [
    "x = np.linspace(0.0, 1.0, 20)\n",
    "q_altos = np.quantile(altos, x)\n",
    "q_soprano = np.quantile(sopranos, x)\n",
    "q_tenor = np.quantile(tenors, x)\n",
    "q_bass = np.quantile(bass, x)\n",
    "\n",
    "for i, data in enumerate(data_sets):\n",
    "  q = np.quantile(data, x)\n",
    "  # nb: change units, just in plot quantile -> percentile\n",
    "  plt.plot(x*100, q, \"x-\", label=collumns[i])\n",
    "plt.ylabel(\"Heights (cm)\")\n",
    "plt.xlabel(\"Percentile\")\n",
    "plt.legend()\n",
    "plt.show()"
   ]
  },
  {
   "cell_type": "markdown",
   "metadata": {},
   "source": [
    "### Q-Q (quantile vs. quantile) plot"
   ]
  },
  {
   "cell_type": "code",
   "execution_count": null,
   "metadata": {},
   "outputs": [],
   "source": [
    "x = np.linspace(0.05, 1.0, 20) # 20 quantiles (i.e. 5% steps)\n",
    "\n",
    "fig, axs = plt.subplots(nrows=3, ncols=3)\n",
    "fig.tight_layout(pad=1)  # add some space\n",
    "\n",
    "x_datas = [altos, sopranos, tenors]\n",
    "x_labels = [\"Altos\", \"Sopranos\", \"Tenors\"]\n",
    "\n",
    "y_datas = [sopranos, tenors, bass]\n",
    "y_labels = [\"Sopranos\", \"Tenors\", \"Bass\"]\n",
    "\n",
    "for i, datay in enumerate(y_datas):\n",
    "  for j, datax in enumerate(x_datas):\n",
    "    # Only plot unique lower triangle\n",
    "    if j > i:\n",
    "      axs[i,j].set_visible(False)\n",
    "      continue\n",
    "    qx = np.quantile(datax, x)\n",
    "    qy = np.quantile(datay, x)\n",
    "    axs[i,j].set_visible(True)\n",
    "    axs[i,j].set_yticks(np.arange(160, 195, 10.0))\n",
    "    axs[i,j].set_xticks(np.arange(160, 195, 10.0))\n",
    "    axs[i,j].set_xlim(160,195)\n",
    "    axs[i,j].set_ylim(160,195)\n",
    "    axs[i,j].plot(qx, qy, \"-\", linewidth=2)\n",
    "    axs[i,j].plot(qx, qy, \"k.\")\n",
    "    axs[i,j].axline((0, 0), slope=1, color=\"r\")\n",
    "    axs[i,j].set_aspect('equal')\n",
    "    if i==2:\n",
    "      axs[i,j].set_xlabel(x_labels[j], fontdict={'fontsize': 'large', 'fontweight': 'bold'})\n",
    "    if j==0:\n",
    "      axs[i,j].set_ylabel(y_labels[i], fontdict={'fontsize': 'large', 'fontweight': 'bold'})\n",
    "fig.suptitle(\"Q-Q corner plot: heights (cm)\", y=1.05)\n",
    "plt.show()"
   ]
  },
  {
   "cell_type": "code",
   "execution_count": null,
   "metadata": {},
   "outputs": [],
   "source": [
    "x = np.linspace(0.05, 1.0, 20) # 20 quantiles (i.e. 5% steps)\n",
    "qx = np.quantile(tenors, x)\n",
    "qy = np.quantile(bass, x)\n",
    "\n",
    "# plt.plot(qx,qy)\n",
    "plt.plot(qx, qy, \"-\", linewidth=2)\n",
    "plt.plot(qx, qy, \"k.\")\n",
    "plt.ylim(164, 196)\n",
    "plt.xlim(164, 196)\n",
    "plt.axline((0, 0), slope=1, color=\"r\")\n",
    "plt.ylabel(\"Bass height (cm)\")\n",
    "plt.xlabel(\"Tenor height (cm)\")\n",
    "plt.gca().set_aspect('equal')\n",
    "plt.show()"
   ]
  },
  {
   "cell_type": "markdown",
   "metadata": {},
   "source": [
    "### Box-whisker plot"
   ]
  },
  {
   "cell_type": "code",
   "execution_count": null,
   "metadata": {},
   "outputs": [],
   "source": [
    "\n",
    "plt.boxplot(data_sets, patch_artist = True, notch = True, showmeans = True)\n",
    "plt.xticks([1, 2, 3, 4], collumns)\n",
    "plt.ylabel(\"Height (cm)\")\n",
    "plt.show()"
   ]
  }
 ],
 "metadata": {
  "kernelspec": {
   "display_name": "Python 3",
   "language": "python",
   "name": "python3"
  },
  "language_info": {
   "codemirror_mode": {
    "name": "ipython",
    "version": 3
   },
   "file_extension": ".py",
   "mimetype": "text/x-python",
   "name": "python",
   "nbconvert_exporter": "python",
   "pygments_lexer": "ipython3",
   "version": "3.10.12"
  }
 },
 "nbformat": 4,
 "nbformat_minor": 2
}
