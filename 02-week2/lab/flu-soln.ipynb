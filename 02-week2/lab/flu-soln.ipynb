{
 "cells": [
  {
   "cell_type": "code",
   "execution_count": null,
   "metadata": {},
   "outputs": [],
   "source": [
    "import numpy as np\n",
    "import pandas as pd\n",
    "from matplotlib import pyplot as plt\n",
    "import scipy.stats as stats"
   ]
  },
  {
   "cell_type": "markdown",
   "metadata": {},
   "source": [
    "### Read in data: use pandas\n",
    "To deal with column of different types (col 1 has the dates as strings), we use pandas.\n",
    "You could use numpy with a little extra work."
   ]
  },
  {
   "cell_type": "code",
   "execution_count": null,
   "metadata": {},
   "outputs": [],
   "source": [
    "filename = \"flu.csv\"\n",
    "data = pd.read_csv(filename, skiprows=1, quotechar='\\'')"
   ]
  },
  {
   "cell_type": "code",
   "execution_count": null,
   "metadata": {},
   "outputs": [],
   "source": [
    "columns = list(data.columns)\n",
    "print(columns)"
   ]
  },
  {
   "cell_type": "markdown",
   "metadata": {},
   "source": [
    "Print means and standard errors, just for kicks.\n",
    "\n",
    "(nb: The standard error doesn't have much meaning for the time-series data here!)"
   ]
  },
  {
   "cell_type": "code",
   "execution_count": null,
   "metadata": {},
   "outputs": [],
   "source": [
    "for col in columns:\n",
    "    if col == columns[0]: continue\n",
    "    mean = np.mean(data[col])\n",
    "    error = stats.sem(data[col])\n",
    "    print(f\"{col:9} {mean:.2f} +/- {error:.2f}\")"
   ]
  },
  {
   "cell_type": "markdown",
   "metadata": {},
   "source": [
    "### Select the columns of just the region data (drop first + last)"
   ]
  },
  {
   "cell_type": "code",
   "execution_count": null,
   "metadata": {},
   "outputs": [],
   "source": [
    "regions = columns[1:len(columns)-1]\n",
    "print(regions)"
   ]
  },
  {
   "cell_type": "markdown",
   "metadata": {},
   "source": [
    "### Histogram"
   ]
  },
  {
   "cell_type": "code",
   "execution_count": null,
   "metadata": {},
   "outputs": [],
   "source": [
    "random_col = np.random.randint(1, len(columns)-2)\n",
    "col = columns[random_col]\n",
    "print(random_col)\n",
    "\n",
    "plt.hist(data[col])\n",
    "plt.xlabel(\"Fluiness\")\n",
    "plt.ylabel(\"Count\")\n",
    "plt.show()"
   ]
  },
  {
   "cell_type": "markdown",
   "metadata": {},
   "source": [
    "### Just for the sake of it: KDE"
   ]
  },
  {
   "cell_type": "code",
   "execution_count": null,
   "metadata": {},
   "outputs": [],
   "source": [
    "for region in regions:\n",
    "    x = np.linspace(min(data[region]), max(data[region]), 100)\n",
    "    kde = stats.gaussian_kde(data[region])\n",
    "    plt.plot(x, kde(x), linewidth = 2, label=region)\n",
    "    plt.fill_between(x, kde(x), alpha=0.4)\n",
    "plt.xlabel(\"Fluiness\")\n",
    "plt.ylabel(\"KDE\")\n",
    "plt.legend()\n",
    "plt.show()"
   ]
  },
  {
   "cell_type": "markdown",
   "metadata": {},
   "source": [
    "### Quantile"
   ]
  },
  {
   "cell_type": "code",
   "execution_count": null,
   "metadata": {},
   "outputs": [],
   "source": [
    "x = np.linspace(0.05, 1.0, 20)\n",
    "for region in regions:\n",
    "    set = data[region]\n",
    "    q = np.quantile(set, x)\n",
    "    # nb: change units, just in plot quantile -> percentile\n",
    "    plt.plot(x, q, label=region)\n",
    "plt.ylabel(\"Fluiness\")\n",
    "plt.xlabel(\"Quantile\")\n",
    "plt.legend()\n",
    "plt.show()"
   ]
  },
  {
   "cell_type": "markdown",
   "metadata": {},
   "source": [
    "### Q-Q plot"
   ]
  },
  {
   "cell_type": "code",
   "execution_count": null,
   "metadata": {},
   "outputs": [],
   "source": [
    "col1 = \"MidAtl\"\n",
    "col2 = \"SAtl\"\n",
    "x = np.linspace(0.05, 1.0, 20)\n",
    "q1 = np.quantile(data[col1], x)\n",
    "q2 = np.quantile(data[col2], x)\n",
    "axmin = min(min(data[col1]), min(data[col2]))\n",
    "axmax = max(max(data[col1]), max(data[col2]))\n",
    "plt.axline((0.5, 0.5), slope=1, color=\"r\")\n",
    "plt.plot(q1,q2,\"-\", linewidth=2)\n",
    "plt.plot(q1,q2,\"k.\")\n",
    "plt.gca().set_aspect('equal')\n",
    "plt.xticks()\n",
    "plt.ylim(0.95*axmin, 1.05*axmax)\n",
    "plt.xlim(0.95*axmin, 1.05*axmax)\n",
    "plt.ylabel(col1 + \" fluiness\")\n",
    "plt.xlabel(col2 + \" fluiness\")\n",
    "plt.show()"
   ]
  },
  {
   "cell_type": "markdown",
   "metadata": {},
   "source": [
    "### Tukey mean-difference plot\n",
    "\n",
    "Given two quantiles, $q_1(x)$ and $q_2(x)$, \n",
    "the Tukey mean difference plot is a plot of $Y$ vs. $X$, where:\n",
    "$$ Y(x) = q_2(x) - q_1(x) $$\n",
    "$$ X(x) = \\frac{1}{2}\\left[ q_1(x) + q_2(x) \\right] $$\n",
    "That is, it plots the difference of the quantiles against their average. The advantage of the Tukey mean-difference compared to the q-q plot is that it converts interpretation of the differences around a 45 degree diagonal line to interpretation of differences around a horizontal zero line. "
   ]
  },
  {
   "cell_type": "code",
   "execution_count": null,
   "metadata": {},
   "outputs": [],
   "source": [
    "x = 0.5*(q1+q2)\n",
    "y = q2-q1\n",
    "plt.plot(x,y,\"-\", linewidth=2)\n",
    "plt.plot(x,y,\"k.\")\n",
    "plt.axline((0.5, 0.0), slope=0, color=\"r\")\n",
    "plt.show()"
   ]
  },
  {
   "cell_type": "markdown",
   "metadata": {},
   "source": [
    "### Extract and convert the dates (from text to 'datetime') to use in labels, and for plotting as time-series:\n",
    "\n",
    "(Technically time-series data, not just univariate data)\n",
    "\n",
    "So, do this relative to the 1/1/2006 (will run from -ve to +ve)"
   ]
  },
  {
   "cell_type": "code",
   "execution_count": null,
   "metadata": {},
   "outputs": [],
   "source": [
    "from datetime import datetime\n",
    "\n",
    "dates = [datetime.strptime(date, '%m/%d/%Y') for date in data[\"Date\"]]\n",
    "\n",
    "plt.plot(dates, data[\"MidAtl\"])\n",
    "plt.show()"
   ]
  },
  {
   "cell_type": "markdown",
   "metadata": {},
   "source": [
    "### Heat maps (all regions on same plot)"
   ]
  },
  {
   "cell_type": "code",
   "execution_count": null,
   "metadata": {},
   "outputs": [],
   "source": [
    "import seaborn as sns\n",
    "\n",
    "region_data = data[regions]\n",
    "\n",
    "ax = sns.heatmap(region_data)\n",
    "plt.show()"
   ]
  },
  {
   "cell_type": "markdown",
   "metadata": {},
   "source": [
    "### it would be better the other way..."
   ]
  },
  {
   "cell_type": "code",
   "execution_count": null,
   "metadata": {},
   "outputs": [],
   "source": [
    "ax = sns.heatmap(region_data.transpose())\n",
    "plt.show()"
   ]
  },
  {
   "cell_type": "markdown",
   "metadata": {},
   "source": [
    "### ... and what about actual labels, instead of just column numbers:"
   ]
  },
  {
   "cell_type": "code",
   "execution_count": null,
   "metadata": {},
   "outputs": [],
   "source": [
    "date_labels = []\n",
    "for i, date in enumerate(dates):\n",
    "  label = str(date.day) + \"-\" + date.strftime(\"%b\")+ \"-\" + date.strftime(\"%y\")\n",
    "  date_labels.append(label)\n",
    "\n",
    "print(date_labels)\n",
    "\n",
    "ax = sns.heatmap(region_data.transpose(), xticklabels=date_labels)\n",
    "plt.show()"
   ]
  },
  {
   "cell_type": "markdown",
   "metadata": {},
   "source": [
    "### Ew, let's try that again"
   ]
  },
  {
   "cell_type": "code",
   "execution_count": null,
   "metadata": {},
   "outputs": [],
   "source": [
    "date_labels = []\n",
    "for i, date in enumerate(dates):\n",
    "  label = \"\"\n",
    "  # Only use every 10th date as a label, leave the rest blank\n",
    "  if i%10 == 0:\n",
    "    label = str(date.day) + \"-\" + date.strftime(\"%b\")+ \"-\" + date.strftime(\"%y\")\n",
    "  date_labels.append(label)\n",
    "\n",
    "print(date_labels)\n",
    "\n",
    "ax = sns.heatmap(region_data.transpose(), xticklabels=date_labels)\n",
    "plt.show()"
   ]
  },
  {
   "cell_type": "markdown",
   "metadata": {},
   "source": [
    "### Rotate the labels, for easier reading. And change colourmap colour"
   ]
  },
  {
   "cell_type": "code",
   "execution_count": null,
   "metadata": {},
   "outputs": [],
   "source": [
    "print(list(plt.colormaps))\n",
    "\n",
    "ax = sns.heatmap(region_data.transpose(), xticklabels=date_labels, cmap = \"icefire\")\n",
    "ax.set_title(\"Fluiness\")\n",
    "ax.set_xticklabels(date_labels, rotation=50)\n",
    "plt.show()"
   ]
  },
  {
   "cell_type": "markdown",
   "metadata": {},
   "source": [
    "### 6. Bar charts"
   ]
  },
  {
   "cell_type": "code",
   "execution_count": null,
   "metadata": {},
   "outputs": [],
   "source": [
    "fig, axs = plt.subplots(nrows=2, ncols=1)\n",
    "axs[0].bar(dates, data[\"Mtn\"], align='center', width=5)\n",
    "axs[0].bar(dates, data[\"NE\"], align='center', width=5, alpha=0.5)\n",
    "axs[0].set_ylabel(\"Fluiness\")\n",
    "axs[1].barh(dates, data[\"Mtn\"], align='center', height=5, label=\"Mtn\")\n",
    "axs[1].barh(dates, data[\"NE\"], align='center', height=5, alpha=0.5,  label=\"NE\")\n",
    "axs[1].set_xlabel(\"Fluiness\")\n",
    "plt.legend()\n",
    "plt.show()"
   ]
  },
  {
   "cell_type": "markdown",
   "metadata": {},
   "source": [
    "### Stairs, stem:"
   ]
  },
  {
   "cell_type": "code",
   "execution_count": null,
   "metadata": {},
   "outputs": [],
   "source": [
    "plt.stairs(data[\"Mtn\"])\n",
    "plt.show()"
   ]
  },
  {
   "cell_type": "code",
   "execution_count": null,
   "metadata": {},
   "outputs": [],
   "source": [
    "plt.stem(data[\"Mtn\"])\n",
    "plt.show()"
   ]
  },
  {
   "cell_type": "markdown",
   "metadata": {},
   "source": [
    "### Sparklines"
   ]
  },
  {
   "cell_type": "code",
   "execution_count": null,
   "metadata": {},
   "outputs": [],
   "source": [
    "fig, axs = plt.subplots(nrows=len(regions), ncols=1)\n",
    "for i, region in enumerate(regions):\n",
    "    axs[i].plot(data[region], color=f\"C{i}\")\n",
    "    axs[i].text(40, 1.5, region, color=f\"C{i}\")\n",
    "    axs[i].axis(\"off\")\n",
    "plt.show()"
   ]
  },
  {
   "cell_type": "markdown",
   "metadata": {},
   "source": [
    "### We can leave the date labels if we like\n",
    "* You can probably make this look nicer!"
   ]
  },
  {
   "cell_type": "code",
   "execution_count": null,
   "metadata": {},
   "outputs": [],
   "source": [
    "fig, axs = plt.subplots(nrows=len(regions), ncols=1)\n",
    "for i, region in enumerate(regions):\n",
    "    axs[i].plot(dates, data[region], color=f\"C{i}\")\n",
    "    axs[i].text(dates[40], 1.35, region, color=f\"C{i}\")\n",
    "    axs[i].axis(\"off\")\n",
    "axs[-1].axis(\"on\")\n",
    "axs[-1].set_yticks([])\n",
    "for pos in ['right', 'top', 'left']:\n",
    "   plt.gca().spines[pos].set_visible(False)\n",
    "plt.show()"
   ]
  },
  {
   "cell_type": "markdown",
   "metadata": {},
   "source": [
    "### Steam graph (stacked)"
   ]
  },
  {
   "cell_type": "code",
   "execution_count": null,
   "metadata": {},
   "outputs": [],
   "source": [
    "plt.stackplot(dates, region_data.transpose())\n",
    "ax.axhline(0, color=\"black\", ls=\"--\")\n",
    "plt.show()"
   ]
  },
  {
   "cell_type": "code",
   "execution_count": null,
   "metadata": {},
   "outputs": [],
   "source": [
    "plt.stackplot(dates, 0.5*region_data.transpose())\n",
    "# Reset the colour cycles:\n",
    "plt.gca().set_prop_cycle(None)\n",
    "plt.stackplot(dates, -0.5*region_data.transpose())\n",
    "ax.axhline(0, color=\"black\", ls=\"--\")\n",
    "# plt.axis(\"off\")\n",
    "plt.yticks([])\n",
    "for pos in ['right', 'top','bottom', 'left']:\n",
    "   plt.gca().spines[pos].set_visible(False)\n",
    "plt.show()"
   ]
  },
  {
   "cell_type": "markdown",
   "metadata": {},
   "source": [
    "### .. or spaced"
   ]
  },
  {
   "cell_type": "code",
   "execution_count": null,
   "metadata": {},
   "outputs": [],
   "source": [
    "fig, axs = plt.subplots(nrows=len(regions), ncols=1)\n",
    "for i, region in enumerate(regions):\n",
    "    # Sorry: this was the  mistake:\n",
    "    # axs[i].stackplot(dates, 0.5*region_data.transpose(), color=f\"C{i}\")\n",
    "    # axs[i].stackplot(dates, -0.5*region_data.transpose(), color=f\"C{i}\")\n",
    "    # Here is corrected\n",
    "    y1 = 0.5*data[region]\n",
    "    y2 = -0.5*data[region]\n",
    "    axs[i].fill_between(dates, y1, y2, color=f\"C{i}\")\n",
    "    axs[i].text(dates[40], 1.5, region, color=f\"C{i}\")\n",
    "    axs[i].axis(\"off\")\n",
    "axs[-1].axis(\"on\")\n",
    "axs[-1].set_yticks([])\n",
    "for pos in ['right', 'top', 'left']:\n",
    "   plt.gca().spines[pos].set_visible(False)\n",
    "plt.show()"
   ]
  },
  {
   "cell_type": "markdown",
   "metadata": {},
   "source": [
    "### Box plots"
   ]
  },
  {
   "cell_type": "code",
   "execution_count": null,
   "metadata": {},
   "outputs": [],
   "source": [
    "plt.boxplot(region_data, patch_artist = True, notch = True, showmeans = True)\n",
    "plt.xticks(list(range(1, len(regions)+1)), regions, rotation=50)\n",
    "plt.ylabel(\"Fluiness\")\n",
    "plt.show()"
   ]
  }
 ],
 "metadata": {
  "kernelspec": {
   "display_name": "Python 3",
   "language": "python",
   "name": "python3"
  },
  "language_info": {
   "codemirror_mode": {
    "name": "ipython",
    "version": 3
   },
   "file_extension": ".py",
   "mimetype": "text/x-python",
   "name": "python",
   "nbconvert_exporter": "python",
   "pygments_lexer": "ipython3",
   "version": "3.12.2"
  }
 },
 "nbformat": 4,
 "nbformat_minor": 2
}
