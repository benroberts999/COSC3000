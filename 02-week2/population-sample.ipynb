{
 "cells": [
  {
   "cell_type": "code",
   "execution_count": null,
   "metadata": {},
   "outputs": [],
   "source": [
    "import numpy as np\n",
    "from matplotlib import pyplot as plt\n",
    "import scipy.stats as stats"
   ]
  },
  {
   "cell_type": "markdown",
   "metadata": {},
   "source": [
    "### Generate \"population\" (v. large N) from which we'll sample"
   ]
  },
  {
   "cell_type": "code",
   "execution_count": null,
   "metadata": {},
   "outputs": [],
   "source": [
    "mean = 12.0\n",
    "sdev = 1.5\n",
    "Ntotal = 100000\n",
    "population = np.random.normal(mean, sdev, Ntotal)\n",
    "\n",
    "pop_mean = np.mean(population)\n",
    "pop_std = np.std(population)\n",
    "print(f\"mean = {pop_mean:.2f}, sdev = {pop_std:.2f}\")"
   ]
  },
  {
   "cell_type": "markdown",
   "metadata": {},
   "source": [
    "### Plot \"perfect\" histogram:"
   ]
  },
  {
   "cell_type": "code",
   "execution_count": null,
   "metadata": {},
   "outputs": [],
   "source": [
    "plt.xlim(mean - 4 * sdev, mean + 4 * sdev)\n",
    "plt.hist(population, bins=100, density=True)\n",
    "\n",
    "# Also plot actual gaussian, for comparison\n",
    "x = np.linspace(mean - 4 * sdev, mean + 4 * sdev, 100)\n",
    "plt.plot(x, stats.norm.pdf(x, mean, sdev), label=\"Gaussian\", linewidth=3)\n",
    "\n",
    "plt.ylabel(\"Probability density (normalised)\")\n",
    "plt.legend()\n",
    "plt.show()"
   ]
  },
  {
   "cell_type": "markdown",
   "metadata": {},
   "source": [
    "### Simulate reality: Randomly sample from the population:"
   ]
  },
  {
   "cell_type": "code",
   "execution_count": null,
   "metadata": {},
   "outputs": [],
   "source": [
    "sample_size = 50\n",
    "sample = np.random.choice(population, sample_size)\n",
    "\n",
    "s_mean = np.mean(sample)\n",
    "s_sdev = np.std(sample)\n",
    "s_sdev_c = np.std(sample, ddof=1)\n",
    "sem = stats.sem(sample)\n",
    "\n",
    "print(f\"Random sample of size: {sample_size}\")\n",
    "print(\n",
    "    f\"Sample: mean = {s_mean:.2f}, S.E.M = {sem:.2f}, sdev = {s_sdev:.2f}, sdev(cor.) = {s_sdev_c:.2f}\"\n",
    ")\n",
    "print(f\"True  : mean = {mean:.2f},               sdev = {sdev:.2f}\")"
   ]
  },
  {
   "cell_type": "markdown",
   "metadata": {},
   "source": [
    "For instruction: manual calculations"
   ]
  },
  {
   "cell_type": "code",
   "execution_count": null,
   "metadata": {},
   "outputs": [],
   "source": [
    "n = len(sample)\n",
    "mean_2 = np.sum(sample) / n\n",
    "sdev2 = np.sqrt(np.sum((sample - mean_2) ** 2) / n)\n",
    "sdev_c_2 = np.sqrt(np.sum((sample - mean_2) ** 2) / (n - 1))\n",
    "sem_2 = sdev_c_2 / np.sqrt(sample_size)\n",
    "\n",
    "print(\n",
    "    f\"Sample: mean = {mean_2:.2f}, S.E.M = = {sem_2:.2f}, sdev = {sdev2:.2f}, sdev(cor.) = {sdev_c_2:.2f}\"\n",
    ")"
   ]
  },
  {
   "cell_type": "markdown",
   "metadata": {},
   "source": [
    "### Histogram:\n",
    "  * Run multiple times to see how sampling can affect"
   ]
  },
  {
   "cell_type": "code",
   "execution_count": null,
   "metadata": {},
   "outputs": [],
   "source": [
    "sample = np.random.choice(population, sample_size)\n",
    "\n",
    "s_mean, s_sdev, s_sdev_c = np.mean(sample), np.std(sample), np.std(sample, ddof=1)\n",
    "sem = stats.sem(sample)\n",
    "\n",
    "plt.title(f\"mean = {s_mean:.2f}$\\\\pm${sem:.2f}, $\\\\sigma$ = {s_sdev_c:.2f}\")\n",
    "plt.ylim(0, 1.6 / (sdev * np.sqrt(2 * np.pi)))\n",
    "plt.xlim(mean - 4 * sdev, mean + 4 * sdev)\n",
    "plt.hist(sample, bins=15, density=True)\n",
    "\n",
    "# Also plot actual gaussian, for comparison\n",
    "plt.plot(x, stats.norm.pdf(x, s_mean, s_sdev_c), label=\"Sample\", linewidth=3)\n",
    "plt.plot(x, stats.norm.pdf(x, mean, sdev), \"k-\", label=\"True\", linewidth=2)\n",
    "\n",
    "plt.ylabel(\"Probability density (normalised)\")\n",
    "plt.legend()\n",
    "plt.show()\n",
    "\n",
    "print(f\"k3 = {stats.skew(sample):.2f}\")\n",
    "print(f\"k4 = {stats.kurtosis(sample):.2f}\")"
   ]
  },
  {
   "cell_type": "markdown",
   "metadata": {},
   "source": [
    "### Kernel density estimation (kde)\n",
    "\n",
    "* Smooths out histogram\n",
    "* Be careful - looks nice, but often unhelpful!\n",
    "* Great when there is a very good/dense histrogram\n",
    "  * Misleading when not!\n",
    "* Often: good idea to plot actual historgram too, so not to be misleading!"
   ]
  },
  {
   "cell_type": "code",
   "execution_count": null,
   "metadata": {},
   "outputs": [],
   "source": [
    "t_sample = np.random.choice(population, 3 * sample_size)\n",
    "\n",
    "plt.title(f\"mean = {s_mean:.2f}$\\\\pm${sem:.2f}, $\\\\sigma$ = {s_sdev_c:.2f}\")\n",
    "plt.ylim(0, 1.6 / (sdev * np.sqrt(2 * np.pi)))\n",
    "plt.xlim(mean - 4 * sdev, mean + 4 * sdev)\n",
    "plt.hist(t_sample, bins=15, density=True)\n",
    "\n",
    "kde = stats.gaussian_kde(t_sample)\n",
    "plt.plot(x, kde(x), label=\"KDE\", linewidth=2.5)\n",
    "plt.plot(x, stats.norm.pdf(x, mean, sdev), \"k-\", label=\"True\", linewidth=2)\n",
    "\n",
    "plt.ylabel(\"Probability density (normalised)\")\n",
    "plt.legend()\n",
    "plt.show()"
   ]
  },
  {
   "cell_type": "markdown",
   "metadata": {},
   "source": [
    "### Monte-Carlo check of Standard Error (in the mean)\n",
    "  * Use \"Monte Carlo\" method to check Standard Error (in the mean)\n",
    "  * For a large number of random samples, calculate the mean\n",
    "  * Plot the distribution of the means\n",
    "  * Check that the standard deviation of this matches S.E.M"
   ]
  },
  {
   "cell_type": "code",
   "execution_count": null,
   "metadata": {},
   "outputs": [],
   "source": [
    "def random_sample(t_sample_size):\n",
    "    return np.random.choice(population, t_sample_size)\n",
    "\n",
    "\n",
    "mean_list = []\n",
    "for _ in range(1000):\n",
    "    mean_list.append(np.mean(random_sample(sample_size)))\n",
    "\n",
    "mean_mean = np.mean(mean_list)\n",
    "sdev_mean = np.std(mean_list, ddof=1)\n",
    "\n",
    "# get standard error from *just one* sample:\n",
    "sem = stats.sem(random_sample(sample_size))\n",
    "\n",
    "plt.title(f\"Distribution of sample (N={sample_size}) means: S.E.M={sem:.2f}\")\n",
    "plt.xlim(mean - 4 * sem, mean + 4 * sem)\n",
    "plt.hist(mean_list, bins=30, density=True)\n",
    "x2 = np.linspace(mean - 4 * sem, mean + 4 * sem, 100)\n",
    "plt.ylabel(\"Probability density (normalised)\")\n",
    "plt.xlabel(\"Sample mean\")\n",
    "plt.plot(\n",
    "    x2,\n",
    "    stats.norm.pdf(x2, mean_mean, sem),\n",
    "    label=f\"$\\\\sigma$={sdev_mean:.2f}\",\n",
    "    linewidth=3,\n",
    ")\n",
    "plt.legend()\n",
    "plt.show()"
   ]
  }
 ],
 "metadata": {
  "kernelspec": {
   "display_name": "Python 3",
   "language": "python",
   "name": "python3"
  },
  "language_info": {
   "codemirror_mode": {
    "name": "ipython",
    "version": 3
   },
   "file_extension": ".py",
   "mimetype": "text/x-python",
   "name": "python",
   "nbconvert_exporter": "python",
   "pygments_lexer": "ipython3",
   "version": "3.10.12"
  }
 },
 "nbformat": 4,
 "nbformat_minor": 2
}
