{
 "cells": [
  {
   "cell_type": "markdown",
   "metadata": {},
   "source": [
    "# Interpolation"
   ]
  },
  {
   "cell_type": "markdown",
   "metadata": {},
   "source": [
    "* linear, splines\n",
    "* LOESS (from before)\n",
    "* griddata\n",
    "* warning\n",
    "* fit to model\n",
    "\n",
    "* https://docs.scipy.org/doc/scipy/reference/interpolate.html\n",
    "* https://docs.scipy.org/doc/scipy/tutorial/interpolate.html"
   ]
  },
  {
   "cell_type": "markdown",
   "metadata": {},
   "source": [
    "## 1D interpolation\n",
    "\n",
    "### Simplest: linear"
   ]
  },
  {
   "cell_type": "code",
   "execution_count": null,
   "metadata": {},
   "outputs": [],
   "source": [
    "import numpy as np\n",
    "import matplotlib.pyplot as plt\n",
    "%matplotlib inline"
   ]
  },
  {
   "cell_type": "code",
   "execution_count": null,
   "metadata": {},
   "outputs": [],
   "source": [
    "def f1(x):\n",
    "    return np.sin(x + np.pi / 5)\n",
    "\n",
    "\n",
    "# Generate spare data (very simply example)\n",
    "datax = np.linspace(0, 2 * np.pi, 10)\n",
    "datay = f1(datax)\n",
    "\n",
    "plt.plot(datax, datay, \"bo\")\n",
    "plt.show()"
   ]
  },
  {
   "cell_type": "code",
   "execution_count": null,
   "metadata": {},
   "outputs": [],
   "source": [
    "x = np.linspace(0, 2 * np.pi, 100)\n",
    "y = np.interp(x, datax, datay)\n",
    "\n",
    "plt.plot(datax, datay, \"bo\", label=\"data\")\n",
    "plt.plot(x, y, c=\"orange\", label=\"interpolation (linear)\")\n",
    "plt.plot(x, f1(x), \"k--\", label=\"'true' function\")\n",
    "plt.legend()\n",
    "plt.show()"
   ]
  },
  {
   "cell_type": "markdown",
   "metadata": {},
   "source": [
    "### Cubic splines - very common methos that works well\n",
    "* See documentation for more details, options, methods etc.\n",
    "* https://docs.scipy.org/doc/scipy/reference/interpolate.html"
   ]
  },
  {
   "cell_type": "code",
   "execution_count": null,
   "metadata": {},
   "outputs": [],
   "source": [
    "from scipy.interpolate import CubicSpline\n",
    "\n",
    "spline_fit = CubicSpline(datax, datay)\n",
    "\n",
    "plt.plot(datax, datay, \"bo\", label=\"data\")\n",
    "plt.plot(x, y, c=\"orange\", label=\"interpolation (linear)\")\n",
    "plt.plot(x, spline_fit(x), c=\"red\", label=\"interpolation (cubic splines)\")\n",
    "plt.plot(x, f1(x), \"k--\", label=\"'true' function\")\n",
    "plt.legend()\n",
    "plt.show()"
   ]
  },
  {
   "cell_type": "code",
   "execution_count": null,
   "metadata": {},
   "outputs": [],
   "source": [
    "from scipy.interpolate import CubicSpline\n",
    "\n",
    "x2 = np.linspace(-np.pi, 3 * np.pi, 100)\n",
    "y2 = np.interp(x2, datax, datay)\n",
    "\n",
    "spline_fit = CubicSpline(datax, datay)\n",
    "\n",
    "plt.plot(datax, datay, \"bo\", label=\"data\")\n",
    "plt.plot(x2, y2, c=\"orange\", label=\"interpolation (linear)\")\n",
    "plt.plot(x2, spline_fit(x2), c=\"red\", label=\"interpolation (cubic splines)\")\n",
    "plt.plot(x2, f1(x2), \"k--\", label=\"'true' function\")\n",
    "plt.title(\"Be careful extrapolating\")\n",
    "plt.legend()\n",
    "plt.show()"
   ]
  },
  {
   "cell_type": "code",
   "execution_count": null,
   "metadata": {},
   "outputs": [],
   "source": [
    "# A more complicated function\n",
    "def f2(x):\n",
    "    return np.sin(x + np.pi / 4) * np.exp(-((x - 3) ** 2) / 5) * np.cos(4 * x)\n",
    "\n",
    "\n",
    "data2 = f2(datax)\n",
    "\n",
    "x3 = np.linspace(-0.5, 2 * np.pi + 0.5, 100)\n",
    "linear_y = np.interp(x3, datax, data2)\n",
    "spline_fit = CubicSpline(datax, data2)\n",
    "\n",
    "plt.plot(datax, data2, \"bo\", label=\"data\")\n",
    "plt.plot(x3, linear_y, c=\"orange\", label=\"interpolation (linear)\")\n",
    "plt.plot(x3, spline_fit(x3), c=\"red\", label=\"interpolation (cubic splines)\")\n",
    "plt.plot(x3, f2(x3), \"k--\", label=\"'true' function\")\n",
    "plt.title(\"Not magic: be generally careful!\")\n",
    "plt.legend()\n",
    "plt.show()"
   ]
  },
  {
   "cell_type": "markdown",
   "metadata": {},
   "source": [
    "* If there's a good theoretitical model to use, then often better to fit the data to the model (see examples from few weeks back about model fitting)"
   ]
  },
  {
   "cell_type": "markdown",
   "metadata": {},
   "source": [
    "-----\n",
    "## Interpolation as smoothing\n",
    "\n",
    "* Normally, interpolation passes through all the data point\n",
    "* If data is noisy, that's probably not what you want!\n",
    "* When we have lots of data, the savgol-type (~LOESS) smoothing methods work wekk (see week 4). But if there's not too much data, spline smoothing works well"
   ]
  },
  {
   "cell_type": "code",
   "execution_count": null,
   "metadata": {},
   "outputs": [],
   "source": [
    "datax2 = np.linspace(0.0, 2 * np.pi, 50)\n",
    "noise = np.random.normal(0.0, 0.07, len(datax2))\n",
    "datay2 = f2(datax2) + noise\n",
    "\n",
    "plt.plot(datax2, datay2, \"bo\", label=\"data\")\n",
    "plt.plot(x, f2(x), \"k--\", label=\"'true' function\")\n",
    "plt.legend()\n",
    "plt.show()"
   ]
  },
  {
   "cell_type": "code",
   "execution_count": null,
   "metadata": {},
   "outputs": [],
   "source": [
    "from scipy.interpolate import splrep, BSpline\n",
    "\n",
    "tck = splrep(datax2, datay2, s=0)\n",
    "tck_1 = splrep(datax2, datay2, s=1)\n",
    "\n",
    "\n",
    "plt.plot(datax2, datay2, \"bo\", label=\"data\")\n",
    "plt.plot(x, BSpline(*tck)(x), c=\"orange\", label=\"No smoothing\")\n",
    "plt.plot(x, BSpline(*tck_1)(x), c=\"red\", label=\"With s=1 smoothing\")\n",
    "plt.plot(x, f2(x), \"k--\", label=\"'true' function\")\n",
    "plt.legend()\n",
    "plt.show()"
   ]
  },
  {
   "cell_type": "markdown",
   "metadata": {},
   "source": [
    "This can be better than the savgol (~LOESS) smoothing we used before in the case where there isn't too much data.\n",
    "The savgol filter still werks better when there's lots of data (see week 4)"
   ]
  },
  {
   "cell_type": "code",
   "execution_count": null,
   "metadata": {},
   "outputs": [],
   "source": [
    "from scipy import signal\n",
    "\n",
    "y_smooth = signal.savgol_filter(datay2, window_length=4, polyorder=2, mode=\"nearest\")\n",
    "\n",
    "plt.plot(datax2, datay2, \"bo\", label=\"data\")\n",
    "plt.plot(datax2, y_smooth, c=\"orange\", label=\"savgol_filter\")\n",
    "plt.plot(x, BSpline(*tck)(x), c=\"red\", label=\"spline smoothing\")\n",
    "plt.plot(x, f2(x), \"k--\", label=\"'true' function\")\n",
    "plt.legend()\n",
    "plt.show()"
   ]
  },
  {
   "cell_type": "markdown",
   "metadata": {},
   "source": [
    "-------------\n",
    "## Interpolating mutli-dimensional data\n",
    "\n",
    "Two cases: \n",
    "* regular data (uniformly-spaced grid)\n",
    "    * https://docs.scipy.org/doc/scipy/tutorial/interpolate/ND_regular_grid.html\n",
    "    * https://docs.scipy.org/doc/scipy/reference/generated/scipy.interpolate.RegularGridInterpolator.html\n",
    "* irregular data (non-uniformly-spaced grid)\n",
    "    * https://docs.scipy.org/doc/scipy/tutorial/interpolate/ND_unstructured.html\n",
    "    * https://docs.scipy.org/doc/scipy/reference/generated/scipy.interpolate.griddata.html\n"
   ]
  },
  {
   "cell_type": "markdown",
   "metadata": {},
   "source": [
    "### Regular data (known on a uniformly-spaced grid)"
   ]
  },
  {
   "cell_type": "code",
   "execution_count": null,
   "metadata": {},
   "outputs": [],
   "source": [
    "from scipy.interpolate import RegularGridInterpolator\n",
    "\n",
    "\n",
    "# Example function\n",
    "def F(u, v):\n",
    "    return u * np.cos(u * v) + v * np.sin(u * v)\n",
    "\n",
    "\n",
    "xgrid = np.linspace(0, 3.0, 8)\n",
    "ygrid = np.linspace(0, 3.0, 11)\n",
    "\n",
    "# \"Sampled\" data\n",
    "Xs, Ys = np.meshgrid(xgrid, ygrid)\n",
    "Zs = F(Xs, Ys)"
   ]
  },
  {
   "cell_type": "code",
   "execution_count": null,
   "metadata": {},
   "outputs": [],
   "source": [
    "fig, [ax1, ax2] = plt.subplots(2)\n",
    "\n",
    "x = np.linspace(0, 3.0, 100)\n",
    "y = np.linspace(0, 3.0, 100)\n",
    "X, Y = np.meshgrid(x, y)\n",
    "Z = F(X, Y)\n",
    "\n",
    "ax1.pcolormesh(X, Y, Z)\n",
    "ax1.set_title(\"True function\")\n",
    "ax2.pcolormesh(Xs, Ys, Zs)\n",
    "ax2.set_title(\"Finite-sampled\")\n",
    "fig.tight_layout()\n",
    "plt.show()"
   ]
  },
  {
   "cell_type": "code",
   "execution_count": null,
   "metadata": {},
   "outputs": [],
   "source": [
    "# Form the interpolation: note the transpose\n",
    "interp = RegularGridInterpolator([xgrid, ygrid], Zs.T)\n",
    "\n",
    "# create array of 2D (x,y) points to interpolate onto\n",
    "test_points = np.array([X.flatten(), Y.flatten()]).T\n",
    "\n",
    "fig, axes = plt.subplots(2, 3, figsize=(10, 6))\n",
    "axes = axes.flatten()\n",
    "for i, method in enumerate([\"nearest\", \"linear\", \"slinear\", \"cubic\", \"quintic\"]):\n",
    "    im = interp(test_points, method=method).reshape(len(x), len(y))\n",
    "    axes[i].pcolormesh(X, Y, im)\n",
    "    axes[i].set_title(method)\n",
    "axes[-1].pcolormesh(X, Y, Z)\n",
    "axes[-1].set_title(\"True function\")\n",
    "fig.tight_layout()\n",
    "plt.show()"
   ]
  },
  {
   "cell_type": "markdown",
   "metadata": {},
   "source": [
    "-----\n",
    "## non-uniform grid data\n",
    "\n",
    "* Very often, we have data in the form:\n",
    "```\n",
    "x1 y1 z1\n",
    "x2 y2 z2\n",
    "x3 y3 z3\n",
    "...\n",
    "xN yN zN\n",
    "```\n",
    "\n",
    "Where the spacing between each of the x's (and y's etc.) is not always the same, and not even necisarily in order!"
   ]
  },
  {
   "cell_type": "code",
   "execution_count": null,
   "metadata": {},
   "outputs": [],
   "source": [
    "# Define some 2D function as an example:\n",
    "def f3(x, y):\n",
    "    return 2 - 2 * np.cos(x) * np.cos(y) - np.cos(x - 2 * y)"
   ]
  },
  {
   "cell_type": "code",
   "execution_count": null,
   "metadata": {},
   "outputs": [],
   "source": [
    "# Generate data set by randomly sampling the function 100 times\n",
    "# Simulates real, non-uniform, non-ordered data\n",
    "\n",
    "# To make randomness reproducable\n",
    "np.random.seed(19680801)\n",
    "\n",
    "xmin, xmax = -np.pi, np.pi\n",
    "ymin, ymax = 0, 2 * np.pi\n",
    "num_samples = 250\n",
    "data = []\n",
    "for i in range(num_samples):\n",
    "    x = np.random.uniform(xmin, xmax)\n",
    "    y = np.random.uniform(ymin, ymax)\n",
    "    z = f3(x, y)\n",
    "    data.append([x, y, z])\n",
    "data = np.array(data)\n",
    "\n",
    "print(data)"
   ]
  },
  {
   "cell_type": "code",
   "execution_count": null,
   "metadata": {},
   "outputs": [],
   "source": [
    "# Just for convenience:\n",
    "xdata = data[:, 0]\n",
    "ydata = data[:, 1]\n",
    "zdata = data[:, 2]\n",
    "\n",
    "plt.scatter(xdata, ydata, marker=\"x\", c=zdata, cmap=\"coolwarm\")\n",
    "plt.colorbar()\n",
    "plt.show()"
   ]
  },
  {
   "cell_type": "code",
   "execution_count": null,
   "metadata": {},
   "outputs": [],
   "source": [
    "from scipy.interpolate import griddata\n",
    "\n",
    "# Get xy data as array of 2D points\n",
    "xy_data = data[0:, :2]\n",
    "# Equivilant to:\n",
    "# xy_data = np.column_stack((x, y))\n",
    "\n",
    "\n",
    "# Find min/max sample points:\n",
    "xi, xf = np.min(xdata), np.max(xdata)\n",
    "yi, yf = np.min(ydata), np.max(ydata)\n",
    "\n",
    "# Create fine grid of points\n",
    "xs = np.linspace(xi, xf, 100)\n",
    "ys = np.linspace(yi, yf, 100)\n",
    "X, Y = np.meshgrid(xs, ys)\n",
    "\n",
    "# interpolate data onto our fine grid\n",
    "Z_near = griddata(xy_data, zdata, (X, Y), method=\"nearest\")\n",
    "Z_lin = griddata(xy_data, zdata, (X, Y), method=\"linear\")\n",
    "Z_cub = griddata(xy_data, zdata, (X, Y), method=\"cubic\")\n",
    "\n",
    "# \"True\" function, just for comparison\n",
    "Z_true = f3(X, Y)"
   ]
  },
  {
   "cell_type": "code",
   "execution_count": null,
   "metadata": {},
   "outputs": [],
   "source": [
    "import matplotlib.cm as cm\n",
    "from matplotlib.colors import Normalize\n",
    "\n",
    "fig, axs = plt.subplots(2, 2, figsize=(10, 6), layout=\"constrained\")\n",
    "fig.tight_layout(pad=1.5)\n",
    "\n",
    "axs = axs.flatten()\n",
    "\n",
    "# Use the same colormap for all sub-plots:\n",
    "# (This time, it would be close enough without bothering, but not always the case!)\n",
    "normalizer = Normalize(zdata.min(), zdata.max())\n",
    "im = cm.ScalarMappable(norm=normalizer, cmap=\"cividis\")\n",
    "fig.colorbar(im, ax=axs)\n",
    "\n",
    "axs[0].scatter(xdata, ydata, marker=\"x\", c=zdata, cmap=\"cividis\", norm=normalizer)\n",
    "axs[0].set_title(\"Sampled data\")\n",
    "\n",
    "axs[1].pcolormesh(X, Y, Z_true, cmap=\"cividis\", norm=normalizer)\n",
    "axs[1].set_title(\"True function\")\n",
    "\n",
    "axs[2].pcolormesh(X, Y, Z_near, cmap=\"cividis\", norm=normalizer)\n",
    "axs[2].set_title(\"Interpolation (nearest)\")\n",
    "\n",
    "axs[3].pcolormesh(X, Y, Z_lin, cmap=\"cividis\", norm=normalizer)\n",
    "axs[3].set_title(\"Interpolation (linear)\")\n",
    "\n",
    "\n",
    "plt.show()"
   ]
  },
  {
   "cell_type": "code",
   "execution_count": null,
   "metadata": {},
   "outputs": [],
   "source": [
    "fig, (ax1, ax2) = plt.subplots(nrows=2)\n",
    "\n",
    "\n",
    "ax1.set_title(\"Contours, using interp'd data\")\n",
    "ax1.contour(X, Y, Z_lin, colors=\"k\")\n",
    "cntr1 = ax1.contourf(X, Y, Z_lin, cmap=\"cividis\")\n",
    "\n",
    "ax2.set_title(\"Contours, using tricontour\")\n",
    "ax2.tricontour(xdata, ydata, zdata, colors=\"k\")\n",
    "cntr2 = ax2.tricontourf(xdata, ydata, zdata, cmap=\"cividis\")\n",
    "# ax2.scatter(xdata, ydata, marker=\"x\", color=\"k\", alpha=0.2)\n",
    "\n",
    "fig.colorbar(cntr1, ax=ax1)\n",
    "fig.colorbar(cntr2, ax=ax2)\n",
    "\n",
    "fig.tight_layout()\n",
    "plt.show()"
   ]
  }
 ],
 "metadata": {
  "kernelspec": {
   "display_name": "Python 3",
   "language": "python",
   "name": "python3"
  },
  "language_info": {
   "codemirror_mode": {
    "name": "ipython",
    "version": 3
   },
   "file_extension": ".py",
   "mimetype": "text/x-python",
   "name": "python",
   "nbconvert_exporter": "python",
   "pygments_lexer": "ipython3",
   "version": "3.10.12"
  }
 },
 "nbformat": 4,
 "nbformat_minor": 2
}
