{
 "cells": [
  {
   "cell_type": "code",
   "execution_count": null,
   "metadata": {},
   "outputs": [],
   "source": [
    "import matplotlib.pyplot as plt\n",
    "import numpy as np"
   ]
  },
  {
   "cell_type": "markdown",
   "metadata": {},
   "source": [
    "## 3+D surface plotting\n",
    "\n",
    "Many many examples online:\n",
    "* https://matplotlib.org/stable/gallery/mplot3d/index.html\n",
    "\n",
    "Just one example: 3D quiver plot"
   ]
  },
  {
   "cell_type": "code",
   "execution_count": null,
   "metadata": {},
   "outputs": [],
   "source": [
    "ax = plt.figure().add_subplot(projection=\"3d\")\n",
    "\n",
    "# Make the grid\n",
    "x, y, z = np.meshgrid(\n",
    "    np.arange(-0.8, 1, 0.3), np.arange(-0.8, 1, 0.3), np.arange(-0.8, 1, 0.3)\n",
    ")\n",
    "\n",
    "# Make the direction data for the arrows\n",
    "u = np.sin(np.pi * x) * np.cos(np.pi * y) * np.cos(np.pi * z)\n",
    "v = -np.cos(np.pi * x) * np.sin(np.pi * y) * np.cos(np.pi * z)\n",
    "w = np.sqrt(2.0 / 3.0) * np.cos(np.pi * x) * np.cos(np.pi * y) * np.sin(np.pi * z)\n",
    "\n",
    "ax.quiver(x, y, z, u, v, w, length=0.1, normalize=True)\n",
    "\n",
    "plt.show()"
   ]
  },
  {
   "cell_type": "markdown",
   "metadata": {},
   "source": [
    "---------------\n",
    "\n",
    "## Galaxy data\n",
    "\n",
    "The `galaxy.csv` data file contains measurements from a galaxy. We are interested in the velocity (calculated from the observed redshift) as a function of angular\n",
    "\n",
    "* **angles** -- slit angles of telescope (7 unique angles)\n",
    "* **arcsecEW** --  east-west coordinate of observations (323 bearings)\n",
    "* **arcsecNS** -- north-south coordinate of observations (323 bearings)\n",
    "* **radialPos** -- radial position along the slit angle\n",
    "* **velocity** -- velocity of galaxy (323 readings)\n",
    "\n",
    "Data from:\n",
    "\n",
    "_The structure and dynamics of ringed galaxies. III - Surface photometry and kinematics of the ringed nonbarred spiral NGC 7531_, R. Buta, Astrophysical Journal Supplement Series, **64**, May 1987, p. 1-37.\n",
    "\n",
    "* https://adsabs.harvard.edu/full/1987ApJS...64....1B"
   ]
  },
  {
   "cell_type": "code",
   "execution_count": null,
   "metadata": {},
   "outputs": [],
   "source": [
    "data = np.genfromtxt(\"galaxy.csv\", delimiter=\",\", names=True, skip_header=1)\n",
    "cols = list(data.dtype.names)\n",
    "print(cols)"
   ]
  },
  {
   "cell_type": "code",
   "execution_count": null,
   "metadata": {},
   "outputs": [],
   "source": [
    "%matplotlib inline\n",
    "plt.scatter(data[\"arcsecEW\"], data[\"arcsecNS\"], marker=\"x\")\n",
    "plt.show()"
   ]
  },
  {
   "cell_type": "code",
   "execution_count": null,
   "metadata": {},
   "outputs": [],
   "source": [
    "%matplotlib inline\n",
    "\n",
    "plt.scatter(\n",
    "    data[\"arcsecEW\"], data[\"arcsecNS\"], marker=\"x\", c=data[\"velocity\"], cmap=\"coolwarm\"\n",
    ")\n",
    "plt.colorbar(label=\"velocity\")\n",
    "plt.xlabel(\"EW\")\n",
    "plt.ylabel(\"NS\")\n",
    "plt.show()"
   ]
  },
  {
   "cell_type": "code",
   "execution_count": null,
   "metadata": {},
   "outputs": [],
   "source": [
    "# %matplotlib tk\n",
    "%matplotlib inline\n",
    "\n",
    "ax = plt.axes(projection=\"3d\")\n",
    "ax.view_init(60.0, -130.0, 0)\n",
    "cb = ax.scatter(\n",
    "    data[\"arcsecEW\"],\n",
    "    data[\"arcsecNS\"],\n",
    "    data[\"velocity\"],\n",
    "    marker=\"x\",\n",
    "    c=data[\"velocity\"],\n",
    "    cmap=\"coolwarm\",\n",
    ")\n",
    "ax.set(xlabel=\"EW\", ylabel=\"NS\")\n",
    "plt.colorbar(cb, label=\"velocity\")\n",
    "plt.show()"
   ]
  },
  {
   "cell_type": "markdown",
   "metadata": {},
   "source": [
    "### Surface: plot_trisurf"
   ]
  },
  {
   "cell_type": "code",
   "execution_count": null,
   "metadata": {},
   "outputs": [],
   "source": [
    "# %matplotlib tk\n",
    "%matplotlib inline\n",
    "\n",
    "ax = plt.axes(projection=\"3d\")\n",
    "ax.view_init(60.0, -130.0, 0)\n",
    "ax.scatter(\n",
    "    data[\"arcsecEW\"],\n",
    "    data[\"arcsecNS\"],\n",
    "    data[\"velocity\"],\n",
    "    marker=\"x\",\n",
    "    c=data[\"velocity\"],\n",
    "    cmap=\"coolwarm\",\n",
    ")\n",
    "ax.plot_trisurf(\n",
    "    data[\"arcsecEW\"], data[\"arcsecNS\"], data[\"velocity\"], color=\"grey\", alpha=0.3\n",
    ")\n",
    "ax.set(xlabel=\"EW\", ylabel=\"NS\", zlabel=\"velocity\")\n",
    "plt.show()"
   ]
  },
  {
   "cell_type": "markdown",
   "metadata": {},
   "source": [
    "### Wire mesh (using interpolate/griddata)"
   ]
  },
  {
   "cell_type": "markdown",
   "metadata": {},
   "source": [
    "* https://docs.scipy.org/doc/scipy/reference/generated/scipy.interpolate.griddata.html\n",
    "\n",
    "method: nearest, linear, cubic\n",
    "\n",
    "Always be very careful interpolating: can be unwanted artifacts\n",
    "\n",
    "A good rule of thing: always at least check the plot with data and interpolated function together!"
   ]
  },
  {
   "cell_type": "code",
   "execution_count": null,
   "metadata": {},
   "outputs": [],
   "source": [
    "%matplotlib inline\n",
    "\n",
    "from scipy.interpolate import griddata\n",
    "import matplotlib.pyplot as plt\n",
    "\n",
    "x0, xmax = min(data[\"arcsecEW\"]), max(data[\"arcsecEW\"])\n",
    "y0, ymax = min(data[\"arcsecNS\"]), max(data[\"arcsecNS\"])\n",
    "\n",
    "# Create fine grid of points\n",
    "xs = np.linspace(x0, xmax, 100)\n",
    "ys = np.linspace(y0, ymax, 100)\n",
    "X, Y = np.meshgrid(xs, ys)\n",
    "\n",
    "# interpolate data onto our fine grid\n",
    "Z = griddata(\n",
    "    np.column_stack((data[\"arcsecEW\"], data[\"arcsecNS\"])),\n",
    "    data[\"velocity\"],\n",
    "    (X, Y),\n",
    "    method=\"linear\",\n",
    ")\n",
    "\n",
    "\n",
    "ax = plt.axes(projection=\"3d\")\n",
    "\n",
    "ax.view_init(60.0, -130.0, 0)\n",
    "ax.plot_wireframe(X, Y, Z, rstride=2, cstride=8, color=\"grey\", alpha=0.5)\n",
    "ax.scatter(data[\"arcsecEW\"], data[\"arcsecNS\"], data[\"velocity\"], color=\"b\", marker=\"x\")\n",
    "ax.set(xlabel=\"EW\", ylabel=\"NS\", zlabel=\"velocity\")\n",
    "plt.show()"
   ]
  },
  {
   "cell_type": "code",
   "execution_count": null,
   "metadata": {},
   "outputs": [],
   "source": [
    "# %matplotlib tk\n",
    "%matplotlib inline\n",
    "\n",
    "ax = plt.axes(projection=\"3d\")\n",
    "\n",
    "ax.view_init(60.0, -130.0, 0)\n",
    "ax.plot_surface(\n",
    "    X,\n",
    "    Y,\n",
    "    Z,\n",
    "    cmap=\"coolwarm\",\n",
    "    edgecolor=\"royalblue\",\n",
    "    lw=0.5,\n",
    "    rstride=5,\n",
    "    cstride=5,\n",
    "    alpha=1,\n",
    ")\n",
    "ax.scatter(\n",
    "    data[\"arcsecEW\"],\n",
    "    data[\"arcsecNS\"],\n",
    "    data[\"velocity\"],\n",
    "    color=\"b\",\n",
    "    marker=\"x\",\n",
    "    alpha=0.3,\n",
    ")\n",
    "ax.set(xlabel=\"EW\", ylabel=\"NS\", zlabel=\"velocity\")\n",
    "plt.show()"
   ]
  },
  {
   "cell_type": "markdown",
   "metadata": {},
   "source": [
    "### Contours (using interpolated data)"
   ]
  },
  {
   "cell_type": "code",
   "execution_count": null,
   "metadata": {},
   "outputs": [],
   "source": [
    "%matplotlib inline\n",
    "plt.pcolormesh(X, Y, Z, cmap=\"coolwarm\", shading=\"gouraud\")\n",
    "plt.colorbar(label=\"velocity\")\n",
    "cs = plt.contour(X, Y, Z, 7, colors=\"k\", linewidths=2)\n",
    "plt.clabel(cs, inline=True)\n",
    "plt.scatter(data[\"arcsecEW\"], data[\"arcsecNS\"], marker=\"x\", c=\"k\", alpha=0.2)\n",
    "plt.xlabel(\"EW\")\n",
    "plt.ylabel(\"NS\")\n",
    "plt.show()"
   ]
  },
  {
   "cell_type": "markdown",
   "metadata": {},
   "source": [
    "### Contours in 3D"
   ]
  },
  {
   "cell_type": "code",
   "execution_count": null,
   "metadata": {},
   "outputs": [],
   "source": [
    "# %matplotlib tk\n",
    "%matplotlib inline\n",
    "\n",
    "ax = plt.axes(projection=\"3d\")\n",
    "\n",
    "ax.view_init(50.0, -10.0)\n",
    "\n",
    "\n",
    "ax.contour(X, Y, Z, extend3d=False, cmap=\"coolwarm\")\n",
    "\n",
    "ax.set(xlabel=\"EW\", ylabel=\"NS\", zlabel=\"velocity\")\n",
    "plt.show()"
   ]
  },
  {
   "cell_type": "code",
   "execution_count": null,
   "metadata": {},
   "outputs": [],
   "source": [
    "# %matplotlib tk\n",
    "%matplotlib inline\n",
    "\n",
    "ax = plt.axes(projection=\"3d\")\n",
    "\n",
    "ax.view_init(50.0, -10.0)\n",
    "\n",
    "cs = ax.contourf(X, Y, Z, cmap=\"coolwarm\")\n",
    "\n",
    "plt.colorbar(cs, orientation=\"horizontal\", fraction=0.05)\n",
    "ax.set(xlabel=\"EW\", ylabel=\"NS\", zlabel=\"velocity\")\n",
    "plt.show()"
   ]
  },
  {
   "cell_type": "markdown",
   "metadata": {},
   "source": [
    "### Combine: Project contour plot onto lower axis"
   ]
  },
  {
   "cell_type": "code",
   "execution_count": null,
   "metadata": {},
   "outputs": [],
   "source": [
    "# %matplotlib tk\n",
    "%matplotlib inline\n",
    "\n",
    "ax = plt.axes(projection=\"3d\")\n",
    "\n",
    "ax.view_init(40.0, -30.0)\n",
    "ax.set_xlim(-40, 40)\n",
    "ax.set_ylim(-50, 50)\n",
    "ax.set_zlim(1300, 1800)\n",
    "ax.plot_surface(\n",
    "    X,\n",
    "    Y,\n",
    "    Z,\n",
    "    color=\"lightblue\",\n",
    "    edgecolor=\"royalblue\",\n",
    "    lw=0.5,\n",
    "    rstride=5,\n",
    "    cstride=5,\n",
    "    alpha=0.5,\n",
    ")\n",
    "ax.scatter(\n",
    "    data[\"arcsecEW\"],\n",
    "    data[\"arcsecNS\"],\n",
    "    data[\"velocity\"],\n",
    "    color=\"black\",\n",
    "    marker=\"x\",\n",
    "    alpha=0.5,\n",
    ")\n",
    "\n",
    "# zdir makes projection of contour plot\n",
    "# offset puts it where we want it (on one of the axis)\n",
    "cs = ax.contourf(X, Y, Z, zdir=\"z\", offset=1300, cmap=\"coolwarm\")\n",
    "\n",
    "plt.colorbar(cs, orientation=\"horizontal\", fraction=0.05)\n",
    "ax.set(xlabel=\"EW\", ylabel=\"NS\", zlabel=\"velocity\")\n",
    "plt.show()"
   ]
  }
 ],
 "metadata": {
  "kernelspec": {
   "display_name": "Python 3",
   "language": "python",
   "name": "python3"
  },
  "language_info": {
   "codemirror_mode": {
    "name": "ipython",
    "version": 3
   },
   "file_extension": ".py",
   "mimetype": "text/x-python",
   "name": "python",
   "nbconvert_exporter": "python",
   "pygments_lexer": "ipython3",
   "version": "3.10.12"
  }
 },
 "nbformat": 4,
 "nbformat_minor": 2
}
