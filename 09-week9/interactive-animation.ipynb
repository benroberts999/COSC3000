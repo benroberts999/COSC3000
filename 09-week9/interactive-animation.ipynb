{
 "cells": [
  {
   "cell_type": "code",
   "execution_count": null,
   "metadata": {},
   "outputs": [],
   "source": [
    "import matplotlib.pyplot as plt\n",
    "import numpy as np"
   ]
  },
  {
   "cell_type": "markdown",
   "metadata": {},
   "source": [
    "## Interactive plots\n",
    "\n",
    "Interactive plots useful for many reasons.\n",
    "Including easily finding settings that make the plot look best.\n",
    "\n",
    "When using a notebook, use a python \"magic\"\n",
    " * https://ipython.readthedocs.io/en/stable/interactive/magics.html\n",
    "\n",
    "* %matplotlib tk\n",
    "  * (%matplotlib qt on some systems)\n",
    "  * To force an interactive pop-out plot window\n",
    "\n",
    "* %matplotlib inline\n",
    "  * to force inline plots (plots appear in notebook) - this is usually the default\n",
    "\n",
    "Note: not all magics are supported on all systems/editors. Try out a few and check the documentation.\n",
    "\n",
    "Following example is from:\n",
    " * https://matplotlib.org/stable/gallery/images_contours_and_fields/colormap_interactive_adjustment.html"
   ]
  },
  {
   "cell_type": "code",
   "execution_count": null,
   "metadata": {},
   "outputs": [],
   "source": [
    "%matplotlib inline\n",
    "# nb: this isn't needed the first time, but the magic changes a 'global' setting\n",
    "\n",
    "t = np.linspace(0, 2 * np.pi, 1024)\n",
    "\n",
    "X, Y = np.meshgrid(t, t)\n",
    "\n",
    "data2d = np.sin(X) * np.cos(Y)\n",
    "\n",
    "plt.imshow(data2d)\n",
    "plt.title(\"Inline plot\")\n",
    "plt.colorbar(label=\"colorbar\")\n",
    "\n",
    "plt.show()"
   ]
  },
  {
   "cell_type": "code",
   "execution_count": null,
   "metadata": {},
   "outputs": [],
   "source": [
    "%matplotlib tk\n",
    "\n",
    "plt.imshow(data2d)\n",
    "plt.title(\n",
    "    \"Pan on the colorbar to shift the color mapping\\n\"\n",
    "    \"Zoom on the colorbar to scale the color mapping\"\n",
    ")\n",
    "plt.colorbar(label=\"Interactive colorbar\")\n",
    "plt.show()"
   ]
  },
  {
   "cell_type": "markdown",
   "metadata": {},
   "source": [
    "### Example from before: rotating 3D plot"
   ]
  },
  {
   "cell_type": "code",
   "execution_count": null,
   "metadata": {},
   "outputs": [],
   "source": [
    "filename = \"../03-week3/catretina.csv\"\n",
    "cat_data = np.genfromtxt(filename, delimiter=\",\", names=True, skip_header=1)"
   ]
  },
  {
   "cell_type": "code",
   "execution_count": null,
   "metadata": {},
   "outputs": [],
   "source": [
    "%matplotlib tk\n",
    "\n",
    "ax = plt.axes(projection=\"3d\")\n",
    "ax.set_box_aspect(aspect=None, zoom=0.85)\n",
    "\n",
    "x = cat_data[\"retinarea\"]\n",
    "y = cat_data[\"age\"]\n",
    "z = cat_data[\"cpRatio\"]\n",
    "\n",
    "ax.stem(x, y, z)\n",
    "\n",
    "ax.view_init(45.0, 60.0, 0.0)\n",
    "ax.set_xlabel(\"retinarea (mm$^2$)\")\n",
    "ax.set_ylabel(\"age\")\n",
    "ax.set_zlabel(\"cpRatio\")\n",
    "\n",
    "plt.show()"
   ]
  },
  {
   "cell_type": "markdown",
   "metadata": {},
   "source": [
    "## Animations\n",
    "\n",
    "* https://matplotlib.org/stable/api/_as_gen/matplotlib.animation.FuncAnimation.html\n",
    "\n",
    "First example, from:\n",
    "* https://matplotlib.org/stable/users/explain/animations/animations.html"
   ]
  },
  {
   "cell_type": "code",
   "execution_count": null,
   "metadata": {},
   "outputs": [],
   "source": [
    "%matplotlib tk\n",
    "import matplotlib.animation as animation\n",
    "\n",
    "fig, ax = plt.subplots()\n",
    "t = np.linspace(0, 3, 40)\n",
    "g = -9.81\n",
    "v0 = 12\n",
    "tz = g * t**2 / 2 + v0 * t\n",
    "\n",
    "v02 = 5\n",
    "z2 = g * t**2 / 2 + v02 * t\n",
    "\n",
    "scat = ax.scatter(t[0], tz[0], c=\"b\", s=5, label=f\"v0 = {v0} m/s\")\n",
    "line2 = ax.plot(t[0], z2[0], label=f\"v0 = {v02} m/s\")[0]\n",
    "ax.set(xlim=[0, 3], ylim=[-4, 10], xlabel=\"Time [s]\", ylabel=\"Z [m]\")\n",
    "ax.legend()\n",
    "\n",
    "\n",
    "def update(frame):\n",
    "    # for each frame, update the data stored on each artist.\n",
    "    tx = t[:frame]\n",
    "    ty = tz[:frame]\n",
    "    # update the scatter plot:\n",
    "    data = np.stack([tx, ty]).T\n",
    "    scat.set_offsets(data)\n",
    "    # update the line plot:\n",
    "    line2.set_xdata(t[:frame])\n",
    "    line2.set_ydata(z2[:frame])\n",
    "    return (scat, line2)\n",
    "\n",
    "\n",
    "ani = animation.FuncAnimation(fig=fig, func=update, frames=40, interval=30)\n",
    "\n",
    "# # Save as a GIF (for example)\n",
    "# ani.save(\"a.gif\")\n",
    "\n",
    "# Or show in window\n",
    "plt.show()"
   ]
  },
  {
   "cell_type": "code",
   "execution_count": null,
   "metadata": {},
   "outputs": [],
   "source": [
    "%matplotlib tk\n",
    "import matplotlib.animation as animation\n",
    "\n",
    "x = cat_data[\"retinarea\"]\n",
    "y = cat_data[\"age\"]\n",
    "z = cat_data[\"cpRatio\"]\n",
    "\n",
    "fig = plt.figure()\n",
    "ax = plt.axes(projection=\"3d\")\n",
    "\n",
    "\n",
    "stem = ax.stem(x, y, z)\n",
    "ax.view_init(45.0, 60.0, 0.0)\n",
    "ax.set_xlabel(\"retinarea (mm$^2$)\")\n",
    "ax.set_ylabel(\"age\")\n",
    "ax.set_zlabel(\"cpRatio\")\n",
    "\n",
    "\n",
    "num_frames = 100\n",
    "\n",
    "\n",
    "def update(frame):\n",
    "    ax.set_title(f\"Frame {frame}/{num_frames}\")\n",
    "    ax.view_init(45.0, 1 + 179 * frame / num_frames, 0.0)\n",
    "    ax.stem(x, y, z)\n",
    "    return (scat, line2)\n",
    "\n",
    "\n",
    "ani = animation.FuncAnimation(fig=fig, func=update, frames=num_frames, interval=60)\n",
    "\n",
    "# Save as a GIF (for example)\n",
    "ani.save(\"catdata_rotate.gif\")\n",
    "\n",
    "# Or show in window\n",
    "plt.show()"
   ]
  },
  {
   "cell_type": "markdown",
   "metadata": {},
   "source": [
    "..or, simply by re-drawing plot multiple times\n",
    "\n",
    "(nb: vscode seems to hang if I close the plot window before the animation finishes)"
   ]
  },
  {
   "cell_type": "code",
   "execution_count": null,
   "metadata": {},
   "outputs": [],
   "source": [
    "%matplotlib tk\n",
    "\n",
    "fig = plt.figure()\n",
    "ax = plt.axes(projection=\"3d\")\n",
    "\n",
    "ax.set_xlabel(\"retinarea (mm$^2$)\")\n",
    "ax.set_ylabel(\"age\")\n",
    "ax.set_zlabel(\"cpRatio\")\n",
    "\n",
    "num_frames = 25\n",
    "\n",
    "for frame in range(num_frames):\n",
    "    ax.set_title(f\"Frame {frame}/{num_frames}\")\n",
    "    ax.view_init(45.0, 1 + 179 * frame / num_frames, 0.0)\n",
    "    ax.stem(x, y, z)\n",
    "    plt.pause(0.01)"
   ]
  }
 ],
 "metadata": {
  "kernelspec": {
   "display_name": "Python 3",
   "language": "python",
   "name": "python3"
  },
  "language_info": {
   "codemirror_mode": {
    "name": "ipython",
    "version": 3
   },
   "file_extension": ".py",
   "mimetype": "text/x-python",
   "name": "python",
   "nbconvert_exporter": "python",
   "pygments_lexer": "ipython3",
   "version": "3.12.2"
  }
 },
 "nbformat": 4,
 "nbformat_minor": 2
}
