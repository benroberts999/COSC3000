{
 "cells": [
  {
   "cell_type": "markdown",
   "metadata": {},
   "source": [
    "-----------\n",
    "\n",
    "## File sizes\n",
    "\n",
    "* Generally aim to produce plots ina scalable (vector) graphics format\n",
    "* e.g., pdf\n",
    "\n",
    "* https://matplotlib.org/stable/api/_as_gen/matplotlib.pyplot.savefig.html\n",
    "\n",
    "However\n",
    "* Sometimes, certain plots produce HUGE file sizes.\n",
    "* This can be fixed by rasterizing the image, while keeping text etc. scalable"
   ]
  },
  {
   "cell_type": "code",
   "execution_count": null,
   "metadata": {},
   "outputs": [],
   "source": [
    "import numpy as np\n",
    "import matplotlib.pyplot as plt\n",
    "\n",
    "\n",
    "def func(x, y):\n",
    "    return 2 - 2 * np.cos(x) * np.cos(y) - np.cos(x - 2 * y)\n",
    "\n",
    "\n",
    "xs = np.linspace(0, 10, 500)\n",
    "ys = np.linspace(-10, 10, 500)\n",
    "X, Y = np.meshgrid(xs, ys)\n",
    "Z = func(X, Y)\n",
    "\n",
    "plt.pcolormesh(X, Y, Z)\n",
    "\n",
    "# Does not scale very well - particularly text\n",
    "plt.savefig(\"as_png.png\", bbox_inches=\"tight\")\n",
    "\n",
    "# pdf produces a scalable (vector) graphic\n",
    "# BUT Produces a 5MB file!\n",
    "plt.savefig(\"as_pdf.pdf\", bbox_inches=\"tight\")\n",
    "\n",
    "plt.show()"
   ]
  },
  {
   "cell_type": "markdown",
   "metadata": {},
   "source": [
    "\n",
    "* https://matplotlib.org/stable/gallery/misc/rasterization_demo.html"
   ]
  },
  {
   "cell_type": "code",
   "execution_count": null,
   "metadata": {},
   "outputs": [],
   "source": [
    "# Rasterise the plot itself\n",
    "plt.pcolormesh(X, Y, Z, rasterized=True)\n",
    "\n",
    "# pdf produces a scalable (vector) graphic\n",
    "# now produces a ~50kb file that looks just as good\n",
    "plt.savefig(\"with_rasterise.pdf\", bbox_inches=\"tight\")\n",
    "\n",
    "plt.show()"
   ]
  }
 ],
 "metadata": {
  "kernelspec": {
   "display_name": "Python 3",
   "language": "python",
   "name": "python3"
  },
  "language_info": {
   "codemirror_mode": {
    "name": "ipython",
    "version": 3
   },
   "file_extension": ".py",
   "mimetype": "text/x-python",
   "name": "python",
   "nbconvert_exporter": "python",
   "pygments_lexer": "ipython3",
   "version": "3.10.12"
  }
 },
 "nbformat": 4,
 "nbformat_minor": 2
}
