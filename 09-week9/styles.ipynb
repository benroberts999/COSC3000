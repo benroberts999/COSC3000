{
 "cells": [
  {
   "cell_type": "markdown",
   "metadata": {},
   "source": [
    "# Plotting styles and stylesheets"
   ]
  },
  {
   "cell_type": "code",
   "execution_count": null,
   "metadata": {},
   "outputs": [],
   "source": [
    "import numpy as np\n",
    "import matplotlib.pyplot as plt\n",
    "from scipy.special import jn"
   ]
  },
  {
   "cell_type": "code",
   "execution_count": null,
   "metadata": {},
   "outputs": [],
   "source": [
    "# plt.style.use(\"default\")\n",
    "\n",
    "fig = plt.figure()\n",
    "ax = fig.add_subplot()\n",
    "\n",
    "x = np.linspace(0, 20, 1000)\n",
    "\n",
    "for n in range(5):\n",
    "    plt.plot(x, jn(n, x), \"-\", label=n)\n",
    "\n",
    "plt.legend()\n",
    "plt.xlabel(f\"$x$\")\n",
    "plt.ylabel(f\"$j_n(x)$\")\n",
    "\n",
    "# Put some labelled points into the plot\n",
    "for n in range(0, 3):\n",
    "    x0, y0 = n + 1.0, jn(n, n + 1.0)\n",
    "    plt.plot(x0, y0, \"x\", c=f\"C{n}\")\n",
    "    plt.text(x0 + 0.5, y0, f\"$j_{{n}}(x)$\", c=f\"C{n}\")\n",
    "\n",
    "plt.show()"
   ]
  },
  {
   "cell_type": "markdown",
   "metadata": {},
   "source": [
    "## Line colours\n",
    "\n",
    "* https://matplotlib.org/stable/gallery/color/index.html\n",
    "* https://matplotlib.org/stable/users/explain/artists/color_cycle.html\n",
    "* https://matplotlib.org/stable/gallery/color/named_colors.html\n",
    "\n",
    "Picking colours:\n",
    "* https://www.google.com/search?q=colour+picker\n",
    "  * Pick HEX colurs from any online colour picker"
   ]
  },
  {
   "cell_type": "markdown",
   "metadata": {},
   "source": [
    "### Colour cyclers\n",
    "\n",
    "Very often, we want to plot certain lines with the same colour"
   ]
  },
  {
   "cell_type": "code",
   "execution_count": null,
   "metadata": {},
   "outputs": [],
   "source": [
    "for n in range(0, 6, 2):\n",
    "    plt.plot(x, jn(n, x), \"-\", label=f\"n={n}\")\n",
    "    plt.plot(x, jn(n, x) + 0.1 * np.cos(5 * x), ls=\":\")\n",
    "\n",
    "plt.legend()\n",
    "plt.title(\"Dotted lines should colour-match solid lines :(\")\n",
    "plt.xlabel(f\"$x$\")\n",
    "plt.ylabel(f\"$j_n(x)$\")\n",
    "plt.show()"
   ]
  },
  {
   "cell_type": "markdown",
   "metadata": {},
   "source": [
    "One method is to use the `.get_color()` method.\n",
    "\n",
    "* However, this only works in cases we have a line object to call that on.\n",
    "* May not be possible for more complicated plots split over multiple functions/calls"
   ]
  },
  {
   "cell_type": "code",
   "execution_count": null,
   "metadata": {},
   "outputs": [],
   "source": [
    "for n in range(0, 6, 2):\n",
    "    (line,) = plt.plot(x, jn(n, x), \"-\", label=f\"n={n}\")\n",
    "    plt.plot(x, jn(n, x) + 0.1 * np.cos(5 * x), ls=\":\", c=line.get_color())\n",
    "\n",
    "plt.title(\"Use .get_color()\")\n",
    "plt.legend()\n",
    "plt.xlabel(f\"$x$\")\n",
    "plt.ylabel(f\"$j_n(x)$\")\n",
    "plt.show()"
   ]
  },
  {
   "cell_type": "markdown",
   "metadata": {},
   "source": [
    "Another method is to the the `CN` notation.\n",
    "\n",
    "* C0, C1, C2,... are the first, second, third colors used in the cycle\n",
    "* However, this only works up to C9"
   ]
  },
  {
   "cell_type": "code",
   "execution_count": null,
   "metadata": {},
   "outputs": [],
   "source": [
    "for i, n in enumerate(range(0, 6, 2)):\n",
    "    plt.plot(x, jn(n, x), \"-\", label=f\"n={n}\")\n",
    "\n",
    "# plot in two loops: simulate situation where we can't use .get_color()\n",
    "for i, n in enumerate(range(0, 6, 2)):\n",
    "    plt.plot(x, jn(n, x) + 0.1 * np.cos(5 * x), ls=\":\", c=f\"C{i}\")\n",
    "\n",
    "plt.title(\"Use `CN` notation\")\n",
    "plt.legend()\n",
    "plt.xlabel(f\"$x$\")\n",
    "plt.ylabel(f\"$j_n(x)$\")\n",
    "plt.show()"
   ]
  },
  {
   "cell_type": "markdown",
   "metadata": {},
   "source": [
    "Or, we can manually define a list of colours, and loop over them\n",
    "\n",
    "* Downside: then we need to manually choose colours that work well\n",
    "* Sometimes not what you expect"
   ]
  },
  {
   "cell_type": "code",
   "execution_count": null,
   "metadata": {},
   "outputs": [],
   "source": [
    "colors = [\"blue\", \"orange\", \"green\"]\n",
    "\n",
    "for i, n in enumerate(range(0, 6, 2)):\n",
    "    plt.plot(x, jn(n, x), \"-\", c=colors[i], label=f\"n={n}\")\n",
    "    plt.plot(x, jn(n, x) + 0.1 * np.cos(5 * x), ls=\":\", c=colors[i])\n",
    "\n",
    "plt.title(\"Use colors list\")\n",
    "plt.legend()\n",
    "plt.xlabel(f\"$x$\")\n",
    "plt.ylabel(f\"$j_n(x)$\")\n",
    "plt.show()"
   ]
  },
  {
   "cell_type": "code",
   "execution_count": null,
   "metadata": {},
   "outputs": [],
   "source": [
    "colors = plt.rcParams[\"axes.prop_cycle\"].by_key()[\"color\"]\n",
    "\n",
    "for i, n in enumerate(range(0, 6, 2)):\n",
    "    plt.plot(x, jn(n, x), \"-\", c=colors[i], label=f\"n={n}\")\n",
    "    plt.plot(x, jn(n, x) + 0.1 * np.cos(5 * x), ls=\":\", c=colors[i])\n",
    "\n",
    "plt.title('Use rcParams[\"axes.prop_cycle\"]')\n",
    "plt.legend()\n",
    "plt.xlabel(f\"$x$\")\n",
    "plt.ylabel(f\"$j_n(x)$\")\n",
    "plt.show()"
   ]
  },
  {
   "cell_type": "markdown",
   "metadata": {},
   "source": [
    "-----------\n",
    "## linestyles\n",
    "\n",
    "* https://matplotlib.org/stable/gallery/lines_bars_and_markers/linestyles.html"
   ]
  },
  {
   "cell_type": "code",
   "execution_count": null,
   "metadata": {},
   "outputs": [],
   "source": [
    "linestyle_str = [\n",
    "    (\"solid\", \"solid\"),  # Same as (0, ()) or '-'\n",
    "    (\"dotted\", \"dotted\"),  # Same as (0, (1, 1)) or ':'\n",
    "    (\"dashed\", \"dashed\"),  # Same as '--'\n",
    "    (\"dashdot\", \"dashdot\"),  # Same as '-.'\n",
    "]\n",
    "\n",
    "linestyle_tuple = [\n",
    "    (\"loosely dotted\", (0, (1, 10))),\n",
    "    (\"dotted\", (0, (1, 1))),  # Same as 'dotted' or ':'\n",
    "    (\"loosely dashed\", (0, (5, 10))),\n",
    "    (\"densely dashed\", (0, (5, 1))),\n",
    "    (\"dashdotdotted\", (0, (3, 5, 1, 5, 1, 5))),\n",
    "]\n",
    "\n",
    "fig, [ax1, ax2] = plt.subplots(2, 1, figsize=(7, 7))\n",
    "\n",
    "for n, [name, style] in enumerate(linestyle_str):\n",
    "    ax1.plot(x, jn(n, x), ls=style, label=name)\n",
    "\n",
    "ax1.set(title=\"Named linestyles\", xlabel=f\"$x$\", ylabel=f\"$j_n(x)$\")\n",
    "ax1.legend()\n",
    "\n",
    "\n",
    "for n, [name, style] in enumerate(linestyle_tuple):\n",
    "    ax2.plot(x, jn(n, x), ls=style, label=name)\n",
    "\n",
    "ax2.set(title=\"Parametrised linestyles\", xlabel=f\"$x$\", ylabel=f\"$j_n(x)$\")\n",
    "ax2.legend(loc=\"upper right\")\n",
    "\n",
    "# Default length of line segment is not long enough to tell them apart in this case\n",
    "ax2.legend(handlelength=5)\n",
    "\n",
    "fig.tight_layout()\n",
    "plt.show()"
   ]
  },
  {
   "cell_type": "markdown",
   "metadata": {},
   "source": [
    "--------\n",
    "## matplotlib styles\n",
    "\n",
    "Styles are predefined sets of rcParams that define the visual appearance of a plot.\n",
    "\n",
    "* https://matplotlib.org/stable/api/style_api.html\n",
    "\n",
    "You can edit options via calls to rcParams..\n",
    "Or, you can define a stylesheet to store and easily switch between styles.\n",
    "\n",
    "Define defaults for:\n",
    "  * Figure sizes\n",
    "  * Font types, sizes\n",
    "  * linestyles, colours\n",
    "  * etc. etc.\n",
    "\n",
    "Built-in styles:\n",
    " * https://matplotlib.org/stable/gallery/style_sheets/style_sheets_reference.html"
   ]
  },
  {
   "cell_type": "code",
   "execution_count": null,
   "metadata": {},
   "outputs": [],
   "source": [
    "print(plt.style.available)"
   ]
  },
  {
   "cell_type": "code",
   "execution_count": null,
   "metadata": {},
   "outputs": [],
   "source": [
    "plt.style.use(\"default\")\n",
    "\n",
    "fig = plt.figure()\n",
    "ax = fig.add_subplot()\n",
    "\n",
    "x = np.linspace(0, 20, 1000)\n",
    "\n",
    "for n in range(5):\n",
    "    plt.plot(x, jn(n, x), \"-\", label=n)\n",
    "\n",
    "plt.legend()\n",
    "plt.xlabel(\"$x$ (cm)\")\n",
    "plt.ylabel(\"function value, $j_n(x)$\")\n",
    "\n",
    "# Put some labelled points into the plot\n",
    "for n in range(0, 3):\n",
    "    x0, y0 = n + 1.0, jn(n, n + 1.0)\n",
    "    plt.plot(x0, y0, \"x\", c=f\"C{n}\")\n",
    "    plt.text(x0 + 0.5, y0, f\"$j_{{n}}(x)$\", c=f\"C{n}\")\n",
    "\n",
    "plt.show()"
   ]
  },
  {
   "cell_type": "code",
   "execution_count": null,
   "metadata": {},
   "outputs": [],
   "source": [
    "# reset defaults:\n",
    "plt.style.use(\"default\")\n",
    "\n",
    "plt.style.use(\"dark_background\")\n",
    "# plt.style.use('ggplot')\n",
    "# plt.style.use('fivethirtyeight')\n",
    "# plt.style.use('seaborn-v0_8')\n",
    "\n",
    "x = np.linspace(0, 20, 1000)\n",
    "\n",
    "for n in range(5):\n",
    "    plt.plot(x, jn(n, x), \"-\", label=n)\n",
    "\n",
    "plt.legend()\n",
    "\n",
    "for n in range(0, 3):\n",
    "    x0, y0 = n + 1.0, jn(n, n + 1.0)\n",
    "    plt.plot(x0, y0, \"x\", c=f\"C{n}\")\n",
    "    plt.text(x0 + 0.5, y0, f\"$j_{{n}}(x)$\", c=f\"C{n}\")\n",
    "\n",
    "plt.xlabel(\"$x$ (cm)\")\n",
    "plt.ylabel(\"function value, $j_n(x)$\")\n",
    "\n",
    "plt.show()"
   ]
  },
  {
   "cell_type": "markdown",
   "metadata": {},
   "source": [
    "## Custom style sheet\n",
    "\n",
    "* https://matplotlib.org/stable/users/explain/customizing.html"
   ]
  },
  {
   "cell_type": "code",
   "execution_count": null,
   "metadata": {},
   "outputs": [],
   "source": [
    "plt.style.use(\"default\")\n",
    "plt.style.use(\"example.mplstyle\")\n",
    "\n",
    "x = np.linspace(0, 20, 1000)\n",
    "\n",
    "for n in range(5):\n",
    "    plt.plot(x, jn(n, x), \"-\", label=n)\n",
    "\n",
    "plt.legend()\n",
    "\n",
    "for n in range(0, 3):\n",
    "    x0, y0 = n + 1.0, jn(n, n + 1.0)\n",
    "    plt.plot(x0, y0, \"x\", c=f\"C{n}\")\n",
    "    plt.text(x0 + 0.5, y0, f\"$j_{{n}}(x)$\", c=f\"C{n}\")\n",
    "\n",
    "plt.xlabel(\"$x$ (cm)\")\n",
    "plt.ylabel(\"function value, $j_n(x)$\")\n",
    "\n",
    "plt.show()"
   ]
  },
  {
   "cell_type": "markdown",
   "metadata": {},
   "source": [
    "### external"
   ]
  },
  {
   "cell_type": "code",
   "execution_count": null,
   "metadata": {},
   "outputs": [],
   "source": [
    "# pip install mplcyberpunk\n",
    "import mplcyberpunk\n",
    "\n",
    "plt.style.use(\"default\")\n",
    "plt.style.use(\"cyberpunk\")\n",
    "\n",
    "x = np.linspace(0, 20, 1000)\n",
    "\n",
    "for n in range(5):\n",
    "    plt.plot(x, jn(n, x), \"-\", label=n)\n",
    "\n",
    "plt.legend()\n",
    "\n",
    "for n in range(0, 3):\n",
    "    x0, y0 = n + 1.0, jn(n, n + 1.0)\n",
    "    plt.plot(x0, y0, \"x\", c=f\"C{n}\")\n",
    "    plt.text(x0 + 0.5, y0, f\"$j_{{n}}(x)$\", c=f\"C{n}\")\n",
    "\n",
    "plt.xlabel(\"$x$ (cm)\")\n",
    "plt.ylabel(\"function value, $j_n(x)$\")\n",
    "\n",
    "mplcyberpunk.add_glow_effects()\n",
    "\n",
    "plt.show()"
   ]
  },
  {
   "cell_type": "code",
   "execution_count": null,
   "metadata": {},
   "outputs": [],
   "source": [
    "# pip install SciencePlots\n",
    "# * https://github.com/garrettj403/SciencePlots\n",
    "import scienceplots\n",
    "\n",
    "# reset before loading new style\n",
    "\n",
    "plt.style.use(\"default\")\n",
    "plt.style.use([\"science\", \"no-latex\"])\n",
    "# plt.style.use([\"science\", \"no-latex\", \"notebook\"])\n",
    "# plt.style.use([\"science\", \"no-latex\", \"nature\"])\n",
    "\n",
    "x = np.linspace(0, 20, 1000)\n",
    "\n",
    "for n in range(5):\n",
    "    plt.plot(x, jn(n, x), \"-\", label=n)\n",
    "\n",
    "plt.legend()\n",
    "\n",
    "for n in range(0, 3):\n",
    "    x0, y0 = n + 1.0, jn(n, n + 1.0)\n",
    "    plt.plot(x0, y0, \"x\", c=f\"C{n}\")\n",
    "    plt.text(x0 + 0.5, y0, f\"$j_{{n}}(x)$\", c=f\"C{n}\")\n",
    "\n",
    "plt.xlabel(\"$x$ (cm)\")\n",
    "plt.ylabel(\"function value, $j_n(x)$\")\n",
    "\n",
    "\n",
    "plt.show()"
   ]
  },
  {
   "cell_type": "code",
   "execution_count": null,
   "metadata": {},
   "outputs": [],
   "source": [
    "plt.style.use(\"default\")\n",
    "\n",
    "# I don't have all the fonts installed, but you get the idea\n",
    "with plt.xkcd():\n",
    "    for n in range(5):\n",
    "        plt.plot(x, jn(n, x), \"-\", label=n)\n",
    "\n",
    "    plt.legend()\n",
    "\n",
    "    for n in range(0, 3):\n",
    "        x0, y0 = n + 1.0, jn(n, n + 1.0)\n",
    "        plt.plot(x0, y0, \"x\", c=f\"C{n}\")\n",
    "        plt.text(x0 + 0.5, y0, f\"$j_{{n}}(x)$\", c=f\"C{n}\")\n",
    "\n",
    "    plt.xlabel(\"$x$ (cm)\")\n",
    "    plt.ylabel(\"function value, $j_n(x)$\")\n",
    "\n",
    "    plt.show()"
   ]
  }
 ],
 "metadata": {
  "kernelspec": {
   "display_name": "Python 3",
   "language": "python",
   "name": "python3"
  },
  "language_info": {
   "codemirror_mode": {
    "name": "ipython",
    "version": 3
   },
   "file_extension": ".py",
   "mimetype": "text/x-python",
   "name": "python",
   "nbconvert_exporter": "python",
   "pygments_lexer": "ipython3",
   "version": "3.10.12"
  }
 },
 "nbformat": 4,
 "nbformat_minor": 2
}
