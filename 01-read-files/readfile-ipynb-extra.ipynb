{
 "cells": [
  {
   "cell_type": "markdown",
   "metadata": {},
   "source": [
    "# Reading from files + plotting in python\n",
    "\n",
    "Import:\n",
    " * numpy (for numpy arrays, reading from files)\n",
    " * matplotlib (for plotting)\n",
    " * This is a python notebook version of readfile-py-extra.py`"
   ]
  },
  {
   "cell_type": "code",
   "execution_count": 1,
   "metadata": {},
   "outputs": [],
   "source": [
    "import numpy as np\n",
    "from matplotlib import pyplot as plt"
   ]
  },
  {
   "cell_type": "markdown",
   "metadata": {},
   "source": [
    "### Read in the data:\n",
    "\n",
    "We shall attenpt to read the CSV file: [data-csv-labels.dat](./data-csv-labels.dat)\n",
    "With header + column names + comments"
   ]
  },
  {
   "cell_type": "code",
   "execution_count": null,
   "metadata": {},
   "outputs": [],
   "source": [
    "filename = \"data-csv-labels.dat\"\n",
    "\n",
    "xy_data = np.genfromtxt(filename)\n",
    "print(xy_data)"
   ]
  },
  {
   "cell_type": "markdown",
   "metadata": {},
   "source": [
    "This didn't work - because python didn't know what to do with the header file.\n",
    "We simply need to tell it to skip the header lines:"
   ]
  },
  {
   "cell_type": "code",
   "execution_count": null,
   "metadata": {},
   "outputs": [],
   "source": [
    "xy_data = np.genfromtxt(filename, skip_header=4)\n",
    "print(xy_data)"
   ]
  },
  {
   "cell_type": "markdown",
   "metadata": {},
   "source": [
    "This still didn't work, because by default this function expects white-space delimitered data, while we have comma-separated:"
   ]
  },
  {
   "cell_type": "code",
   "execution_count": null,
   "metadata": {},
   "outputs": [],
   "source": [
    "xy_data = np.genfromtxt(filename, skip_header=4, delimiter=\",\")\n",
    "print(xy_data)"
   ]
  },
  {
   "cell_type": "markdown",
   "metadata": {},
   "source": [
    "### Access the collumns/rows + plot?"
   ]
  },
  {
   "cell_type": "code",
   "execution_count": null,
   "metadata": {},
   "outputs": [],
   "source": [
    "print(xy_data[0])"
   ]
  },
  {
   "cell_type": "code",
   "execution_count": null,
   "metadata": {},
   "outputs": [],
   "source": [
    "print(xy_data[:,0])"
   ]
  },
  {
   "cell_type": "code",
   "execution_count": null,
   "metadata": {},
   "outputs": [],
   "source": [
    "plt.plot(xy_data[:,0], xy_data[:,1])\n",
    "plt.show()"
   ]
  },
  {
   "cell_type": "markdown",
   "metadata": {},
   "source": [
    "### Get the collumn labels (names)?"
   ]
  },
  {
   "cell_type": "code",
   "execution_count": null,
   "metadata": {},
   "outputs": [],
   "source": [
    "xy_data = np.genfromtxt(filename, delimiter=\",\", skip_header=3, names=True)\n",
    "\n",
    "print(xy_data.dtype.names)\n",
    "\n",
    "print(xy_data)"
   ]
  },
  {
   "cell_type": "code",
   "execution_count": null,
   "metadata": {},
   "outputs": [],
   "source": [
    "print(xy_data[0])"
   ]
  },
  {
   "cell_type": "code",
   "execution_count": null,
   "metadata": {},
   "outputs": [],
   "source": [
    "print(xy_data[:,0])"
   ]
  },
  {
   "cell_type": "markdown",
   "metadata": {},
   "source": [
    "This no longer works, because with the column titles (\"names\"), the data is no longer a simple array. You may prefer to just not use the headers, or we can still acess the columns by their name:"
   ]
  },
  {
   "cell_type": "code",
   "execution_count": null,
   "metadata": {},
   "outputs": [],
   "source": [
    "print(xy_data[\"xlabel\"])"
   ]
  },
  {
   "cell_type": "code",
   "execution_count": null,
   "metadata": {},
   "outputs": [],
   "source": [
    "plt.plot(xy_data[\"xlabel\"], xy_data[\"ylabel\"], \"r-\")\n",
    "plt.show()"
   ]
  },
  {
   "cell_type": "markdown",
   "metadata": {},
   "source": [
    "### Add plot elements:"
   ]
  },
  {
   "cell_type": "code",
   "execution_count": null,
   "metadata": {},
   "outputs": [],
   "source": [
    "plt.title(\"Title\")\n",
    "plt.xlabel(xy_data.dtype.names[0] + \" (units)\")\n",
    "plt.ylabel(xy_data.dtype.names[1] + \" (units)\")\n",
    "plt.plot(xy_data[\"xlabel\"], xy_data[\"ylabel\"], \"rx\", \n",
    "         label=xy_data.dtype.names[1] + \" points\")\n",
    "plt.plot(xy_data[\"xlabel\"], xy_data[\"ylabel\"], \"k-\", \n",
    "         label=xy_data.dtype.names[1] + \" line\")\n",
    "plt.legend()\n",
    "plt.show()"
   ]
  },
  {
   "cell_type": "markdown",
   "metadata": {},
   "source": []
  }
 ],
 "metadata": {
  "kernelspec": {
   "display_name": "Python 3",
   "language": "python",
   "name": "python3"
  },
  "language_info": {
   "codemirror_mode": {
    "name": "ipython",
    "version": 3
   },
   "file_extension": ".py",
   "mimetype": "text/x-python",
   "name": "python",
   "nbconvert_exporter": "python",
   "pygments_lexer": "ipython3",
   "version": "3.10.12"
  }
 },
 "nbformat": 4,
 "nbformat_minor": 2
}
