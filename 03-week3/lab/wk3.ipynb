{
 "cells": [
  {
   "cell_type": "code",
   "execution_count": null,
   "metadata": {},
   "outputs": [],
   "source": [
    "import numpy as np\n",
    "import pandas as pd\n",
    "from matplotlib import pyplot as plt\n",
    "from scipy.optimize import curve_fit"
   ]
  },
  {
   "cell_type": "markdown",
   "metadata": {},
   "source": [
    "### Read in x-abc data"
   ]
  },
  {
   "cell_type": "code",
   "execution_count": null,
   "metadata": {},
   "outputs": [],
   "source": [
    "filename = \"xabc.csv\"\n",
    "data = np.genfromtxt(filename, delimiter=\",\", names=True)\n",
    "collumns = list(data.dtype.names)\n",
    "\n",
    "print(collumns)\n",
    "\n",
    "xdata = data[\"x\"]\n",
    "adata = data[\"a\"]\n",
    "bdata = data[\"b\"]\n",
    "cdata = data[\"c\"]"
   ]
  },
  {
   "cell_type": "code",
   "execution_count": null,
   "metadata": {},
   "outputs": [],
   "source": [
    "plt.plot(xdata, adata, \"x-\", label=\"a\")\n",
    "plt.plot(xdata, bdata, \"x-\", label=\"b\")\n",
    "plt.plot(xdata, cdata, \"x-\", label=\"c\")\n",
    "plt.ylabel(\"data\")\n",
    "plt.xlabel(\"x\")\n",
    "plt.legend()\n",
    "plt.show()"
   ]
  },
  {
   "cell_type": "code",
   "execution_count": null,
   "metadata": {},
   "outputs": [],
   "source": [
    "ya = np.poly1d(np.polyfit(xdata, adata, 1))\n",
    "yb = np.poly1d(np.polyfit(xdata, bdata, 1))\n",
    "yc = np.poly1d(np.polyfit(xdata, cdata, 1))\n",
    "\n",
    "x = np.linspace(min(xdata), max(xdata), 100)\n",
    "\n",
    "plt.plot(xdata, adata, \"bx\")\n",
    "plt.plot(x, ya(x), \"b-\", label=\"a\")\n",
    "plt.plot(xdata, bdata, \"rx\")\n",
    "plt.plot(x, yb(x), \"r-\", label=\"b\")\n",
    "plt.plot(xdata, cdata, \"gx\")\n",
    "plt.plot(x, yc(x), \"g-\", label=\"c\")\n",
    "\n",
    "plt.title(\"Linear fit\")\n",
    "plt.ylabel(\"data\")\n",
    "plt.xlabel(\"x\")\n",
    "plt.legend()\n",
    "plt.show()"
   ]
  },
  {
   "cell_type": "markdown",
   "metadata": {},
   "source": [
    "### Fit, using curve_fit, to get uncertainties and confidence intervals"
   ]
  },
  {
   "cell_type": "code",
   "execution_count": null,
   "metadata": {},
   "outputs": [],
   "source": [
    "def f_lin(x, a, b):\n",
    "    return a + b * x\n",
    "\n",
    "\n",
    "# perform the fit:\n",
    "popt, pcov = curve_fit(f_lin, xdata, bdata)\n",
    "\n",
    "# extract the parameters from 'popt = optimised paramters' (careful of the order)\n",
    "a, b = popt\n",
    "\n",
    "# Extract the _approximate_ (1 sigma = standard) uncertainties from pcov (parameter covariance)\n",
    "da, db = np.sqrt(np.diag(pcov))\n",
    "\n",
    "print(a, b)\n",
    "print(da, db)\n",
    "\n",
    "\n",
    "def df(x, da, db):\n",
    "    return np.sqrt(da**2 + (db * x) ** 2)"
   ]
  },
  {
   "cell_type": "code",
   "execution_count": null,
   "metadata": {},
   "outputs": [],
   "source": [
    "x = np.linspace(min(xdata), max(xdata), 100)\n",
    "best = f_lin(x, a, b)\n",
    "err = df(x, da, db)\n",
    "\n",
    "plt.plot(xdata, bdata, \"bx\")\n",
    "plt.plot(x, best, \"r-\", label=\"best fit\")\n",
    "plt.plot(x, best + err, ls=\"dotted\", c=\"lightgrey\")\n",
    "plt.plot(x, best - err, ls=\"dotted\", c=\"lightgrey\")\n",
    "plt.plot(x, best + 2.0 * err, ls=\"dotted\", c=\"lightgrey\")\n",
    "plt.plot(x, best - 2.0 * err, ls=\"dotted\", c=\"lightgrey\")\n",
    "plt.plot(x, best + 3.0 * err, ls=\"dotted\", c=\"lightgrey\")\n",
    "plt.plot(x, best - 3.0 * err, ls=\"dotted\", c=\"lightgrey\")\n",
    "plt.fill_between(\n",
    "    x,\n",
    "    best + err,\n",
    "    best - err,\n",
    "    color=\"red\",\n",
    "    alpha=0.4,\n",
    "    label=\"1$\\\\sigma\\\\approx68\\%$ C.L.\",\n",
    ")\n",
    "plt.fill_between(\n",
    "    x,\n",
    "    best + 2.0 * err,\n",
    "    best - 2.0 * err,\n",
    "    color=\"red\",\n",
    "    alpha=0.25,\n",
    "    label=\"2$\\\\sigma\\\\approx95\\%$ C.L.\",\n",
    ")\n",
    "plt.fill_between(\n",
    "    x,\n",
    "    best + 3.0 * err,\n",
    "    best - 3.0 * err,\n",
    "    color=\"red\",\n",
    "    alpha=0.1,\n",
    "    label=\"3$\\\\sigma\\\\approx99.7\\%$ C.L.\",\n",
    ")\n",
    "plt.legend()\n",
    "\n",
    "plt.title(\"Linear fit (to b data)\")\n",
    "plt.ylabel(\"b\")\n",
    "plt.xlabel(\"x\")\n",
    "plt.show()"
   ]
  },
  {
   "cell_type": "markdown",
   "metadata": {},
   "source": [
    "### Car data"
   ]
  },
  {
   "cell_type": "code",
   "execution_count": null,
   "metadata": {},
   "outputs": [],
   "source": [
    "filename = \"CarsRetailPrice.csv\"\n",
    "car_data = pd.read_csv(filename)\n",
    "car_columns = list(car_data.columns)\n",
    "print(car_columns)"
   ]
  },
  {
   "cell_type": "code",
   "execution_count": null,
   "metadata": {},
   "outputs": [],
   "source": [
    "price = car_data[\"Price\"]\n",
    "mileage = car_data[\"Mileage\"]\n",
    "\n",
    "plt.plot(mileage, price, \"x\")\n",
    "plt.xlabel(\"Mileage\")\n",
    "plt.ylabel(\"Price\")\n",
    "plt.show()"
   ]
  },
  {
   "cell_type": "code",
   "execution_count": null,
   "metadata": {},
   "outputs": [],
   "source": [
    "coefs1 = np.polyfit(mileage, price, 1)\n",
    "\n",
    "# Takes the coefs from the fit, and creates callable polynomial functions\n",
    "y = np.poly1d(coefs1)\n",
    "\n",
    "# For smooth plots:\n",
    "x = np.linspace(min(mileage), max(mileage), 100)\n",
    "\n",
    "plt.plot(mileage, price, \"x\")\n",
    "plt.plot(x, y(x), label=\"fit\")\n",
    "plt.xlabel(\"Mileage\")\n",
    "plt.ylabel(\"Price\")\n",
    "plt.show()"
   ]
  },
  {
   "cell_type": "code",
   "execution_count": null,
   "metadata": {},
   "outputs": [],
   "source": [
    "makes = car_data[\"Make\"].unique()\n",
    "print(makes)"
   ]
  },
  {
   "cell_type": "code",
   "execution_count": null,
   "metadata": {},
   "outputs": [],
   "source": [
    "for i, make in enumerate(makes):\n",
    "    tmp_data = car_data[car_data.Make == make]\n",
    "    x_data = tmp_data[\"Mileage\"]\n",
    "    y_data = tmp_data[\"Price\"]\n",
    "    coefs1 = np.polyfit(x_data, y_data, 1)\n",
    "    y = np.poly1d(coefs1)\n",
    "    plt.plot(x_data, y_data, \"x\", color=f\"C{i}\")\n",
    "    plt.plot(x, y(x), \"-\", label=make, color=f\"C{i}\")\n",
    "plt.legend()\n",
    "plt.xlabel(\"Mileage\")\n",
    "plt.ylabel(\"Price\")\n",
    "plt.show()"
   ]
  },
  {
   "cell_type": "code",
   "execution_count": null,
   "metadata": {},
   "outputs": [],
   "source": [
    "chev_data = car_data[car_data[\"Make\"] == \"Chevrolet\"]\n",
    "chev_models = chev_data[\"Model\"].unique()\n",
    "print(chev_models)\n",
    "\n",
    "plt.title(\"Chevrolet\")\n",
    "for i, model in enumerate(chev_models):\n",
    "    tmp_data = car_data[car_data[\"Model\"] == model]\n",
    "    x_data = tmp_data[\"Mileage\"]\n",
    "    y_data = tmp_data[\"Price\"]\n",
    "    coefs1 = np.polyfit(x_data, y_data, 1)\n",
    "    y = np.poly1d(coefs1)\n",
    "    plt.plot(x_data, y_data, \"x\", color=f\"C{i}\")\n",
    "    plt.plot(x, y(x), \"-\", label=model, color=f\"C{i}\")\n",
    "plt.legend()\n",
    "plt.xlabel(\"Mileage\")\n",
    "plt.ylabel(\"Price\")\n",
    "plt.show()"
   ]
  },
  {
   "cell_type": "code",
   "execution_count": null,
   "metadata": {},
   "outputs": [],
   "source": [
    "fig, axs2D = plt.subplots(3, 2, sharex=True, sharey=True)\n",
    "fig.tight_layout(pad=2.0)  # add some space\n",
    "\n",
    "axs = axs2D.flatten()\n",
    "\n",
    "for i, make in enumerate(makes):\n",
    "    make_data = car_data[car_data[\"Make\"] == make]\n",
    "    models = make_data[\"Model\"].unique()\n",
    "\n",
    "    axs[i].set_title(make)\n",
    "    for j, model in enumerate(models):\n",
    "        tmp_data = make_data[make_data[\"Model\"] == model]\n",
    "        x_data = tmp_data[\"Mileage\"]\n",
    "        y_data = tmp_data[\"Price\"]\n",
    "        coefs1 = np.polyfit(x_data, y_data, 1)\n",
    "        y = np.poly1d(coefs1)\n",
    "        axs[i].plot(x_data, y_data, \"x\", color=f\"C{j}\")\n",
    "        axs[i].plot(x, y(x), \"--\", color=f\"C{j}\")\n",
    "    coefs1 = np.polyfit(make_data[\"Mileage\"], make_data[\"Price\"], 1)\n",
    "    y = np.poly1d(coefs1)\n",
    "    axs[i].plot(x, y(x), \"k-\", linewidth=3)\n",
    "[axs2D[2, k].set_xlabel(\"Mileage\") for k in range(0, 2)]\n",
    "[axs2D[k, 0].set_ylabel(\"Price\") for k in range(0, 3)]\n",
    "plt.show()"
   ]
  }
 ],
 "metadata": {
  "kernelspec": {
   "display_name": "Python 3",
   "language": "python",
   "name": "python3"
  },
  "language_info": {
   "codemirror_mode": {
    "name": "ipython",
    "version": 3
   },
   "file_extension": ".py",
   "mimetype": "text/x-python",
   "name": "python",
   "nbconvert_exporter": "python",
   "pygments_lexer": "ipython3",
   "version": "3.10.12"
  }
 },
 "nbformat": 4,
 "nbformat_minor": 2
}
