{
 "cells": [
  {
   "cell_type": "markdown",
   "metadata": {},
   "source": [
    "### LOESS (Savitzky–Golay filter) smoothing\n",
    "\n",
    "Example from:\n",
    "* https://www.datatechnotes.com/2022/05/smoothing-example-with-savitzky-golay.html\n",
    "\n",
    "See also:\n",
    "* https://en.wikipedia.org/wiki/Local_regression"
   ]
  },
  {
   "cell_type": "code",
   "execution_count": null,
   "metadata": {},
   "outputs": [],
   "source": [
    "import numpy as np\n",
    "import matplotlib.pyplot as plt \n",
    "from scipy import signal"
   ]
  },
  {
   "cell_type": "code",
   "execution_count": null,
   "metadata": {},
   "outputs": [],
   "source": [
    "x = np.arange(-2, 2, 0.01)\n",
    "y = np.array(x**2 + np.sin(5*x*np.pi)) \n",
    "y = y + np.array(np.random.random(len(x)) * 3.3)\n",
    "\n",
    "plt.plot(x, y, \"kx\", label=\"data\")\n",
    "plt.show()"
   ]
  },
  {
   "cell_type": "code",
   "execution_count": null,
   "metadata": {},
   "outputs": [],
   "source": [
    "\n",
    "plt.plot(x, y, \"kx\", label=\"data\")\n",
    "plt.plot(x, y, label=\"joined\")\n",
    "plt.legend()\n",
    "plt.show() "
   ]
  },
  {
   "cell_type": "markdown",
   "metadata": {},
   "source": [
    "### Apply smoothing filter"
   ]
  },
  {
   "cell_type": "code",
   "execution_count": null,
   "metadata": {},
   "outputs": [],
   "source": [
    "y_smooth = signal.savgol_filter(y, window_length=15, polyorder=2, mode=\"nearest\")\n",
    "\n",
    "plt.plot(x, y, \"kx\", label=\"data\")\n",
    "plt.plot(x, y, label=\"y_signal\")\n",
    "plt.plot(x, y_smooth, label=\"y_smoothed\")\n",
    "plt.legend()\n",
    "plt.show() "
   ]
  },
  {
   "cell_type": "code",
   "execution_count": null,
   "metadata": {},
   "outputs": [],
   "source": [
    "windows = [5, 10, 20, 30]\n",
    "y_smooth_array = [signal.savgol_filter(y, window_length=w, polyorder=2, mode=\"nearest\") for w in windows]\n",
    "\n",
    "plt.plot(x, y, \"kx\", label=\"y_signal\")\n",
    "for i, y_smooth in enumerate(y_smooth_array):\n",
    "  plt.plot(x, y_smooth, label=f\"window = {windows[i]}\")\n",
    "plt.legend()\n",
    "plt.show() "
   ]
  },
  {
   "cell_type": "code",
   "execution_count": null,
   "metadata": {},
   "outputs": [],
   "source": [
    "fig, axs = plt.subplots(ncols=2)\n",
    "fig.tight_layout(pad=2.0)  # add some space\n",
    "res = y - y_smooth_array[-1]\n",
    "axs[0].plot(x, y_smooth_array[-1], \"r-\", label=\"smoothed\")\n",
    "axs[0].legend()\n",
    "axs[1].plot(x, res, \"kx\", label=\"residuals\")\n",
    "axs[1].legend()\n",
    "plt.show() "
   ]
  }
 ],
 "metadata": {
  "kernelspec": {
   "display_name": "Python 3",
   "language": "python",
   "name": "python3"
  },
  "language_info": {
   "codemirror_mode": {
    "name": "ipython",
    "version": 3
   },
   "file_extension": ".py",
   "mimetype": "text/x-python",
   "name": "python",
   "nbconvert_exporter": "python",
   "pygments_lexer": "ipython3",
   "version": "3.12.2"
  }
 },
 "nbformat": 4,
 "nbformat_minor": 2
}
