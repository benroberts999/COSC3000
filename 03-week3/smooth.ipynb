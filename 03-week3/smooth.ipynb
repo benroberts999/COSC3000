{
 "cells": [
  {
   "cell_type": "markdown",
   "metadata": {},
   "source": [
    "### LOESS (Savitzky–Golay filter) smoothing\n",
    "\n",
    "Example from:\n",
    "* https://www.datatechnotes.com/2022/05/smoothing-example-with-savitzky-golay.html\n",
    "\n",
    "See also:\n",
    "* https://en.wikipedia.org/wiki/Local_regression"
   ]
  },
  {
   "cell_type": "code",
   "execution_count": null,
   "metadata": {},
   "outputs": [],
   "source": [
    "import numpy as np\n",
    "import matplotlib.pyplot as plt \n",
    "from scipy import signal"
   ]
  },
  {
   "cell_type": "code",
   "execution_count": null,
   "metadata": {},
   "outputs": [],
   "source": [
    "x = np.arange(-2, 2, 0.02)\n",
    "y = np.array(x**2 + 2*np.sin(x*np.pi)) \n",
    "y = y + np.array(np.random.random(len(x)) * 2.3)\n",
    " \n",
    "plt.plot(x, y, label=\"y_signal\")\n",
    "plt.legend()\n",
    "plt.show() "
   ]
  },
  {
   "cell_type": "code",
   "execution_count": null,
   "metadata": {},
   "outputs": [],
   "source": [
    "y_smooth = signal.savgol_filter(y, window_length=11, polyorder=2, mode=\"nearest\")"
   ]
  },
  {
   "cell_type": "code",
   "execution_count": null,
   "metadata": {},
   "outputs": [],
   "source": [
    "plt.plot(x, y, label=\"y_signal\")\n",
    "plt.plot(x, y_smooth, label=\"y_smoothed\")\n",
    "plt.legend()\n",
    "plt.show() "
   ]
  },
  {
   "cell_type": "code",
   "execution_count": null,
   "metadata": {},
   "outputs": [],
   "source": [
    "windows = [5, 10, 20, 30]\n",
    "y_smooth_array = [signal.savgol_filter(y, window_length=w, polyorder=2, mode=\"nearest\") for w in windows]\n",
    "\n",
    "plt.plot(x, y, \"b.\", label=\"y_signal\")\n",
    "for i, y_smooth in enumerate(y_smooth_array):\n",
    "  plt.plot(x, y_smooth, label=f\"window = {windows[i]}\")\n",
    "plt.legend()\n",
    "plt.show() "
   ]
  }
 ],
 "metadata": {
  "kernelspec": {
   "display_name": "Python 3",
   "language": "python",
   "name": "python3"
  },
  "language_info": {
   "codemirror_mode": {
    "name": "ipython",
    "version": 3
   },
   "file_extension": ".py",
   "mimetype": "text/x-python",
   "name": "python",
   "nbconvert_exporter": "python",
   "pygments_lexer": "ipython3",
   "version": "3.12.2"
  }
 },
 "nbformat": 4,
 "nbformat_minor": 2
}
