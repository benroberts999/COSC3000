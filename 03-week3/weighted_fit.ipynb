{
 "cells": [
  {
   "cell_type": "markdown",
   "metadata": {},
   "source": [
    "# Fit with errors (weighted fit)"
   ]
  },
  {
   "cell_type": "code",
   "execution_count": null,
   "metadata": {},
   "outputs": [],
   "source": [
    "import numpy as np\n",
    "from matplotlib import pyplot as plt\n",
    "from scipy.optimize import curve_fit"
   ]
  },
  {
   "cell_type": "markdown",
   "metadata": {},
   "source": [
    "True function (just example): \n",
    "$$\n",
    "y(x) = \\frac{a}{(b-x)^2 + c}\n",
    "$$"
   ]
  },
  {
   "cell_type": "code",
   "execution_count": null,
   "metadata": {},
   "outputs": [],
   "source": [
    "def ytrue(x):\n",
    "    return 137.036 / ((4.05 - x) ** 2 + 1.0)"
   ]
  },
  {
   "cell_type": "markdown",
   "metadata": {},
   "source": [
    "### Data, with noise and error bars"
   ]
  },
  {
   "cell_type": "code",
   "execution_count": null,
   "metadata": {},
   "outputs": [],
   "source": [
    "filename = \"data_with_errors.csv\"\n",
    "data = np.genfromtxt(filename, delimiter=\",\", skip_header=1)\n",
    "xdata = data[:, 0]\n",
    "ydata = data[:, 1]\n",
    "yerror = data[:, 2]"
   ]
  },
  {
   "cell_type": "code",
   "execution_count": null,
   "metadata": {},
   "outputs": [],
   "source": [
    "# Create denser x-grid for plotting\n",
    "x = np.linspace(min(xdata), max(xdata), 100)\n",
    "\n",
    "plt.errorbar(xdata, ydata, yerr=yerror, fmt=\".\", capsize=3, label=\"data\")\n",
    "plt.plot(x, ytrue(x), \"k--\", label=\"actual\")\n",
    "plt.legend()\n",
    "plt.show()"
   ]
  },
  {
   "cell_type": "markdown",
   "metadata": {},
   "source": [
    "### General fit:\n",
    "* Define fitting function (model)\n",
    "* Perform the fit\n",
    "* Note: for complicated functions like this, we often need initial guess of parameters"
   ]
  },
  {
   "cell_type": "code",
   "execution_count": null,
   "metadata": {},
   "outputs": [],
   "source": [
    "def f_fit(x, a, b, c):\n",
    "    return a / ((b - x) ** 2 + c)"
   ]
  },
  {
   "cell_type": "code",
   "execution_count": null,
   "metadata": {},
   "outputs": [],
   "source": [
    "# perform the fit:\n",
    "initial_guess = [100, 1, 1]\n",
    "popt, pcov = curve_fit(f_fit, xdata, ydata, initial_guess)\n",
    "\n",
    "# extract the parameters from 'popt = optimised paramters' (careful of the order)\n",
    "a, b, c = popt\n",
    "\n",
    "# Extract the _approximate_ (1 sigma = standard) uncertainties from pcov (parameter covariance)\n",
    "da, db, dc = np.sqrt(np.diag(pcov))\n",
    "\n",
    "print(a, da)\n",
    "print(b, db)\n",
    "print(c, dc)\n",
    "\n",
    "best = f_fit(x, a, b, c)\n",
    "\n",
    "\n",
    "plt.title(\"Simple fit\")\n",
    "plt.errorbar(xdata, ydata, yerr=yerror, fmt=\"b.\", capsize=3)\n",
    "plt.plot(x, best, \"r-\", label=\"best fit\")\n",
    "plt.plot(x, ytrue(x), \"k--\", label=\"actual\")\n",
    "plt.xlabel(\"x\")\n",
    "plt.ylabel(\"y(x)\")\n",
    "plt.legend()\n",
    "plt.show()"
   ]
  },
  {
   "cell_type": "code",
   "execution_count": null,
   "metadata": {},
   "outputs": [],
   "source": [
    "residuals = f_fit(xdata, a, b, c) - ydata\n",
    "plt.title(\"Residuals\")\n",
    "plt.errorbar(xdata, residuals, yerr=yerror, fmt=\"b.\", capsize=3)\n",
    "plt.show()"
   ]
  },
  {
   "cell_type": "markdown",
   "metadata": {},
   "source": [
    "### Weighted fit: \n",
    "* Give curve_fit the error bars\n",
    "* Weights sum of residuals"
   ]
  },
  {
   "cell_type": "code",
   "execution_count": null,
   "metadata": {},
   "outputs": [],
   "source": [
    "# perform the fit:\n",
    "popt_w, pcov_w = curve_fit(f_fit, xdata, ydata, initial_guess, yerror)\n",
    "\n",
    "# extract the parameters from 'popt = optimised paramters' (careful of the order)\n",
    "a, b, c = popt_w\n",
    "\n",
    "# Extract the _approximate_ (1 sigma = standard) uncertainties from pcov (parameter covariance)\n",
    "da, db, dc = np.sqrt(np.diag(pcov_w))\n",
    "\n",
    "print(a, da)\n",
    "print(b, db)\n",
    "print(c, dc)\n",
    "\n",
    "best = f_fit(x, a, b, c)\n",
    "\n",
    "plt.title(\"Weighted fit\")\n",
    "plt.errorbar(xdata, ydata, yerr=yerror, fmt=\"b.\", capsize=3)\n",
    "plt.plot(x, best, \"r-\", label=\"best fit\")\n",
    "plt.plot(x, ytrue(x), \"k--\", label=\"actual\")\n",
    "plt.xlabel(\"x\")\n",
    "plt.ylabel(\"y(x)\")\n",
    "plt.legend()\n",
    "plt.show()"
   ]
  },
  {
   "cell_type": "markdown",
   "metadata": {},
   "source": [
    "### Gives us much better extraction of parameters:"
   ]
  },
  {
   "cell_type": "code",
   "execution_count": null,
   "metadata": {},
   "outputs": [],
   "source": [
    "# extract the parameters from 'popt = optimised paramters' (careful of the order)\n",
    "a0, b0, c0 = popt\n",
    "da0, db0, dc0 = np.sqrt(np.diag(pcov))\n",
    "\n",
    "a1, b1, c1 = popt_w\n",
    "da1, db1, dc1 = np.sqrt(np.diag(pcov_w))\n",
    "\n",
    "fig, axs = plt.subplots(ncols=3)\n",
    "fig.tight_layout(pad=2.0)  # add some space\n",
    "\n",
    "axs[0].set_title(\"a\")\n",
    "axs[0].errorbar(0.3, a0, yerr=da0, fmt=\"o\", color=\"k\", capsize=10)\n",
    "axs[0].errorbar(0.7, a1, yerr=da1, fmt=\"o\", color=\"b\", capsize=10)\n",
    "axs[0].set_xlim(0, 1)\n",
    "axs[0].axhline(y=137.036, color=\"r\", linestyle=\"-\")\n",
    "\n",
    "axs[1].set_title(\"b\")\n",
    "axs[1].errorbar(0.3, b0, yerr=db0, fmt=\"o\", color=\"k\", capsize=10)\n",
    "axs[1].errorbar(0.7, b1, yerr=db1, fmt=\"o\", color=\"b\", capsize=10)\n",
    "axs[1].set_xlim(0, 1)\n",
    "axs[1].axhline(y=4.05, color=\"r\", linestyle=\"-\")\n",
    "\n",
    "axs[2].set_title(\"c\")\n",
    "axs[2].errorbar(0.3, c0, yerr=dc0, fmt=\"o\", color=\"k\", capsize=10, label=\"simple fit\")\n",
    "axs[2].errorbar(0.7, c1, yerr=dc1, fmt=\"o\", color=\"b\", capsize=10, label=\"weigthed fit\")\n",
    "axs[2].set_xlim(0, 1)\n",
    "axs[2].axhline(y=1.0, color=\"r\", linestyle=\"-\", label=\"True value\")\n",
    "\n",
    "for ax in axs:\n",
    "    ax.set_xticks([])\n",
    "\n",
    "fig.legend(loc=\"lower center\", ncol=3)\n",
    "\n",
    "plt.show()"
   ]
  }
 ],
 "metadata": {
  "kernelspec": {
   "display_name": "Python 3",
   "language": "python",
   "name": "python3"
  },
  "language_info": {
   "codemirror_mode": {
    "name": "ipython",
    "version": 3
   },
   "file_extension": ".py",
   "mimetype": "text/x-python",
   "name": "python",
   "nbconvert_exporter": "python",
   "pygments_lexer": "ipython3",
   "version": "3.11.7"
  }
 },
 "nbformat": 4,
 "nbformat_minor": 2
}
