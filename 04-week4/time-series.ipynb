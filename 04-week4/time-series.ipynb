{
 "cells": [
  {
   "cell_type": "markdown",
   "metadata": {},
   "source": [
    "# Time series\n",
    "\n",
    "* https://docs.scipy.org/doc/scipy/reference/generated/scipy.fft.fft.html\n",
    "* https://docs.scipy.org/doc/scipy/tutorial/fft.html\n",
    "\n",
    "* y1 - pure white noise\n",
    "* y2 - random walk noise\n",
    "* y3 - a linear drift (with noise)\n",
    "* y4 - oscaillating function, with noise\n",
    "* y5 - secret combination of the above\n",
    "\n",
    "y4 oscillates accoring to\n",
    "\n",
    "$$\n",
    "  y_4(t) = A_1 \\cos(2\\pi f_1 t) + A_2 \\sin(2\\pi f_2 t)\n",
    "$$\n"
   ]
  },
  {
   "cell_type": "code",
   "execution_count": null,
   "metadata": {},
   "outputs": [],
   "source": [
    "import numpy as np\n",
    "import matplotlib.pyplot as plt\n",
    "from scipy.fft import fft, fftshift, fftfreq"
   ]
  },
  {
   "cell_type": "code",
   "execution_count": null,
   "metadata": {},
   "outputs": [],
   "source": [
    "filename = \"timeseries.csv\"\n",
    "data = np.genfromtxt(filename, delimiter=\",\", skip_header=1)\n",
    "\n",
    "[t, y1, y2, y3, y4, y5] = [data[:, i] for i in range(6)]"
   ]
  },
  {
   "cell_type": "code",
   "execution_count": null,
   "metadata": {},
   "outputs": [],
   "source": [
    "plt.plot(t, y1, label=\"y1\")\n",
    "plt.plot(t, y2, label=\"y2\")\n",
    "plt.plot(t, y3, label=\"y3\")\n",
    "plt.plot(t, y4, label=\"y4\")\n",
    "plt.plot(t, y5, label=\"y5\")\n",
    "plt.legend()\n",
    "plt.show()"
   ]
  },
  {
   "cell_type": "markdown",
   "metadata": {},
   "source": [
    "### Histogram"
   ]
  },
  {
   "cell_type": "code",
   "execution_count": null,
   "metadata": {},
   "outputs": [],
   "source": [
    "fig, [ax1, ax2] = plt.subplots(ncols=2, sharex=True, sharey=True)\n",
    "\n",
    "labels = [\"white\", \"randWalk\", \"drift\", \"osc\", \"mix\"]\n",
    "for i, y in enumerate([y1, y2, y3, y4, y5]):\n",
    "    name = labels[i]\n",
    "    tax = ax1 if name == \"white\" or name == \"osc\" else ax2\n",
    "    tax.hist(y, bins=20, density=True, histtype=\"step\", color=f\"C{i}\", lw=2, label=name)\n",
    "    tax.hist(y, bins=20, density=True, histtype=\"stepfilled\", color=f\"C{i}\", alpha=0.25)\n",
    "    tax.set_yscale(\"log\")\n",
    "    tax.legend()\n",
    "plt.show()"
   ]
  },
  {
   "cell_type": "markdown",
   "metadata": {},
   "source": [
    "### Fourier Transform"
   ]
  },
  {
   "cell_type": "code",
   "execution_count": null,
   "metadata": {},
   "outputs": [],
   "source": [
    "ft = fft(y4)\n",
    "\n",
    "dt = t[1] - t[0]\n",
    "\n",
    "f = fftfreq(len(t), d=dt)\n",
    "\n",
    "\n",
    "plt.plot(f, ft.real, \"x-\", label=\"real\")\n",
    "plt.plot(f, ft.imag, \".-\", label=\"imag\")\n",
    "plt.ylabel(\"FT(y)\")\n",
    "plt.xlabel(\"f (Hz)\")\n",
    "plt.legend()\n",
    "plt.show()"
   ]
  },
  {
   "cell_type": "markdown",
   "metadata": {},
   "source": [
    "### Use 'fftshift' to properly center on 0"
   ]
  },
  {
   "cell_type": "code",
   "execution_count": null,
   "metadata": {},
   "outputs": [],
   "source": [
    "ft = fftshift(fft(y4))\n",
    "f = fftshift(fftfreq(t.size, d=dt))\n",
    "\n",
    "plt.plot(f, ft.real, \"x-\", label=\"real\")\n",
    "plt.plot(f, ft.imag, \".-\", label=\"imag\")\n",
    "# plt.xlim(0)\n",
    "plt.ylabel(\"FT(y)\")\n",
    "plt.xlabel(\"f (Hz)\")\n",
    "plt.legend()\n",
    "plt.show()"
   ]
  },
  {
   "cell_type": "markdown",
   "metadata": {},
   "source": [
    "### Amplitude spectrum from DFT:\n",
    "\n",
    "$$\n",
    "  A(f) = \\frac{2}{N} |FT(y)|\n",
    "$$"
   ]
  },
  {
   "cell_type": "code",
   "execution_count": null,
   "metadata": {},
   "outputs": [],
   "source": [
    "ft = fftshift(fft(y4))\n",
    "freq = fftshift(fftfreq(y4.size, d=dt))\n",
    "\n",
    "\n",
    "amp = 2.0 * np.abs(ft) / len(t)\n",
    "\n",
    "plt.plot(freq, amp, \"-x\", label=\"amplitude\")\n",
    "plt.xlim(0)\n",
    "plt.ylabel(\"Amplitude\")\n",
    "plt.xlabel(\"f (Hz)\")\n",
    "plt.legend()\n",
    "plt.show()"
   ]
  },
  {
   "cell_type": "markdown",
   "metadata": {},
   "source": [
    "### Zoom in, with inset"
   ]
  },
  {
   "cell_type": "code",
   "execution_count": null,
   "metadata": {},
   "outputs": [],
   "source": [
    "from matplotlib import patches\n",
    "\n",
    "fig, ax1 = plt.subplots()\n",
    "\n",
    "ft = fftshift(fft(y4))\n",
    "freq = fftshift(fftfreq(y4.size, d=dt))\n",
    "amp = 2.0 * np.abs(ft) / len(t)\n",
    "\n",
    "\n",
    "plt.plot(freq, amp, \"-\", label=\"amplitude\")\n",
    "plt.xlim(0)\n",
    "plt.ylabel(\"Amplitude\")\n",
    "plt.xlabel(\"f (Hz)\")\n",
    "plt.legend()\n",
    "\n",
    "# Define area to zoom in on\n",
    "x0 = 0.5\n",
    "dx = 3.0\n",
    "y0 = 0.0\n",
    "dy = 1.08\n",
    "\n",
    "ax1.add_patch(plt.Rectangle((x0, y0), dx, dy, ls=\"-\", fc=\"None\", ec=\"grey\"))\n",
    "\n",
    "\n",
    "ax2 = fig.add_axes([0.3, 0.4, 0.5, 0.34])\n",
    "plt.setp(ax2.spines.values(), ls=\"-\", color=\"grey\")\n",
    "ax2.plot(freq, amp, \"-o\")\n",
    "ax2.axhline(y=1.0, color=\"r\", linestyle=\"dotted\", label=\"$f_1$ actual\")\n",
    "ax2.axvline(x=4.0 / 3, color=\"r\", linestyle=\"dotted\")\n",
    "ax2.axhline(y=0.5, color=\"g\", linestyle=\"dashdot\", label=\"$f_2$ actual\")\n",
    "ax2.axvline(x=7.0 / 3, color=\"g\", linestyle=\"dashdot\")\n",
    "ax2.set_xlim(x0, dx)\n",
    "ax2.legend()\n",
    "\n",
    "con1 = patches.ConnectionPatch(\n",
    "    xyA=(x0, y0),  # actual position in full plot\n",
    "    coordsA=ax1.transData,\n",
    "    xyB=(0.0, 0.0),  # relative position on inset plot\n",
    "    coordsB=ax2.transAxes,\n",
    "    color=\"grey\",\n",
    "    linestyle=\"dotted\",\n",
    "    linewidth=0.5,\n",
    ")\n",
    "fig.add_artist(con1)\n",
    "\n",
    "con3 = patches.ConnectionPatch(\n",
    "    xyA=(x0 + dx, y0),\n",
    "    coordsA=ax1.transData,\n",
    "    xyB=(1.0, 0.0),\n",
    "    coordsB=ax2.transAxes,\n",
    "    color=\"grey\",\n",
    "    ls=\"dotted\",\n",
    "    lw=0.5,\n",
    ")\n",
    "fig.add_artist(con3)\n",
    "\n",
    "fig.suptitle(\"Zoom in, with inset\", fontsize=15)\n",
    "plt.show()"
   ]
  },
  {
   "cell_type": "code",
   "execution_count": null,
   "metadata": {},
   "outputs": [],
   "source": [
    "[a1, a2, a3, a4, a5] = [\n",
    "    2.0 * np.abs(fftshift(fft(y))) / len(t) for y in [y1, y2, y3, y4, y5]\n",
    "]\n",
    "\n",
    "f = fftshift(fftfreq(t.size, d=dt))\n",
    "\n",
    "plt.plot(f, a1, label=\"White\")\n",
    "plt.plot(f, a2, label=\"Random Walk\")\n",
    "plt.plot(f, a3, label=\"Drift\")\n",
    "plt.plot(f, a4, label=\"Oscillate\")\n",
    "plt.plot(f, a5, label=\"Combination\")\n",
    "plt.xlim(0, 8)\n",
    "plt.ylabel(\"Amplitude\")\n",
    "plt.xlabel(\"f (Hz)\")\n",
    "plt.legend()\n",
    "plt.show()"
   ]
  }
 ],
 "metadata": {
  "kernelspec": {
   "display_name": "Python 3",
   "language": "python",
   "name": "python3"
  },
  "language_info": {
   "codemirror_mode": {
    "name": "ipython",
    "version": 3
   },
   "file_extension": ".py",
   "mimetype": "text/x-python",
   "name": "python",
   "nbconvert_exporter": "python",
   "pygments_lexer": "ipython3",
   "version": "3.10.12"
  }
 },
 "nbformat": 4,
 "nbformat_minor": 2
}
