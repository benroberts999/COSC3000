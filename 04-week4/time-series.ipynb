{
 "cells": [
  {
   "cell_type": "markdown",
   "metadata": {},
   "source": [
    "# Time series\n",
    "\n",
    "* https://docs.scipy.org/doc/scipy/reference/generated/scipy.fft.fft.html\n",
    "* https://docs.scipy.org/doc/scipy/tutorial/fft.html\n",
    "\n",
    "* y1 - pure white noise\n",
    "* y2 - random walk noise\n",
    "* y3 - a linear drift (with noise)\n",
    "* y4 - oscaillating function, with noise\n",
    "* y5 - secret combination of the above\n",
    "\n",
    "y4 oscillates accoring to\n",
    "\n",
    "$$\n",
    "  y_4(t) = A_1 \\cos(2\\pi f_1 t) + A_2 \\sin(2\\pi f_2 t)\n",
    "$$\n"
   ]
  },
  {
   "cell_type": "code",
   "execution_count": null,
   "metadata": {},
   "outputs": [],
   "source": [
    "import numpy as np\n",
    "import matplotlib.pyplot as plt"
   ]
  },
  {
   "cell_type": "code",
   "execution_count": null,
   "metadata": {},
   "outputs": [],
   "source": [
    "filename = \"timeseries.csv\"\n",
    "data = np.genfromtxt(filename, delimiter=\",\", skip_header=1)\n",
    "\n",
    "[t, y1, y2, y3, y4, y5] = [data[:, i] for i in range(6)]"
   ]
  },
  {
   "cell_type": "code",
   "execution_count": null,
   "metadata": {},
   "outputs": [],
   "source": [
    "plt.plot(t, y1, label=\"White\")\n",
    "plt.plot(t, y2, label=\"Drift\")\n",
    "plt.plot(t, y3, label=\"Random Walk\")\n",
    "plt.plot(t, y4, label=\"Oscillate\")\n",
    "plt.plot(t, y5, label=\"Combo\")\n",
    "plt.xlabel(\"time (s)\")\n",
    "plt.legend()\n",
    "plt.show()"
   ]
  },
  {
   "cell_type": "markdown",
   "metadata": {},
   "source": [
    "### Histogram\n",
    "\n",
    "* Can sometimes be useful for seeing distribution of data\n",
    "* For white noise, the histrogram should be a Gaussian shape\n",
    "* In fact, any of the univariate techniques from previous weeks can be useful!"
   ]
  },
  {
   "cell_type": "code",
   "execution_count": null,
   "metadata": {},
   "outputs": [],
   "source": [
    "fig, [ax1, ax2] = plt.subplots(ncols=2, sharex=True, sharey=True)\n",
    "\n",
    "labels = [\"white\", \"randWalk\", \"drift\", \"osc\", \"mix\"]\n",
    "for i, y in enumerate([y1, y2, y3, y4, y5]):\n",
    "    name = labels[i]\n",
    "    tax = ax1 if name == \"white\" or name == \"osc\" else ax2\n",
    "    tax.hist(y, bins=20, density=True, histtype=\"step\", color=f\"C{i}\", lw=2, label=name)\n",
    "    tax.hist(y, bins=20, density=True, histtype=\"stepfilled\", color=f\"C{i}\", alpha=0.25)\n",
    "    # tax.set_yscale(\"log\")\n",
    "    tax.legend()\n",
    "plt.show()"
   ]
  },
  {
   "cell_type": "markdown",
   "metadata": {},
   "source": [
    "------------------------------------\n",
    "## Fourier Transform"
   ]
  },
  {
   "cell_type": "markdown",
   "metadata": {},
   "source": [
    "Descrete Fourier transform (DFT):\n",
    "\n",
    "$$\n",
    "FT[y]_k = \\sum_n x_n^N \\exp(-2\\pi i \\frac{n k}{N})\n",
    "$$\n",
    "\n",
    "* Implemented using _fast Fourier transform_ algorithm (FFT)\n",
    "* Frequency: $k$ cycles per $N$ samples\n",
    "* `scipy.fft.fft`: evaluates the DFT\n",
    "* `scipy.fft.fftfreq(N, d=dt)`: evaluates the frequencies\n",
    "  * Does this from $[-f_{\\rm max}, f_{\\rm max}]$\n",
    "  * For real data: symmetric/anti-symmetric\n",
    "\n",
    "\n",
    "* FT is generally complex valued, even for real valued data\n",
    "* For real valued data, ${\\rm re}(FT)$ gives the cosine amplitudes\n",
    "* For real valued data, ${\\rm im}(FT)$ gives the sine amplitudes\n",
    "  * both: assuming zero phase: i.e., $A\\cos (\\omega t) + B\\sin (\\omega t)$\n",
    "\n",
    "Often: only need the _amplitudes_\n",
    "\n",
    "$$\n",
    "A_k = \\frac{2\\,|FT[y]_k|}{N}\n",
    "$$\n"
   ]
  },
  {
   "cell_type": "code",
   "execution_count": null,
   "metadata": {},
   "outputs": [],
   "source": [
    "# Plot the data again, befor FFT\n",
    "plt.plot(t, y4, label=\"Example data\")\n",
    "plt.ylabel(\"y(t)\")\n",
    "plt.xlabel(\"t (s)\")\n",
    "plt.title(\"Data\")\n",
    "plt.legend()\n",
    "plt.show()"
   ]
  },
  {
   "cell_type": "code",
   "execution_count": null,
   "metadata": {},
   "outputs": [],
   "source": [
    "from scipy.fft import fft, fftshift, fftfreq\n",
    "\n",
    "ft = fft(y4)\n",
    "\n",
    "dt = t[1] - t[0]\n",
    "\n",
    "f = fftfreq(len(t), d=dt)\n",
    "\n",
    "\n",
    "plt.plot(f, ft.real, \"x-\", label=\"real\")\n",
    "plt.plot(f, ft.imag, \".-\", label=\"imag\")\n",
    "plt.ylabel(\"FT(y)\")\n",
    "plt.xlabel(\"f (Hz)\")\n",
    "plt.title(\"FT of data\")\n",
    "plt.legend()\n",
    "plt.show()"
   ]
  },
  {
   "cell_type": "markdown",
   "metadata": {},
   "source": [
    "### Use 'fftshift' to properly center on 0"
   ]
  },
  {
   "cell_type": "code",
   "execution_count": null,
   "metadata": {},
   "outputs": [],
   "source": [
    "ft = fftshift(fft(y4))\n",
    "f = fftshift(fftfreq(t.size, d=dt))\n",
    "\n",
    "plt.plot(f, ft.real, \"x-\", label=\"real\")\n",
    "plt.plot(f, ft.imag, \".-\", label=\"imag\")\n",
    "plt.xlim(0)  # Only need one half\n",
    "plt.ylabel(\"FT(y)\")\n",
    "plt.xlabel(\"f (Hz)\")\n",
    "plt.legend()\n",
    "plt.show()"
   ]
  },
  {
   "cell_type": "markdown",
   "metadata": {},
   "source": [
    "### Amplitude spectrum from DFT:\n",
    "\n",
    "$$\n",
    "  A(f) = \\frac{2}{N} |FT(y)|\n",
    "$$"
   ]
  },
  {
   "cell_type": "code",
   "execution_count": null,
   "metadata": {},
   "outputs": [],
   "source": [
    "ft = fftshift(fft(y4))\n",
    "freq = fftshift(fftfreq(y4.size, d=dt))\n",
    "\n",
    "\n",
    "amp = 2.0 * np.abs(ft) / len(t)\n",
    "\n",
    "plt.plot(freq, amp, \"-\", label=\"amplitude\")\n",
    "plt.xlim(0)\n",
    "plt.ylabel(\"Amplitude\")\n",
    "plt.xlabel(\"f (Hz)\")\n",
    "plt.legend()\n",
    "plt.show()"
   ]
  },
  {
   "cell_type": "markdown",
   "metadata": {},
   "source": [
    "### Zoom in, with inset"
   ]
  },
  {
   "cell_type": "code",
   "execution_count": null,
   "metadata": {},
   "outputs": [],
   "source": [
    "from matplotlib import patches\n",
    "\n",
    "fig, ax1 = plt.subplots()\n",
    "\n",
    "ft = fftshift(fft(y4))\n",
    "freq = fftshift(fftfreq(y4.size, d=dt))\n",
    "amp = 2.0 * np.abs(ft) / len(t)\n",
    "\n",
    "\n",
    "plt.plot(freq, amp, \"-\", label=\"amplitude\")\n",
    "plt.xlim(0)\n",
    "plt.ylabel(\"Amplitude\")\n",
    "plt.xlabel(\"f (Hz)\")\n",
    "plt.ylim(-0.05, 1.1)\n",
    "plt.legend()\n",
    "\n",
    "# Define area to zoom in on\n",
    "x0 = 0.5\n",
    "dx = 2.5\n",
    "y0 = 0\n",
    "dy = 1.05\n",
    "\n",
    "# Draw rectangle for zoom area:\n",
    "ax1.add_patch(plt.Rectangle((x0, y0), dx, dy, ls=\"-\", fc=\"None\", ec=\"red\"))\n",
    "\n",
    "# Add second axis, at relative position x1,y1 and rel height,width\n",
    "ax2 = fig.add_axes([0.3, 0.4, 0.5, 0.34])\n",
    "plt.setp(ax2.spines.values(), ls=\"-\", color=\"red\")\n",
    "\n",
    "# Draw secondary plot\n",
    "ax2.plot(freq, amp, \"-o\")\n",
    "ax2.axhline(y=1.0, color=\"magenta\", linestyle=\"dotted\", label=\"$f_1$ actual\")\n",
    "ax2.axvline(x=4.0 / 3, color=\"magenta\", linestyle=\"dotted\")\n",
    "ax2.axhline(y=0.5, color=\"g\", linestyle=\"dashdot\", label=\"$f_2$ actual\")\n",
    "ax2.axvline(x=7.0 / 3, color=\"g\", linestyle=\"dashdot\")\n",
    "ax2.set_xlim(x0, x0 + dx)\n",
    "ax2.set_ylim(y0, y0 + dy)\n",
    "ax2.legend()\n",
    "\n",
    "# Draw lines from zoom box to inset plot\n",
    "con1 = patches.ConnectionPatch(\n",
    "    xyA=(x0, y0),  # actual position in full plot\n",
    "    coordsA=ax1.transData,\n",
    "    xyB=(0.0, 0.0),  # relative position on inset plot\n",
    "    coordsB=ax2.transAxes,\n",
    "    color=\"r\",\n",
    "    linestyle=\"dotted\",\n",
    "    linewidth=0.5,\n",
    ")\n",
    "con3 = patches.ConnectionPatch(\n",
    "    xyA=(x0 + dx, y0),\n",
    "    coordsA=ax1.transData,\n",
    "    xyB=(1.0, 0.0),\n",
    "    coordsB=ax2.transAxes,\n",
    "    color=\"r\",\n",
    "    ls=\"dotted\",\n",
    "    lw=0.5,\n",
    ")\n",
    "fig.add_artist(con1)\n",
    "fig.add_artist(con3)\n",
    "\n",
    "fig.suptitle(\"Zoom in, with inset\", fontsize=15)\n",
    "plt.show()"
   ]
  },
  {
   "cell_type": "markdown",
   "metadata": {},
   "source": [
    "### Compare for different data"
   ]
  },
  {
   "cell_type": "code",
   "execution_count": null,
   "metadata": {},
   "outputs": [],
   "source": [
    "[a1, a2, a3, a4, a5] = [\n",
    "    2.0 * np.abs(fftshift(fft(y))) / len(t) for y in [y1, y2, y3, y4, y5]\n",
    "]\n",
    "\n",
    "f = fftshift(fftfreq(t.size, d=dt))\n",
    "\n",
    "plt.plot(f, a1, label=\"White\")\n",
    "plt.plot(f, a2, label=\"Random Walk\")\n",
    "plt.plot(f, a3, label=\"Drift\")\n",
    "plt.plot(f, a4, label=\"Oscillate\")\n",
    "plt.plot(f, a5, label=\"Combination\")\n",
    "plt.xlim(0, 8)\n",
    "plt.ylabel(\"Amplitude\")\n",
    "plt.xlabel(\"f (Hz)\")\n",
    "plt.legend()\n",
    "plt.show()"
   ]
  },
  {
   "cell_type": "markdown",
   "metadata": {},
   "source": [
    "-----------------\n",
    "## Autocorrelation"
   ]
  },
  {
   "cell_type": "markdown",
   "metadata": {},
   "source": [
    "$$\n",
    "  a(\\tau) = \\frac{1}{\\sigma^2} \\langle x(t) \\, x (t+\\tau) \\rangle\n",
    "$$\n",
    "\n",
    "Or, in terms of arrays:\n",
    "\n",
    "$$\n",
    "  a(\\tau) = \\frac{1}{\\sigma^2} \\frac{1}{N}\\sum  x_i \\, x_{i+\\tau}\n",
    "$$\n",
    "where $N$ is the number of data points included in the sum (will be less than the full data size for $\\tau\\neq0$)"
   ]
  },
  {
   "cell_type": "code",
   "execution_count": null,
   "metadata": {},
   "outputs": [],
   "source": [
    "# We can define this ourselves:\n",
    "\n",
    "\n",
    "def t_acf(data, lag):\n",
    "    mean = np.mean(data)\n",
    "    var = np.var(data)\n",
    "    a = 0.0\n",
    "    for i in range(len(data) - lag):\n",
    "        a += (data[i] - mean) * (data[i + lag] - mean) / var\n",
    "    return a / (len(data) - lag)\n",
    "\n",
    "\n",
    "def acf(data):\n",
    "    return [t_acf(data, lag) for lag in range(len(y1))]"
   ]
  },
  {
   "cell_type": "code",
   "execution_count": null,
   "metadata": {},
   "outputs": [],
   "source": [
    "# Or, we can make use of numpy's correlate function\n",
    "# We have to manipulate the output a little.\n",
    "# numpy's version is more numerically stable for large lag times\n",
    "def acf2(data):\n",
    "    tdata = data - np.mean(data)\n",
    "    tmp = np.correlate(tdata, tdata, \"full\") / np.var(tdata) / tdata.size\n",
    "    # This is reversed and repeated. Take first half, and reverse it:\n",
    "    return np.flip(tmp[: int(len(tmp) / 2) + 1])"
   ]
  },
  {
   "cell_type": "code",
   "execution_count": null,
   "metadata": {},
   "outputs": [],
   "source": [
    "a0 = acf(y1)\n",
    "\n",
    "a2 = acf2(y1)\n",
    "\n",
    "\n",
    "plt.plot(a0, label=\"manual\")\n",
    "plt.plot(a2, \"--\", label=\"via numpy\")\n",
    "plt.legend()\n",
    "plt.show()"
   ]
  },
  {
   "cell_type": "markdown",
   "metadata": {},
   "source": [
    "### Understand autocorrelation:"
   ]
  },
  {
   "cell_type": "code",
   "execution_count": null,
   "metadata": {},
   "outputs": [],
   "source": [
    "from ipywidgets import interact\n",
    "\n",
    "# For x values:\n",
    "dt = t[1] - t[0]\n",
    "lags = np.arange(len(t)) * dt\n",
    "\n",
    "data_dic = {\"White\": y1, \"Drift\": y2, \"Random Walk\": y3, \"Oscillate\": y4}\n",
    "\n",
    "\n",
    "def series(data_set, lag):\n",
    "    data = data_dic[data_set]\n",
    "    fig, axs = plt.subplots(nrows=2, sharex=True, figsize=(8, 4))\n",
    "    t_acf = acf2(data)\n",
    "    axs[0].set_xlim(0, 2.0)\n",
    "    ilag = int(lag / dt)\n",
    "    axs[0].plot(t, data)\n",
    "    axs[0].plot(t[: len(t) - ilag], data[ilag:], linestyle=\"dotted\", alpha=0.85)\n",
    "    axs[0].set_xlabel(\"t (s)\")\n",
    "    axs[1].plot(lags, t_acf)\n",
    "    axs[1].axvline(x=lag, color=\"k\")\n",
    "    axs[1].axhline(y=t_acf[ilag], linestyle=\"dotted\", color=\"k\")\n",
    "    axs[1].set_xlabel(\"lag (s)\")\n",
    "    axs[1].text(0.75, 0.85, f\"acf({lag:.2f}) = {t_acf[ilag]:.2f}\")\n",
    "\n",
    "\n",
    "itr = interact(\n",
    "    series, data_set=[\"Random Walk\", \"White\", \"Drift\", \"Oscillate\"], lag=(0, 1.5, 0.01)\n",
    ")"
   ]
  },
  {
   "cell_type": "code",
   "execution_count": null,
   "metadata": {},
   "outputs": [],
   "source": [
    "# Put lag into correct units:\n",
    "lag = np.arange(len(t)) * dt\n",
    "\n",
    "plt.title(\"Autocorrelation\")\n",
    "plt.plot(lag, acf2(y1), label=\"white\")\n",
    "plt.plot(lag, acf2(y2), label=\"drift\")\n",
    "plt.plot(lag, acf2(y3), label=\"random walk\")\n",
    "plt.plot(lag, acf2(y4), label=\"oscilate\")\n",
    "plt.xlabel(\"lag (s)\")\n",
    "plt.legend()\n",
    "plt.show()"
   ]
  }
 ],
 "metadata": {
  "kernelspec": {
   "display_name": "Python 3",
   "language": "python",
   "name": "python3"
  },
  "language_info": {
   "codemirror_mode": {
    "name": "ipython",
    "version": 3
   },
   "file_extension": ".py",
   "mimetype": "text/x-python",
   "name": "python",
   "nbconvert_exporter": "python",
   "pygments_lexer": "ipython3",
   "version": "3.10.12"
  }
 },
 "nbformat": 4,
 "nbformat_minor": 2
}
