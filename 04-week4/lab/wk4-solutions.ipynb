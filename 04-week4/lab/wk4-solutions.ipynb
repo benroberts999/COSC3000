{
 "cells": [
  {
   "cell_type": "code",
   "execution_count": null,
   "metadata": {},
   "outputs": [],
   "source": [
    "import numpy as np\n",
    "import matplotlib.pyplot as plt"
   ]
  },
  {
   "cell_type": "markdown",
   "metadata": {},
   "source": [
    "## Time-series data:"
   ]
  },
  {
   "cell_type": "code",
   "execution_count": null,
   "metadata": {},
   "outputs": [],
   "source": [
    "filename = \"data.csv\"\n",
    "data = np.genfromtxt(filename, delimiter=\",\", skip_header=1)\n",
    "\n",
    "# [t, y1, y2, y3, y4, y5] = [data[:, i] for i in range(6)]\n",
    "\n",
    "t = data[:, 0]\n",
    "ydata = [data[:, i] for i in range(1, 6)]"
   ]
  },
  {
   "cell_type": "code",
   "execution_count": null,
   "metadata": {},
   "outputs": [],
   "source": [
    "for i, y in enumerate(ydata):\n",
    "    plt.plot(t, y, label=f\"data:{i+1}\")\n",
    "plt.legend()\n",
    "plt.show()"
   ]
  },
  {
   "cell_type": "markdown",
   "metadata": {},
   "source": [
    "### Autocorrelation"
   ]
  },
  {
   "cell_type": "code",
   "execution_count": null,
   "metadata": {},
   "outputs": [],
   "source": [
    "def acf(data):\n",
    "    tdata = data - np.mean(data)\n",
    "    tmp = np.correlate(tdata, tdata, \"full\") / np.var(tdata) / tdata.size\n",
    "    # This is reversed and repeated. Take first half, and reverse it:\n",
    "    return np.flip(tmp[: int(len(tmp) / 2) + 1])"
   ]
  },
  {
   "cell_type": "code",
   "execution_count": null,
   "metadata": {},
   "outputs": [],
   "source": [
    "for i, y in enumerate(ydata):\n",
    "    a = acf(y)\n",
    "    plt.plot(t, a, label=f\"data:{i+1}\")\n",
    "plt.xlim(0, 100)\n",
    "plt.title(\"Autocorrelation\")\n",
    "plt.legend()\n",
    "plt.show()"
   ]
  },
  {
   "cell_type": "markdown",
   "metadata": {},
   "source": [
    "## Fourier:"
   ]
  },
  {
   "cell_type": "code",
   "execution_count": null,
   "metadata": {},
   "outputs": [],
   "source": [
    "filename2 = \"fdata.csv\"\n",
    "data2 = np.genfromtxt(filename2, delimiter=\",\", skip_header=1)\n",
    "\n",
    "[t2, f1, f2, f3] = [data2[:, i] for i in range(4)]"
   ]
  },
  {
   "cell_type": "code",
   "execution_count": null,
   "metadata": {},
   "outputs": [],
   "source": [
    "plt.plot(t2, f2, label=\"f2\")\n",
    "plt.plot(t2, f1, label=\"f1\")\n",
    "plt.plot(t2, f3, label=\"f3\")\n",
    "plt.legend()\n",
    "plt.show()"
   ]
  },
  {
   "cell_type": "code",
   "execution_count": null,
   "metadata": {},
   "outputs": [],
   "source": [
    "from scipy.fft import fft, fftshift, fftfreq\n",
    "\n",
    "dt = t2[1] - t2[0]\n",
    "\n",
    "ft1 = fftshift(fft(f1))\n",
    "ft2 = fftshift(fft(f2))\n",
    "ft3 = fftshift(fft(f3))\n",
    "\n",
    "freq = fftshift(fftfreq(f1.size, d=dt))\n",
    "\n",
    "amp1 = 2.0 * np.abs(ft1) / len(t)\n",
    "amp2 = 2.0 * np.abs(ft2) / len(t)\n",
    "amp3 = 2.0 * np.abs(ft3) / len(t)\n",
    "\n",
    "plt.plot(freq, amp1, \"-\", label=\"amplitude 1\")\n",
    "plt.plot(freq, amp2, \"--\", label=\"amplitude 2\")\n",
    "plt.plot(freq, amp3, \"-.\", label=\"amplitude 3\")\n",
    "plt.xlim(0)\n",
    "plt.ylabel(\"Amplitude\")\n",
    "plt.xlabel(\"f (Hz)\")\n",
    "plt.legend()\n",
    "plt.show()"
   ]
  },
  {
   "cell_type": "code",
   "execution_count": null,
   "metadata": {},
   "outputs": [],
   "source": [
    "a1 = acf(f1)\n",
    "a2 = acf(f2)\n",
    "a3 = acf(f3)\n",
    "\n",
    "\n",
    "plt.plot(t2, a1)\n",
    "plt.plot(t2, a2)\n",
    "plt.plot(t2, a3)\n",
    "plt.xlim(0, 0.2)\n",
    "plt.show()"
   ]
  },
  {
   "cell_type": "markdown",
   "metadata": {},
   "source": [
    "## CO2 data"
   ]
  },
  {
   "cell_type": "code",
   "execution_count": null,
   "metadata": {},
   "outputs": [],
   "source": [
    "co2_fname = \"co2_mm_gl.csv\"\n",
    "co2_data = np.genfromtxt(co2_fname, delimiter=\",\", skip_header=38, names=True)\n",
    "x = co2_data[\"decimal\"]\n",
    "y = co2_data[\"average\"]"
   ]
  },
  {
   "cell_type": "code",
   "execution_count": null,
   "metadata": {},
   "outputs": [],
   "source": [
    "plt.plot(co2_data[\"decimal\"], co2_data[\"average\"])\n",
    "plt.plot(co2_data[\"decimal\"], co2_data[\"trend\"])\n",
    "plt.show()"
   ]
  },
  {
   "cell_type": "code",
   "execution_count": null,
   "metadata": {},
   "outputs": [],
   "source": [
    "coefs = np.polyfit(x, y, 1)\n",
    "yfit = np.poly1d(coefs)\n",
    "\n",
    "y1 = y - yfit(x)\n",
    "\n",
    "plt.plot(x, y1, \".-\")\n",
    "plt.xlabel(\"year\")\n",
    "plt.ylabel(\"CO$_2$ (ppm), with trend subtracted\")\n",
    "plt.show()"
   ]
  },
  {
   "cell_type": "code",
   "execution_count": null,
   "metadata": {},
   "outputs": [],
   "source": [
    "coefs = np.polyfit(x, y, 2)\n",
    "yfit = np.poly1d(coefs)\n",
    "\n",
    "y2 = y - yfit(x)\n",
    "\n",
    "plt.plot(x, y2, \".-\")\n",
    "plt.xlabel(\"year\")\n",
    "plt.ylabel(\"CO$_2$ (ppm), with trend subtracted\")\n",
    "plt.show()"
   ]
  },
  {
   "cell_type": "code",
   "execution_count": null,
   "metadata": {},
   "outputs": [],
   "source": [
    "from scipy import signal\n",
    "\n",
    "y_smooth_12 = signal.savgol_filter(y1, window_length=6, polyorder=2)\n",
    "y_smooth_24 = signal.savgol_filter(y1, window_length=24, polyorder=1)\n",
    "plt.plot(x, y_smooth_12, label=\"2nd order, 6 month window\")\n",
    "plt.plot(x, y_smooth_24, label=\"1st order, 2 year window\")\n",
    "plt.xlabel(\"Year\")\n",
    "plt.ylabel(\"Deviation from 1st-order poly trend\")\n",
    "plt.show()"
   ]
  },
  {
   "cell_type": "code",
   "execution_count": null,
   "metadata": {},
   "outputs": [],
   "source": [
    "y_smooth_12 = signal.savgol_filter(y2, window_length=6, polyorder=2)\n",
    "y_smooth_24 = signal.savgol_filter(y2, window_length=24, polyorder=1)\n",
    "plt.plot(x, y_smooth_12, label=\"2nd order, 6 month window\")\n",
    "plt.plot(x, y_smooth_24, label=\"1st order, 2 year window\")\n",
    "plt.xlabel(\"Year\")\n",
    "plt.ylabel(\"Deviation from 2nd-order poly trend\")\n",
    "plt.show()"
   ]
  },
  {
   "cell_type": "code",
   "execution_count": null,
   "metadata": {},
   "outputs": [],
   "source": [
    "import seaborn as sns\n",
    "\n",
    "nrows = 1\n",
    "ncols = round(y.size / nrows) + 1\n",
    "\n",
    "yt = np.resize(y, ncols * nrows)\n",
    "z = yt.reshape((nrows, ncols))\n",
    "\n",
    "ax = sns.heatmap(z)\n",
    "\n",
    "plt.title(\"CO$_2$ (ppm)\")\n",
    "plt.ylabel(\"Cycles\")\n",
    "plt.xlabel(\"Months since Jan 1979\")\n",
    "plt.show()"
   ]
  },
  {
   "cell_type": "code",
   "execution_count": null,
   "metadata": {},
   "outputs": [],
   "source": [
    "yt = np.resize(y1, ncols * nrows)\n",
    "z = yt.reshape((nrows, ncols))\n",
    "\n",
    "ax = sns.heatmap(z)\n",
    "\n",
    "plt.title(\"CO$_2$ (ppm) - deviation from linear trend\")\n",
    "plt.ylabel(\"Cycles\")\n",
    "plt.xlabel(\"Months since Jan 1979\")\n",
    "plt.show()"
   ]
  },
  {
   "cell_type": "code",
   "execution_count": null,
   "metadata": {},
   "outputs": [],
   "source": [
    "import datetime\n",
    "\n",
    "# Month labels:\n",
    "months = [datetime.date(1900, i + 1, 1).strftime(\"%B\") for i in range(12)]\n",
    "\n",
    "ncols = 12\n",
    "nrows = round(y.size / ncols)\n",
    "\n",
    "yt = np.resize(y1, ncols * nrows)\n",
    "z = yt.reshape((nrows, ncols))\n",
    "\n",
    "ax = sns.heatmap(z)\n",
    "ax.invert_yaxis()\n",
    "ax.set_xticklabels(months, rotation=50)\n",
    "\n",
    "# Set y-tick locations: 0 to nrows, every 2nd:\n",
    "ax.set_yticks(range(0, nrows, 2))\n",
    "# Year labels (every 2nd):\n",
    "tyears = [f\"{1979+2*i}\" for i in range(int(nrows / 2 + 1))]\n",
    "# Set years as labels\n",
    "ax.set_yticklabels(tyears)\n",
    "\n",
    "plt.title(\"CO$_2$ (ppm) - deviation from linear trend\")\n",
    "plt.show()"
   ]
  },
  {
   "cell_type": "code",
   "execution_count": null,
   "metadata": {},
   "outputs": [],
   "source": [
    "yt = np.resize(y2, ncols * nrows)\n",
    "z = yt.reshape((nrows, ncols))\n",
    "\n",
    "ax = sns.heatmap(z)\n",
    "ax.invert_yaxis()\n",
    "ax.set_xticklabels(months, rotation=50)\n",
    "\n",
    "# Set y-tick locations: 0 to nrows, every 2nd:\n",
    "ax.set_yticks(range(0, nrows, 2))\n",
    "# Year labels (every 2nd):\n",
    "tyears = [f\"{1979+2*i}\" for i in range(int(nrows / 2 + 1))]\n",
    "# Set years as labels\n",
    "ax.set_yticklabels(tyears)\n",
    "\n",
    "plt.title(\"CO$_2$ (ppm) - deviation from quadratic trend\")\n",
    "plt.show()"
   ]
  },
  {
   "cell_type": "markdown",
   "metadata": {},
   "source": [
    "## Cycle plot:"
   ]
  },
  {
   "cell_type": "markdown",
   "metadata": {},
   "source": [
    "* First, see how we can filter the data to get a plot for each month:"
   ]
  },
  {
   "cell_type": "code",
   "execution_count": null,
   "metadata": {},
   "outputs": [],
   "source": [
    "jan_data = co2_data[co2_data[\"month\"] == 1]\n",
    "feb_data = co2_data[co2_data[\"month\"] == 2]\n",
    "\n",
    "plt.plot(jan_data[\"year\"], jan_data[\"average\"], label=\"Jan\")\n",
    "plt.plot(feb_data[\"year\"], feb_data[\"average\"], label=\"Feb\")\n",
    "plt.show()"
   ]
  },
  {
   "cell_type": "markdown",
   "metadata": {},
   "source": [
    "### Use subplots to begin our cycle plot"
   ]
  },
  {
   "cell_type": "code",
   "execution_count": null,
   "metadata": {},
   "outputs": [],
   "source": [
    "fig, axs = plt.subplots(ncols=12, sharey=True)\n",
    "\n",
    "for i, ax in enumerate(axs):\n",
    "    month_data = co2_data[co2_data[\"month\"] == i + 1]\n",
    "    ax.plot(month_data[\"year\"], month_data[\"average\"])"
   ]
  },
  {
   "cell_type": "markdown",
   "metadata": {},
   "source": [
    "### ... lets make this nicer:"
   ]
  },
  {
   "cell_type": "code",
   "execution_count": null,
   "metadata": {},
   "outputs": [],
   "source": [
    "def i_to_month(i):\n",
    "    # presumably there's a nicer way to do this..\n",
    "    return datetime.date(1900, i, 1).strftime(\"%b\")"
   ]
  },
  {
   "cell_type": "code",
   "execution_count": null,
   "metadata": {},
   "outputs": [],
   "source": [
    "fig, axs = plt.subplots(ncols=12, sharey=True)\n",
    "plt.subplots_adjust(wspace=0.0)\n",
    "\n",
    "for i, ax in enumerate(axs):\n",
    "    month_data = co2_data[co2_data[\"month\"] == i + 1]\n",
    "    ax.plot(month_data[\"year\"], month_data[\"average\"])\n",
    "    # add x,o to first/last year; only add label (for legend) once:\n",
    "    label1 = \"1979\" if i == 0 else None\n",
    "    label2 = \"2023\" if i == 0 else None\n",
    "    ax.plot(month_data[\"year\"][0], month_data[\"average\"][0], \"bx\", label=label1)\n",
    "    ax.plot(month_data[\"year\"][-1], month_data[\"average\"][-1], \"bo\", label=label2)\n",
    "    ax.set_xlim(1979 - 10, 2023 + 10)  # leave some space on either side\n",
    "    ax.set_xlabel(i_to_month(i + 1))\n",
    "    ax.set_xticks([])\n",
    "    ax.set_frame_on(False)\n",
    "    ax.grid(True)\n",
    "    ax.tick_params(left=False, bottom=False)\n",
    "    if i == 0:\n",
    "        ax.set_ylabel(\"CO$_2$ (ppm)\")\n",
    "plt.suptitle(\"CO$_2$\")\n",
    "fig.legend()\n",
    "plt.show()"
   ]
  },
  {
   "cell_type": "code",
   "execution_count": null,
   "metadata": {},
   "outputs": [],
   "source": [
    "co2_data_copy = co2_data.copy()\n",
    "co2_data_copy[\"average\"] = y1\n",
    "\n",
    "fig, axs = plt.subplots(ncols=12, sharey=True)\n",
    "plt.subplots_adjust(wspace=0.0)\n",
    "\n",
    "for i, ax in enumerate(axs):\n",
    "    month_data = co2_data_copy[co2_data[\"month\"] == i + 1]\n",
    "    ax.plot(month_data[\"year\"], month_data[\"average\"])\n",
    "\n",
    "    # add x,o to first/last year; only add label (for legend) once:\n",
    "    label1 = \"1979\" if i == 0 else None\n",
    "    label2 = \"2023\" if i == 0 else None\n",
    "    label3 = str(int(month_data[\"year\"][21])) if i == 0 else None\n",
    "    ax.plot(month_data[\"year\"][0], month_data[\"average\"][0], \"bx\", label=label1)\n",
    "    ax.plot(month_data[\"year\"][21], month_data[\"average\"][21], \"b+\", label=label3)\n",
    "    ax.plot(month_data[\"year\"][-1], month_data[\"average\"][-1], \"bo\", label=label2)\n",
    "\n",
    "    ax.set_xlim(1979 - 10, 2023 + 10)  # leave some space on either side\n",
    "    ax.set_xlabel(i_to_month(i + 1))\n",
    "    ax.set_xticks([])\n",
    "    ax.set_frame_on(False)\n",
    "    ax.grid(True)\n",
    "    ax.tick_params(left=False, bottom=False)\n",
    "    if i == 0:\n",
    "        ax.set_ylabel(\"CO$_2$ concentration (ppm)\")\n",
    "plt.suptitle(\"CO$_2$: deviation from linear trend\")\n",
    "fig.legend()\n",
    "plt.show()"
   ]
  },
  {
   "cell_type": "code",
   "execution_count": null,
   "metadata": {},
   "outputs": [],
   "source": [
    "co2_data_copy = co2_data.copy()\n",
    "co2_data_copy[\"average\"] = y2\n",
    "\n",
    "fig, axs = plt.subplots(ncols=12, sharey=True)\n",
    "plt.subplots_adjust(wspace=0.0)\n",
    "\n",
    "for i, ax in enumerate(axs):\n",
    "    month_data = co2_data_copy[co2_data[\"month\"] == i + 1]\n",
    "    ax.plot(month_data[\"year\"], month_data[\"average\"])\n",
    "\n",
    "    # add x,o to first/last year; only add label (for legend) once:\n",
    "    label1 = \"1979\" if i == 0 else None\n",
    "    label2 = \"2023\" if i == 0 else None\n",
    "    label3 = str(int(month_data[\"year\"][21])) if i == 0 else None\n",
    "    ax.plot(month_data[\"year\"][0], month_data[\"average\"][0], \"bx\", label=label1)\n",
    "    ax.plot(month_data[\"year\"][21], month_data[\"average\"][21], \"b+\", label=label3)\n",
    "    ax.plot(month_data[\"year\"][-1], month_data[\"average\"][-1], \"bo\", label=label2)\n",
    "\n",
    "    ax.set_xlim(1979 - 10, 2023 + 10)  # leave some space on either side\n",
    "    ax.set_xlabel(i_to_month(i + 1))\n",
    "    ax.set_xticks([])\n",
    "    ax.set_frame_on(False)\n",
    "    ax.grid(True)\n",
    "    ax.tick_params(left=False, bottom=False)\n",
    "    if i == 0:\n",
    "        ax.set_ylabel(\"CO$_2$ concentration (ppm)\")\n",
    "plt.suptitle(\"CO$_2$: deviation from quadratic trend\")\n",
    "fig.legend()\n",
    "plt.show()"
   ]
  }
 ],
 "metadata": {
  "kernelspec": {
   "display_name": "Python 3",
   "language": "python",
   "name": "python3"
  },
  "language_info": {
   "codemirror_mode": {
    "name": "ipython",
    "version": 3
   },
   "file_extension": ".py",
   "mimetype": "text/x-python",
   "name": "python",
   "nbconvert_exporter": "python",
   "pygments_lexer": "ipython3",
   "version": "3.10.12"
  }
 },
 "nbformat": 4,
 "nbformat_minor": 2
}
