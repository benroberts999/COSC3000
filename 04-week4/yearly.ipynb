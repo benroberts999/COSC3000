{
 "cells": [
  {
   "cell_type": "code",
   "execution_count": null,
   "metadata": {},
   "outputs": [],
   "source": [
    "import numpy as np\n",
    "import matplotlib.pyplot as plt\n",
    "import seaborn as sns\n",
    "from scipy import signal"
   ]
  },
  {
   "cell_type": "code",
   "execution_count": null,
   "metadata": {},
   "outputs": [],
   "source": [
    "filename = \"yearly.csv\"\n",
    "data = np.genfromtxt(filename, delimiter=\",\")\n",
    "\n",
    "x = data[:, 0]\n",
    "y = data[:, 1]"
   ]
  },
  {
   "cell_type": "code",
   "execution_count": null,
   "metadata": {},
   "outputs": [],
   "source": [
    "plt.plot(x, y)\n",
    "plt.xlabel(\"day\")\n",
    "plt.ylabel(\"Measurement\")\n",
    "plt.show()"
   ]
  },
  {
   "cell_type": "code",
   "execution_count": null,
   "metadata": {},
   "outputs": [],
   "source": [
    "coefs = np.polyfit(x, y, 1)\n",
    "yfit = np.poly1d(coefs)\n",
    "y1 = y - yfit(x)\n",
    "plt.plot(x, y1)\n",
    "plt.xlabel(\"day\")\n",
    "plt.ylabel(\"Measurement, drift subtracted\")\n",
    "plt.show()"
   ]
  },
  {
   "cell_type": "code",
   "execution_count": null,
   "metadata": {},
   "outputs": [],
   "source": [
    "y_smooth = signal.savgol_filter(y1, window_length=150, polyorder=2, mode=\"nearest\")\n",
    "plt.plot(x, y_smooth)\n",
    "plt.xlabel(\"day\")\n",
    "plt.ylabel(\"Redisuals\")\n",
    "plt.show()"
   ]
  },
  {
   "cell_type": "code",
   "execution_count": null,
   "metadata": {},
   "outputs": [],
   "source": [
    "fig, axs = plt.subplots(nrows=3, sharex=True, figsize=(6, 8))\n",
    "\n",
    "ys = [y, yfit(x), y1, y_smooth, y_smooth - y1]\n",
    "titles = [\"raw data\", \"Trend\", \"Seasonal Residuals\", \"Seasonal Trend\", \"Residuals\"]\n",
    "\n",
    "# Control which lines plotted on which axes\n",
    "t_axs = [axs[0], axs[0], axs[1], axs[1], axs[2]]\n",
    "\n",
    "for i, yt in enumerate(ys):\n",
    "    t_axs[i].plot(x, yt, label=titles[i], color=f\"C{i}\")\n",
    "    t_axs[i].legend(loc=\"upper left\")\n",
    "plt.show()"
   ]
  },
  {
   "cell_type": "code",
   "execution_count": null,
   "metadata": {},
   "outputs": [],
   "source": [
    "nrows = 1\n",
    "ncols = round(y.size / nrows) + 1\n",
    "yt = np.resize(y, ncols * nrows)\n",
    "z = yt.reshape((nrows, ncols))\n",
    "\n",
    "ax = sns.heatmap(z)\n",
    "plt.ylabel(\"Cycles\")\n",
    "plt.xlabel(\"Days\")\n",
    "plt.show()"
   ]
  },
  {
   "cell_type": "code",
   "execution_count": null,
   "metadata": {},
   "outputs": [],
   "source": [
    "nrows = 10\n",
    "ncols = round(y.size / nrows)\n",
    "yt = np.resize(y, ncols * nrows)\n",
    "z = yt.reshape((nrows, ncols))\n",
    "\n",
    "ax = sns.heatmap(z)\n",
    "ax.invert_yaxis()\n",
    "plt.ylabel(\"Years\")\n",
    "plt.xlabel(\"Day\")\n",
    "plt.show()"
   ]
  },
  {
   "cell_type": "code",
   "execution_count": null,
   "metadata": {},
   "outputs": [],
   "source": [
    "nrows = 10\n",
    "ncols = round(y.size / nrows)\n",
    "yt = np.resize(y1, ncols * nrows)\n",
    "z = yt.reshape((nrows, ncols))\n",
    "\n",
    "ax = sns.heatmap(z)\n",
    "ax.invert_yaxis()\n",
    "plt.ylabel(\"Years\")\n",
    "plt.xlabel(\"Days\")\n",
    "plt.show()"
   ]
  },
  {
   "cell_type": "code",
   "execution_count": null,
   "metadata": {},
   "outputs": [],
   "source": [
    "nrows = 5\n",
    "ncols = round(y.size / nrows)\n",
    "yt2 = np.resize(y1, ncols * nrows)\n",
    "z = yt2.reshape((nrows, ncols))\n",
    "\n",
    "ax = sns.heatmap(z)\n",
    "ax.invert_yaxis()\n",
    "plt.ylabel(\"Half-years\")\n",
    "plt.xlabel(\"Days\")\n",
    "plt.show()"
   ]
  },
  {
   "cell_type": "code",
   "execution_count": null,
   "metadata": {},
   "outputs": [],
   "source": [
    "from scipy.fft import fft, fftshift, fftfreq\n",
    "\n",
    "ft = fftshift(fft(y))\n",
    "freq = fftshift(fftfreq(y.size, d=1)) * 365\n",
    "\n",
    "amp = 2.0 * np.abs(ft) / len(y)\n",
    "\n",
    "plt.title(\"FT: Drift swamps signal\")\n",
    "plt.plot(freq, amp, \"-x\", label=\"amplitude\")\n",
    "plt.xlim(0, 5)\n",
    "plt.ylabel(\"Amplitude\")\n",
    "plt.xlabel(\"f (year$^{-1}$)\")\n",
    "plt.legend()\n",
    "plt.show()"
   ]
  },
  {
   "cell_type": "code",
   "execution_count": null,
   "metadata": {},
   "outputs": [],
   "source": [
    "ft = fftshift(fft(y1))\n",
    "amp = 2.0 * np.abs(ft) / len(y)\n",
    "\n",
    "plt.title(\"FT: with trend subtracted\")\n",
    "plt.plot(freq, amp, \"-x\", label=\"amplitude\")\n",
    "plt.xlim(0, 5)\n",
    "plt.ylabel(\"Amplitude\")\n",
    "plt.xlabel(\"f (year$^{-1}$)\")\n",
    "plt.legend()\n",
    "plt.show()"
   ]
  },
  {
   "cell_type": "code",
   "execution_count": null,
   "metadata": {},
   "outputs": [],
   "source": [
    "def acf2(data):\n",
    "    tdata = data - np.mean(data)\n",
    "    tmp = np.correlate(tdata, tdata, \"full\") / np.var(tdata) / tdata.size\n",
    "    # This is reversed and repeated. Take first half, and reverse it:\n",
    "    return np.flip(tmp[: int(len(tmp) / 2) + 1])\n",
    "\n",
    "\n",
    "plt.plot(acf2(y), label=\"manual\")\n",
    "plt.plot(acf2(y), label=\"manual\")\n",
    "plt.plot(acf2(y), label=\"manual\")\n",
    "plt.plot(acf2(y), label=\"manual\")\n",
    "plt.legend()\n",
    "plt.show()"
   ]
  },
  {
   "cell_type": "code",
   "execution_count": null,
   "metadata": {},
   "outputs": [],
   "source": [
    "plt.plot(x, acf2(y), label=\"Raw data\")\n",
    "plt.plot(x, acf2(y1), label=\"Seasonal Residuals\")\n",
    "plt.plot(x, acf2(y_smooth - y1), label=\"Residuals\")\n",
    "plt.legend()\n",
    "plt.show()"
   ]
  }
 ],
 "metadata": {
  "kernelspec": {
   "display_name": "Python 3",
   "language": "python",
   "name": "python3"
  },
  "language_info": {
   "codemirror_mode": {
    "name": "ipython",
    "version": 3
   },
   "file_extension": ".py",
   "mimetype": "text/x-python",
   "name": "python",
   "nbconvert_exporter": "python",
   "pygments_lexer": "ipython3",
   "version": "3.10.12"
  }
 },
 "nbformat": 4,
 "nbformat_minor": 2
}
