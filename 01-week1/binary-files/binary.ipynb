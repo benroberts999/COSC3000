{
 "cells": [
  {
   "cell_type": "markdown",
   "metadata": {},
   "source": [
    "### Create some data"
   ]
  },
  {
   "cell_type": "code",
   "execution_count": null,
   "metadata": {},
   "outputs": [],
   "source": [
    "import numpy as np\n",
    "\n",
    "# Generate x data: linearly spaced list, from 0 to 2Pi in 100 points\n",
    "x = np.linspace(0.0, 2 * np.pi, 25)\n",
    "\n",
    "# Generate y data: cosine of the x-data\n",
    "y = np.cos(x)\n",
    "\n",
    "# For illustrative purpose, zip this data into a 2D array:\n",
    "xy_data = np.column_stack((x, y))\n",
    "\n",
    "print(xy_data)"
   ]
  },
  {
   "cell_type": "markdown",
   "metadata": {},
   "source": [
    "### Write it as plain text"
   ]
  },
  {
   "cell_type": "code",
   "execution_count": null,
   "metadata": {},
   "outputs": [],
   "source": [
    "# Write out to text file, keeping full precission:\n",
    "np.savetxt(\"data.text\", xy_data)"
   ]
  },
  {
   "cell_type": "code",
   "execution_count": null,
   "metadata": {},
   "outputs": [],
   "source": [
    "# The above is equivilant to:\n",
    "with open(\"data.text_v2\", \"wt\") as out_file:\n",
    "    for x, y in xy_data:\n",
    "        print(\"{:.18e} {:.18e}\".format(x, y), file=out_file)"
   ]
  },
  {
   "cell_type": "markdown",
   "metadata": {},
   "source": [
    "### Write it as (raw) binary"
   ]
  },
  {
   "cell_type": "code",
   "execution_count": null,
   "metadata": {},
   "outputs": [],
   "source": [
    "# Now, write to file in raw binary format:\n",
    "xy_data.tofile(\"data.binary\")"
   ]
  },
  {
   "cell_type": "code",
   "execution_count": null,
   "metadata": {},
   "outputs": [],
   "source": [
    "# The above is equivilant to:\n",
    "with open(\"data.binary_v2\", \"wb\") as file:\n",
    "    for x, y in xy_data:\n",
    "        file.write(x)\n",
    "        file.write(y)"
   ]
  },
  {
   "cell_type": "markdown",
   "metadata": {},
   "source": [
    "### Check the file sizes\n",
    "\n",
    "```bash\n",
    "$ ls -lah\n",
    "Permissions Size User     Date Modified Name\n",
    ".rw-rw-r--   400 uqbrob14 20 Feb 17:14  data.binary\n",
    ".rw-rw-r--  1.3k uqbrob14 20 Feb 17:12  data.text\n",
    "```"
   ]
  },
  {
   "cell_type": "markdown",
   "metadata": {},
   "source": [
    "### Read it back in"
   ]
  },
  {
   "cell_type": "code",
   "execution_count": null,
   "metadata": {},
   "outputs": [],
   "source": [
    "data_in = np.fromfile(\"data.binary\")\n",
    "\n",
    "print(data_in)"
   ]
  },
  {
   "cell_type": "markdown",
   "metadata": {},
   "source": [
    "### Format"
   ]
  },
  {
   "cell_type": "code",
   "execution_count": null,
   "metadata": {},
   "outputs": [],
   "source": [
    "num_cols = 2\n",
    "num_rows = int(len(data_in) / num_cols)\n",
    "xy_data_in = data_in.reshape(num_rows, num_cols)\n",
    "\n",
    "print(data_in)"
   ]
  }
 ],
 "metadata": {
  "kernelspec": {
   "display_name": "Python 3",
   "language": "python",
   "name": "python3"
  },
  "language_info": {
   "codemirror_mode": {
    "name": "ipython",
    "version": 3
   },
   "file_extension": ".py",
   "mimetype": "text/x-python",
   "name": "python",
   "nbconvert_exporter": "python",
   "pygments_lexer": "ipython3",
   "version": "3.10.12"
  }
 },
 "nbformat": 4,
 "nbformat_minor": 2
}
