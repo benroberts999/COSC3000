{
 "cells": [
  {
   "cell_type": "code",
   "execution_count": null,
   "metadata": {},
   "outputs": [],
   "source": [
    "import matplotlib.pyplot as plt\n",
    "import numpy as np"
   ]
  },
  {
   "cell_type": "markdown",
   "metadata": {},
   "source": [
    "## Example: obviously clustered 2D data\n",
    "\n",
    "* https://jakevdp.github.io/PythonDataScienceHandbook/05.11-k-means.html"
   ]
  },
  {
   "cell_type": "code",
   "execution_count": null,
   "metadata": {},
   "outputs": [],
   "source": [
    "data1 = np.genfromtxt(\"data1.csv\", delimiter=\",\")\n",
    "\n",
    "plt.scatter(data1[:, 0], data1[:, 1])\n",
    "plt.title(\"Clustered data\")\n",
    "plt.show()"
   ]
  },
  {
   "cell_type": "markdown",
   "metadata": {},
   "source": [
    "### KMeans\n",
    "\n",
    "* https://scikit-learn.org/stable/modules/generated/sklearn.cluster.KMeans.html\n",
    "* nb: algorith uses random sampling, can be different each time"
   ]
  },
  {
   "cell_type": "code",
   "execution_count": null,
   "metadata": {},
   "outputs": [],
   "source": [
    "from sklearn.cluster import KMeans\n",
    "\n",
    "kmeans = KMeans(n_clusters=3)\n",
    "kmeans.fit(data1)\n",
    "clusters = kmeans.predict(data1)\n",
    "print(clusters)"
   ]
  },
  {
   "cell_type": "code",
   "execution_count": null,
   "metadata": {},
   "outputs": [],
   "source": [
    "plt.scatter(data1[:, 0], data1[:, 1], c=clusters)\n",
    "plt.title(\"Clusters\")\n",
    "plt.show()"
   ]
  },
  {
   "cell_type": "code",
   "execution_count": null,
   "metadata": {},
   "outputs": [],
   "source": [
    "plt.scatter(data1[:, 0], data1[:, 1], c=clusters)\n",
    "\n",
    "centers = kmeans.cluster_centers_\n",
    "plt.scatter(centers[:, 0], centers[:, 1], c=\"black\", s=200, alpha=0.5)\n",
    "plt.title(\"Extract centres\")\n",
    "plt.show()"
   ]
  },
  {
   "cell_type": "code",
   "execution_count": null,
   "metadata": {},
   "outputs": [],
   "source": [
    "fig, axs = plt.subplots(2, 2, layout=\"constrained\")\n",
    "\n",
    "for i, ax in enumerate(axs.flatten()):\n",
    "    num_clusters = i + 2\n",
    "    kmeans = KMeans(n_clusters=num_clusters)\n",
    "    kmeans.fit(data1)\n",
    "    clusters = kmeans.predict(data1)\n",
    "    ax.scatter(data1[:, 0], data1[:, 1], c=clusters)\n",
    "    ax.set_title(f\"k={num_clusters} clusters\")\n",
    "plt.suptitle(\"Differing # clusters\")\n",
    "plt.show()"
   ]
  },
  {
   "cell_type": "markdown",
   "metadata": {},
   "source": [
    "## Non-linear boundaries"
   ]
  },
  {
   "cell_type": "code",
   "execution_count": null,
   "metadata": {},
   "outputs": [],
   "source": [
    "data2 = np.genfromtxt(\"data2.csv\", delimiter=\",\")\n",
    "\n",
    "plt.scatter(data2[:, 0], data2[:, 1])\n",
    "plt.show()"
   ]
  },
  {
   "cell_type": "code",
   "execution_count": null,
   "metadata": {},
   "outputs": [],
   "source": [
    "fig, axs = plt.subplots(2, 2, layout=\"constrained\")\n",
    "\n",
    "for i, ax in enumerate(axs.flatten()):\n",
    "    num_clusters = i + 2\n",
    "    kmeans = KMeans(n_clusters=num_clusters)\n",
    "    kmeans.fit(data2)\n",
    "    clusters = kmeans.predict(data2)\n",
    "    ax.scatter(data2[:, 0], data2[:, 1], c=clusters)\n",
    "    ax.set_title(f\"k={num_clusters} clusters\")\n",
    "plt.show()"
   ]
  },
  {
   "cell_type": "markdown",
   "metadata": {},
   "source": [
    "## e.g.: Spectral Clustering\n",
    "* https://scikit-learn.org/stable/modules/generated/sklearn.cluster.SpectralClustering.html"
   ]
  },
  {
   "cell_type": "code",
   "execution_count": null,
   "metadata": {},
   "outputs": [],
   "source": [
    "from sklearn.cluster import SpectralClustering\n",
    "\n",
    "model = SpectralClustering(n_clusters=3)\n",
    "clusters = model.fit_predict(data2)\n",
    "plt.scatter(data2[:, 0], data2[:, 1], c=clusters)\n",
    "plt.show()"
   ]
  },
  {
   "cell_type": "code",
   "execution_count": null,
   "metadata": {},
   "outputs": [],
   "source": [
    "fig, axs = plt.subplots(2, 2, layout=\"constrained\")\n",
    "\n",
    "for i, ax in enumerate(axs.flatten()):\n",
    "    num_clusters = i + 2\n",
    "    model = SpectralClustering(n_clusters=num_clusters)\n",
    "    clusters = model.fit_predict(data2)\n",
    "    ax.scatter(data2[:, 0], data2[:, 1], c=clusters)\n",
    "    ax.set_title(f\"k={num_clusters} clusters\")\n",
    "plt.show()"
   ]
  },
  {
   "cell_type": "markdown",
   "metadata": {},
   "source": [
    "### Overlapping clusters: obviously less certain"
   ]
  },
  {
   "cell_type": "code",
   "execution_count": null,
   "metadata": {},
   "outputs": [],
   "source": [
    "data3 = np.unique(np.concatenate((data1, data2), axis=0), axis=0)\n",
    "\n",
    "plt.scatter(data3[:, 0], data3[:, 1])\n",
    "plt.show()"
   ]
  },
  {
   "cell_type": "code",
   "execution_count": null,
   "metadata": {},
   "outputs": [],
   "source": [
    "fig, axss = plt.subplots(3, 2, layout=\"constrained\")\n",
    "\n",
    "assign_labels = [\"kmeans\", \"discretize\", \"cluster_qr\"]\n",
    "\n",
    "for i, axs in enumerate(axss):\n",
    "    for j, ax in enumerate(axs):\n",
    "        num_clusters = j + 3\n",
    "        model = SpectralClustering(\n",
    "            n_clusters=num_clusters, assign_labels=assign_labels[i]\n",
    "        )\n",
    "        clusters = model.fit_predict(data3)\n",
    "        ax.scatter(data3[:, 0], data3[:, 1], c=clusters)\n",
    "        ax.set_title(f\"k={num_clusters} clusters / {assign_labels[i]}\")\n",
    "plt.show()"
   ]
  },
  {
   "cell_type": "markdown",
   "metadata": {},
   "source": [
    "--------------------\n",
    "\n",
    "## \"Canonical example\" Fishers Iris data\n",
    "* https://en.wikipedia.org/wiki/Iris_flower_data_set\n",
    "* https://scikit-learn.org/stable/auto_examples/datasets/plot_iris_dataset.html\n",
    "* Widely used/available example"
   ]
  },
  {
   "cell_type": "code",
   "execution_count": null,
   "metadata": {},
   "outputs": [],
   "source": [
    "from sklearn import datasets\n",
    "\n",
    "iris = datasets.load_iris()\n",
    "\n",
    "print(iris.target_names)\n",
    "print(iris.feature_names)\n",
    "print(iris.data.shape)"
   ]
  },
  {
   "cell_type": "code",
   "execution_count": null,
   "metadata": {},
   "outputs": [],
   "source": [
    "setosa, verisicolor, virginica = [iris.data[iris.target == i] for i in range(3)]\n",
    "\n",
    "plt.scatter(setosa[:, 0], setosa[:, 2], label=\"setosa\", marker=\"+\")\n",
    "plt.scatter(verisicolor[:, 0], verisicolor[:, 2], label=\"verisicolor\", marker=\".\")\n",
    "plt.scatter(virginica[:, 0], virginica[:, 2], label=\"virginica\", marker=\"x\")\n",
    "plt.legend()\n",
    "plt.xlabel(iris.feature_names[0])\n",
    "plt.ylabel(iris.feature_names[2])\n",
    "plt.show()"
   ]
  },
  {
   "cell_type": "code",
   "execution_count": null,
   "metadata": {},
   "outputs": [],
   "source": [
    "fig, ax = plt.subplots()\n",
    "model = SpectralClustering(n_clusters=3)\n",
    "\n",
    "ax.set_title(\"K-means\")\n",
    "clusters = model.fit_predict(iris.data)\n",
    "ax.scatter(iris.data[:, 0], iris.data[:, 2], c=clusters)\n",
    "ax.set(xlabel=iris.feature_names[0], ylabel=iris.feature_names[3])\n",
    "# plt.scatter(setosa[:, 0], setosa[:, 2], label=\"setosa\", marker=\"+\", c=\"k\")\n",
    "# plt.scatter(\n",
    "#     verisicolor[:, 0], verisicolor[:, 2], label=\"verisicolor\", marker=\".\", c=\"k\"\n",
    "# )\n",
    "# plt.scatter(virginica[:, 0], virginica[:, 2], label=\"virginica\", marker=\"x\", c=\"k\")\n",
    "# plt.legend()\n",
    "plt.show()"
   ]
  },
  {
   "cell_type": "markdown",
   "metadata": {},
   "source": [
    "## Code for corner plot:"
   ]
  },
  {
   "cell_type": "code",
   "execution_count": null,
   "metadata": {},
   "outputs": [],
   "source": [
    "import scipy.stats as stats\n",
    "\n",
    "\n",
    "# Prints a corner plot, with histograms along edges:\n",
    "def corner_plot(data, labels, title, colours=None, legends=None):\n",
    "    num_variables = len(labels)\n",
    "    fig, axs = plt.subplots(nrows=num_variables, ncols=num_variables, figsize=(7, 7))\n",
    "    for i in range(num_variables):\n",
    "        for j in range(num_variables):\n",
    "\n",
    "            # Only plot unique lower triangle\n",
    "            if j > i:\n",
    "                axs[i, j].set_visible(False)\n",
    "                continue\n",
    "\n",
    "            # Plot the data\n",
    "\n",
    "            # Scatter plot for when x is not y\n",
    "            if i != j:\n",
    "                scatter = axs[i, j].scatter(data[:, j], data[:, i], c=colours)\n",
    "\n",
    "            # When x=y the plot would just be a straight line\n",
    "            # It's common to plot histgoram (or box plot, etc)\n",
    "            else:\n",
    "                axs[i, j].hist(data[:, i], density=True, alpha=0.4)\n",
    "                x = np.linspace(min(data[:, i]), max(data[:, i]), 100)\n",
    "                kde = stats.gaussian_kde(data[:, i])\n",
    "                axs[i, j].plot(x, kde(x), \"b\")\n",
    "                axs[i, j].fill_between(x, kde(x), alpha=0.6)\n",
    "                axs[i, j].set_yticks([])\n",
    "\n",
    "            # Add title (mean and standard deviation) above diagonal elements:\n",
    "            if i == j:\n",
    "                mean = np.mean(data[:, i])\n",
    "                sd = np.std(data[:, i], ddof=1)\n",
    "                axs[i, j].set_title(\n",
    "                    f\"{labels[j]}\\n{mean:.1f}$\\\\pm${sd:.1f}\", fontsize=8\n",
    "                )\n",
    "\n",
    "            # Add x labels only to last row\n",
    "            if i == num_variables - 1:\n",
    "                axs[i, j].set_xlabel(labels[j], fontsize=8)\n",
    "            else:\n",
    "                axs[i, j].set_xticks([])\n",
    "\n",
    "            # Add y labels only to first column\n",
    "            if j == 0:\n",
    "                axs[i, j].set_ylabel(labels[i], fontsize=8)\n",
    "            else:\n",
    "                axs[i, j].set_yticks([])\n",
    "\n",
    "    plt.suptitle(title)\n",
    "    fig.align_ylabels(axs[:, 0])\n",
    "    if legends != None:\n",
    "        fig.legend(scatter.legend_elements()[0], legends, loc=(0.75, 0.75))\n",
    "    return fig, axs"
   ]
  },
  {
   "cell_type": "code",
   "execution_count": null,
   "metadata": {},
   "outputs": [],
   "source": [
    "fig, axs = corner_plot(iris.data, iris.feature_names, \"Fisher's Iris data\")\n",
    "plt.show()"
   ]
  },
  {
   "cell_type": "code",
   "execution_count": null,
   "metadata": {},
   "outputs": [],
   "source": [
    "fig, axs = corner_plot(\n",
    "    iris.data,\n",
    "    iris.feature_names,\n",
    "    \"Fisher's Iris data: Clusters\",\n",
    "    clusters,\n",
    "    [\"Cluster 1\", \"Cluster 2\", \"Cluster 3\"],\n",
    ")\n",
    "plt.show()\n",
    "\n",
    "fig, axs = corner_plot(\n",
    "    iris.data,\n",
    "    iris.feature_names,\n",
    "    \"Fisher's Iris data: Actual species\",\n",
    "    iris.target,\n",
    "    iris.target_names.tolist(),\n",
    ")\n",
    "plt.show()"
   ]
  }
 ],
 "metadata": {
  "kernelspec": {
   "display_name": "Python 3",
   "language": "python",
   "name": "python3"
  },
  "language_info": {
   "codemirror_mode": {
    "name": "ipython",
    "version": 3
   },
   "file_extension": ".py",
   "mimetype": "text/x-python",
   "name": "python",
   "nbconvert_exporter": "python",
   "pygments_lexer": "ipython3",
   "version": "3.12.2"
  }
 },
 "nbformat": 4,
 "nbformat_minor": 2
}
