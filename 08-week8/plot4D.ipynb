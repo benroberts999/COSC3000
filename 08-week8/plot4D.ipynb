{
 "cells": [
  {
   "cell_type": "markdown",
   "metadata": {},
   "source": [
    "# Plotting 4D data:\n",
    "## Contour, colourmaps, quiver, stream plots"
   ]
  },
  {
   "cell_type": "code",
   "execution_count": null,
   "metadata": {},
   "outputs": [],
   "source": [
    "import matplotlib.pyplot as plt\n",
    "import numpy as np\n",
    "\n",
    "# Set up X-Y coordinates\n",
    "x = np.linspace(-3, 3, 50)\n",
    "y = np.linspace(-10, 10, 75)\n",
    "X, Y = np.meshgrid(x, y)\n",
    "\n",
    "# Vx and Vy are components of V\n",
    "Vx = -1 - X**2 + Y\n",
    "Vy = 1 + X - Y**2\n",
    "V = np.sqrt(Vx**2 + Vy**2)\n",
    "\n",
    "# Make Vx and Vy unit vectors [i.e., Vx^2 + Vy^2 = 1] (not required).\n",
    "Ux = Vx / V\n",
    "Uy = Vy / V"
   ]
  },
  {
   "cell_type": "markdown",
   "metadata": {},
   "source": [
    "### Contour plots and heatmaps -- just of one component\n",
    "\n",
    "Contours and heatmaps:\n",
    "* https://matplotlib.org/stable/gallery/images_contours_and_fields/contour_demo.html\n",
    "* https://matplotlib.org/stable/api/_as_gen/matplotlib.pyplot.pcolor.html\n",
    "* https://matplotlib.org/stable/api/_as_gen/matplotlib.pyplot.pcolormesh.html\n",
    "\n",
    "Colormaps -- which to choose:\n",
    "* https://matplotlib.org/stable/users/explain/colors/colormaps.html\n",
    "* https://matplotlib.org/stable/gallery/color/colormap_reference.html"
   ]
  },
  {
   "cell_type": "code",
   "execution_count": null,
   "metadata": {},
   "outputs": [],
   "source": [
    "plt.imshow(Ux, cmap=\"coolwarm\")\n",
    "plt.colorbar()\n",
    "plt.show()"
   ]
  },
  {
   "cell_type": "markdown",
   "metadata": {},
   "source": [
    "This has few issues:\n",
    "1. Axis labels are just row/column numbers\n",
    "2. Image is actually upside down! (puts (0,0) in top right instead of bottom left)\n",
    "3. Aspect ratio is set to `equal` by default (maybe what you want, might not be!)\n",
    "\n",
    "Fix: Use `extent` and `origin` - OR `pcolor`/`pcolormesh`\n",
    " * `pcolor`/`pcolormesh` has advantage: doesn't assume equally-spaced X/Y grids\n",
    " * But, is \"slower\" as a result (not normally an issue)"
   ]
  },
  {
   "cell_type": "code",
   "execution_count": null,
   "metadata": {},
   "outputs": [],
   "source": [
    "t_extent = (x.min(), x.max(), y.min(), y.max())\n",
    "plt.imshow(Ux, cmap=\"coolwarm\", extent=t_extent, origin=\"lower\", aspect=\"auto\")\n",
    "plt.colorbar()\n",
    "plt.show()"
   ]
  },
  {
   "cell_type": "code",
   "execution_count": null,
   "metadata": {},
   "outputs": [],
   "source": [
    "plt.imshow(\n",
    "    Ux,\n",
    "    cmap=\"coolwarm\",\n",
    "    extent=t_extent,\n",
    "    origin=\"lower\",\n",
    "    aspect=\"auto\",\n",
    "    interpolation=\"bilinear\",\n",
    ")\n",
    "plt.colorbar()\n",
    "plt.show()"
   ]
  },
  {
   "cell_type": "code",
   "execution_count": null,
   "metadata": {},
   "outputs": [],
   "source": [
    "# plt.pcolormesh(X, Y, Ux, cmap=\"coolwarm\", shading='nearest')\n",
    "plt.pcolormesh(X, Y, Ux, cmap=\"coolwarm\", shading=\"gouraud\")\n",
    "plt.colorbar()\n",
    "plt.show()"
   ]
  },
  {
   "cell_type": "code",
   "execution_count": null,
   "metadata": {},
   "outputs": [],
   "source": [
    "CS = plt.contour(X, Y, Ux, cmap=\"coolwarm\")\n",
    "plt.clabel(CS, inline=True)\n",
    "plt.colorbar()\n",
    "plt.show()"
   ]
  },
  {
   "cell_type": "code",
   "execution_count": null,
   "metadata": {},
   "outputs": [],
   "source": [
    "CS = plt.contour(X, Y, Ux, cmap=\"coolwarm\")\n",
    "plt.clabel(CS, inline=True, fontsize=10, colors=\"grey\")\n",
    "\n",
    "# \"filled\" contour - solid colours between contours\n",
    "plt.contourf(X, Y, Ux, cmap=\"coolwarm\", alpha=0.5)\n",
    "plt.colorbar()\n",
    "plt.show()"
   ]
  },
  {
   "cell_type": "code",
   "execution_count": null,
   "metadata": {},
   "outputs": [],
   "source": [
    "plt.pcolormesh(X, Y, Ux, cmap=\"coolwarm\", shading=\"gouraud\")\n",
    "plt.colorbar()\n",
    "\n",
    "CS = plt.contour(X, Y, Ux, 6, colors=\"k\")\n",
    "plt.clabel(CS, inline=True, fontsize=10)\n",
    "plt.show()"
   ]
  },
  {
   "cell_type": "markdown",
   "metadata": {},
   "source": [
    "## Plot full 4D data\n",
    "\n",
    "* Have (x, y, Vx, Vy, V), where V^2 = Vx^2 + Vy^2"
   ]
  },
  {
   "cell_type": "code",
   "execution_count": null,
   "metadata": {},
   "outputs": [],
   "source": [
    "import matplotlib.cm as cm\n",
    "from matplotlib.colors import Normalize\n",
    "\n",
    "fig, (ax1, ax2, ax3) = plt.subplots(1, 3, figsize=(9, 4))\n",
    "fig.tight_layout(pad=1.5)\n",
    "\n",
    "# Use the same colormap for Ux and Uy (but a different one for V)\n",
    "normalizer = Normalize(min(Ux.min(), Uy.min()), max(Ux.max(), Uy.max()))\n",
    "# normalizer = Normalize(-1, 1) # gives better, but less general, result\n",
    "im = cm.ScalarMappable(norm=normalizer, cmap=\"coolwarm\")\n",
    "\n",
    "t1 = ax1.pcolor(X, Y, Ux, cmap=\"coolwarm\", norm=normalizer)\n",
    "CS = ax1.contour(X, Y, Ux, 6, origin=\"lower\", colors=\"black\")\n",
    "ax1.clabel(CS, inline=True, fontsize=10)\n",
    "ax1.set_title(\"Ux\")\n",
    "\n",
    "t2 = ax2.pcolor(X, Y, Uy, cmap=\"coolwarm\", norm=normalizer)\n",
    "CS = ax2.contour(X, Y, Uy, 6, origin=\"lower\", colors=\"black\")\n",
    "ax2.clabel(CS, inline=True, fontsize=10)\n",
    "ax2.set_title(\"Uy\")\n",
    "\n",
    "fig.colorbar(im, ax=(ax1, ax2), orientation=\"horizontal\")\n",
    "\n",
    "imv = ax3.pcolor(X, Y, V, cmap=\"coolwarm\")\n",
    "CS = ax3.contour(X, Y, V, 6, origin=\"lower\", colors=\"black\")\n",
    "ax3.clabel(CS, inline=True, fontsize=10)\n",
    "ax3.set_title(\"V\")\n",
    "\n",
    "# use 'aspect' to change width/height of colorbar (20 is default)\n",
    "fig.colorbar(imv, ax=(ax3), orientation=\"horizontal\", aspect=9)\n",
    "\n",
    "plt.show()"
   ]
  },
  {
   "cell_type": "markdown",
   "metadata": {},
   "source": [
    "## Stream plot\n",
    "\n",
    "* https://matplotlib.org/stable/gallery/images_contours_and_fields/plot_streamplot.html"
   ]
  },
  {
   "cell_type": "code",
   "execution_count": null,
   "metadata": {},
   "outputs": [],
   "source": [
    "plt.streamplot(X, Y, Vx, Vy)\n",
    "plt.title(\"Vx and Vy directions: loses magnitude info\")\n",
    "plt.show()"
   ]
  },
  {
   "cell_type": "code",
   "execution_count": null,
   "metadata": {},
   "outputs": [],
   "source": [
    "# Varying color along a streamline\n",
    "strm = plt.streamplot(X, Y, Vx, Vy, color=V, linewidth=2, cmap=\"plasma\")\n",
    "plt.colorbar(strm.lines, label=\"Velocity\")\n",
    "plt.title(\"Varying Color\")\n",
    "plt.show()"
   ]
  },
  {
   "cell_type": "markdown",
   "metadata": {},
   "source": [
    "## Quiverplot"
   ]
  },
  {
   "cell_type": "code",
   "execution_count": null,
   "metadata": {},
   "outputs": [],
   "source": [
    "q = plt.quiver(X, Y, Vx, Vy)\n",
    "plt.show()"
   ]
  },
  {
   "cell_type": "code",
   "execution_count": null,
   "metadata": {},
   "outputs": [],
   "source": [
    "e = 4\n",
    "q = plt.quiver(X[::e, ::e], Y[::e, ::e], Vx[::e, ::e], Vy[::e, ::e])\n",
    "plt.quiverkey(q, X=0.85, Y=1.03, U=50.0, label=\"= 50\", labelpos=\"E\")\n",
    "plt.title(\"Quiver plot: every 4th + key\")\n",
    "plt.show()"
   ]
  },
  {
   "cell_type": "code",
   "execution_count": null,
   "metadata": {},
   "outputs": [],
   "source": [
    "e = 4\n",
    "q = plt.quiver(\n",
    "    X[::e, ::e],\n",
    "    Y[::e, ::e],\n",
    "    Vx[::e, ::e],\n",
    "    Vy[::e, ::e],\n",
    "    V[::e, ::e],\n",
    "    cmap=\"coolwarm\",\n",
    ")\n",
    "plt.quiverkey(\n",
    "    q, X=0.82, Y=0.91, U=50.0, label=\"= 50\", labelpos=\"E\", coordinates=\"figure\"\n",
    ")\n",
    "plt.colorbar(q, label=\"Velocity\")\n",
    "plt.title(\"Quiver plot: + colour\")\n",
    "plt.show()"
   ]
  },
  {
   "cell_type": "code",
   "execution_count": null,
   "metadata": {},
   "outputs": [],
   "source": [
    "e = 4\n",
    "q = plt.quiver(\n",
    "    X[::e, ::e], Y[::e, ::e], Ux[::e, ::e], Uy[::e, ::e], V[::e, ::e], cmap=\"coolwarm\"\n",
    ")\n",
    "plt.colorbar(q, label=\"Velocity\")\n",
    "plt.title(\"Quiver plot: unit vectors as arrows\")\n",
    "plt.show()"
   ]
  }
 ],
 "metadata": {
  "kernelspec": {
   "display_name": "Python 3",
   "language": "python",
   "name": "python3"
  },
  "language_info": {
   "codemirror_mode": {
    "name": "ipython",
    "version": 3
   },
   "file_extension": ".py",
   "mimetype": "text/x-python",
   "name": "python",
   "nbconvert_exporter": "python",
   "pygments_lexer": "ipython3",
   "version": "3.12.2"
  }
 },
 "nbformat": 4,
 "nbformat_minor": 2
}
