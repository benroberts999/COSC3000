{
 "cells": [
  {
   "cell_type": "markdown",
   "metadata": {},
   "source": [
    "# Meshgrid"
   ]
  },
  {
   "cell_type": "code",
   "execution_count": null,
   "metadata": {},
   "outputs": [],
   "source": [
    "import numpy as np\n",
    "\n",
    "\n",
    "# 2D function:\n",
    "def function(x, y):\n",
    "    return -1 - x**2 + y"
   ]
  },
  {
   "cell_type": "code",
   "execution_count": null,
   "metadata": {},
   "outputs": [],
   "source": [
    "# Set up X-Y coordinates of EQUAL length:\n",
    "x = np.linspace(-3, 3, 10)\n",
    "y = np.linspace(-10, 10, 10)\n",
    "\n",
    "z = function(x, y)\n",
    "\n",
    "print(z.shape)"
   ]
  },
  {
   "cell_type": "markdown",
   "metadata": {},
   "source": [
    "* This called the function at f(x1, y1) and then at f(x2,y2) and so on\n",
    "* Fine if that's what you want, but not always.\n",
    "* For example, what if x and y have different length? Or we want f evaluated at every (x,y) pair"
   ]
  },
  {
   "cell_type": "code",
   "execution_count": null,
   "metadata": {},
   "outputs": [],
   "source": [
    "# Set up X-Y coordinates\n",
    "x = np.linspace(-3, 3, 10)\n",
    "y = np.linspace(-10, 10, 20)\n",
    "\n",
    "# This won't work at all: different lengths\n",
    "z = function(x, y)"
   ]
  },
  {
   "cell_type": "markdown",
   "metadata": {},
   "source": [
    "### For these situations, you can use meshgrid, which creates a 2D array of x and y points"
   ]
  },
  {
   "cell_type": "code",
   "execution_count": null,
   "metadata": {},
   "outputs": [],
   "source": [
    "X, Y = np.meshgrid(x, y)\n",
    "\n",
    "print(x.shape, y.shape)\n",
    "print(X.shape, Y.shape)\n",
    "\n",
    "Z = function(X, Y)\n",
    "\n",
    "print(Z.shape)"
   ]
  },
  {
   "cell_type": "markdown",
   "metadata": {},
   "source": [
    "### Equivilant to:"
   ]
  },
  {
   "cell_type": "code",
   "execution_count": null,
   "metadata": {},
   "outputs": [],
   "source": [
    "Z2 = -1 - X**2 + Y\n",
    "\n",
    "# caution comparing floats, but OK in this case:\n",
    "print(np.array_equal(Z, Z2))"
   ]
  },
  {
   "cell_type": "markdown",
   "metadata": {},
   "source": [
    "Many functions, including in maplotlib, expect X and Y in this meshgrid format"
   ]
  }
 ],
 "metadata": {
  "kernelspec": {
   "display_name": "Python 3",
   "language": "python",
   "name": "python3"
  },
  "language_info": {
   "codemirror_mode": {
    "name": "ipython",
    "version": 3
   },
   "file_extension": ".py",
   "mimetype": "text/x-python",
   "name": "python",
   "nbconvert_exporter": "python",
   "pygments_lexer": "ipython3",
   "version": "3.12.2"
  }
 },
 "nbformat": 4,
 "nbformat_minor": 2
}
