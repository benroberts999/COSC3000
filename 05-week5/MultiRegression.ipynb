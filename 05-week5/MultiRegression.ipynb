{
 "cells": [
  {
   "cell_type": "code",
   "execution_count": null,
   "metadata": {},
   "outputs": [],
   "source": [
    "import numpy as np\n",
    "import pandas as pd\n",
    "from matplotlib import pyplot as plt\n",
    "from scipy.optimize import curve_fit"
   ]
  },
  {
   "cell_type": "markdown",
   "metadata": {},
   "source": [
    "### Car data"
   ]
  },
  {
   "cell_type": "code",
   "execution_count": null,
   "metadata": {},
   "outputs": [],
   "source": [
    "filename = \"../03-week3/lab/CarsRetailPrice.csv\"\n",
    "car_data = pd.read_csv(filename)\n",
    "car_columns = list(car_data.columns)\n",
    "print(car_columns)"
   ]
  },
  {
   "cell_type": "code",
   "execution_count": null,
   "metadata": {},
   "outputs": [],
   "source": [
    "price = car_data[\"Price\"]\n",
    "mileage = car_data[\"Mileage\"]\n",
    "\n",
    "plt.plot(mileage, price, \"x\")\n",
    "plt.xlabel(\"Mileage\")\n",
    "plt.ylabel(\"Price\")\n",
    "plt.show()"
   ]
  },
  {
   "cell_type": "code",
   "execution_count": null,
   "metadata": {},
   "outputs": [],
   "source": [
    "coefs1 = np.polyfit(mileage, price, 1)\n",
    "\n",
    "# Takes the coefs from the fit, and creates callable polynomial functions\n",
    "y = np.poly1d(coefs1)\n",
    "\n",
    "# For smooth plots:\n",
    "x = np.linspace(min(mileage), max(mileage), 100)\n",
    "\n",
    "plt.plot(mileage, price, \"x\")\n",
    "plt.plot(x, y(x), label=\"fit\")\n",
    "plt.xlabel(\"Mileage\")\n",
    "plt.ylabel(\"Price\")\n",
    "plt.title(f\"Price = {coefs1[1]:.1f} + {coefs1[0]:.2f} x milage\")\n",
    "plt.show()"
   ]
  },
  {
   "cell_type": "markdown",
   "metadata": {},
   "source": [
    "## Other variables:"
   ]
  },
  {
   "cell_type": "code",
   "execution_count": null,
   "metadata": {},
   "outputs": [],
   "source": [
    "print(car_columns)\n",
    "\n",
    "makes = car_data[\"Make\"].unique()\n",
    "print(makes)"
   ]
  },
  {
   "cell_type": "code",
   "execution_count": null,
   "metadata": {},
   "outputs": [],
   "source": [
    "for i, make in enumerate(makes):\n",
    "    tmp_data = car_data[car_data.Make == make]\n",
    "    x_data = tmp_data[\"Mileage\"]\n",
    "    y_data = tmp_data[\"Price\"]\n",
    "    plt.plot(x_data, y_data, \"x\", label=make)\n",
    "plt.legend()\n",
    "plt.xlabel(\"Mileage\")\n",
    "plt.ylabel(\"Price\")\n",
    "plt.show()"
   ]
  },
  {
   "cell_type": "markdown",
   "metadata": {},
   "source": [
    "Fit seperate catagories (breaking multi-variate into several Bi-variate)"
   ]
  },
  {
   "cell_type": "code",
   "execution_count": null,
   "metadata": {},
   "outputs": [],
   "source": [
    "for i, make in enumerate(makes):\n",
    "    tmp_data = car_data[car_data.Make == make]\n",
    "    x_data = tmp_data[\"Mileage\"]\n",
    "    y_data = tmp_data[\"Price\"]\n",
    "    coefs1 = np.polyfit(x_data, y_data, 1)\n",
    "    y = np.poly1d(coefs1)\n",
    "    plt.plot(x_data, y_data, \"x\", color=f\"C{i}\")\n",
    "    plt.plot(x, y(x), \"-\", label=make, color=f\"C{i}\")\n",
    "plt.legend()\n",
    "plt.xlabel(\"Mileage\")\n",
    "plt.ylabel(\"Price\")\n",
    "plt.show()"
   ]
  },
  {
   "cell_type": "markdown",
   "metadata": {},
   "source": [
    "### Separate 'models' for given 'make'"
   ]
  },
  {
   "cell_type": "code",
   "execution_count": null,
   "metadata": {},
   "outputs": [],
   "source": [
    "chev_data = car_data[car_data[\"Make\"] == \"Chevrolet\"]\n",
    "chev_models = chev_data[\"Model\"].unique()\n",
    "print(chev_models)\n",
    "\n",
    "plt.title(\"Chevrolet\")\n",
    "for i, model in enumerate(chev_models):\n",
    "    tmp_data = car_data[car_data[\"Model\"] == model]\n",
    "    x_data = tmp_data[\"Mileage\"]\n",
    "    y_data = tmp_data[\"Price\"]\n",
    "    coefs1 = np.polyfit(x_data, y_data, 1)\n",
    "    y = np.poly1d(coefs1)\n",
    "    plt.plot(x_data, y_data, \"x\", color=f\"C{i}\")\n",
    "    plt.plot(x, y(x), \"-\", label=model, color=f\"C{i}\")\n",
    "plt.legend()\n",
    "plt.xlabel(\"Mileage\")\n",
    "plt.ylabel(\"Price\")\n",
    "plt.show()"
   ]
  },
  {
   "cell_type": "code",
   "execution_count": null,
   "metadata": {},
   "outputs": [],
   "source": [
    "fig, axs2D = plt.subplots(3, 2, sharex=True, sharey=True)\n",
    "fig.tight_layout(pad=2.0)  # add some space\n",
    "\n",
    "# Flatten, so I can loop over with 1 index\n",
    "axs = axs2D.flatten()\n",
    "\n",
    "for i, make in enumerate(makes):\n",
    "    make_data = car_data[car_data[\"Make\"] == make]\n",
    "    models = make_data[\"Model\"].unique()\n",
    "\n",
    "    axs[i].set_title(make)\n",
    "    for j, model in enumerate(models):\n",
    "        tmp_data = make_data[make_data[\"Model\"] == model]\n",
    "        x_data = tmp_data[\"Mileage\"]\n",
    "        y_data = tmp_data[\"Price\"]\n",
    "        coefs1 = np.polyfit(x_data, y_data, 1)\n",
    "        y = np.poly1d(coefs1)\n",
    "        axs[i].plot(x_data, y_data, \"x\", color=f\"C{j}\")\n",
    "        axs[i].plot(x, y(x), \"--\", color=f\"C{j}\")\n",
    "    coefs1 = np.polyfit(make_data[\"Mileage\"], make_data[\"Price\"], 1)\n",
    "    y = np.poly1d(coefs1)\n",
    "    axs[i].plot(x, y(x), \"k-\", linewidth=3)\n",
    "[axs2D[2, k].set_xlabel(\"Mileage\") for k in range(0, 2)]\n",
    "[axs2D[k, 0].set_ylabel(\"Price\") for k in range(0, 3)]\n",
    "plt.show()"
   ]
  },
  {
   "cell_type": "markdown",
   "metadata": {},
   "source": [
    "## Other variables: True multivariate"
   ]
  },
  {
   "cell_type": "code",
   "execution_count": null,
   "metadata": {},
   "outputs": [],
   "source": [
    "litres = car_data[\"Liter\"]\n",
    "\n",
    "ax = plt.axes(projection=\"3d\")\n",
    "ax.set_box_aspect(aspect=None, zoom=0.85)\n",
    "\n",
    "ax.scatter(mileage, litres, price)\n",
    "\n",
    "ax.set_xlabel(\"Milage\")\n",
    "ax.set_ylabel(\"Litres\")\n",
    "ax.set_zlabel(\"Price\")\n",
    "\n",
    "\n",
    "plt.show()"
   ]
  },
  {
   "cell_type": "code",
   "execution_count": null,
   "metadata": {},
   "outputs": [],
   "source": [
    "ax = plt.axes(projection=\"3d\")\n",
    "ax.set_box_aspect(aspect=None, zoom=0.85)\n",
    "\n",
    "for make in makes:\n",
    "    t_data = car_data[car_data[\"Make\"] == make]\n",
    "    ax.scatter(t_data[\"Mileage\"], t_data[\"Liter\"], t_data[\"Price\"], label=make)\n",
    "    ax.legend(loc=\"upper left\")\n",
    "\n",
    "ax.set_xlabel(\"Milage\")\n",
    "ax.set_ylabel(\"Litres\")\n",
    "ax.set_zlabel(\"Price\")\n",
    "\n",
    "\n",
    "plt.show()"
   ]
  },
  {
   "cell_type": "markdown",
   "metadata": {},
   "source": [
    "Sometimes logscale is helpful\n",
    "\n",
    "Can either set scale of axis to log, or simply take log of the data"
   ]
  },
  {
   "cell_type": "code",
   "execution_count": null,
   "metadata": {},
   "outputs": [],
   "source": [
    "ax = plt.axes(projection=\"3d\")\n",
    "ax.set_box_aspect(aspect=None, zoom=0.85)\n",
    "\n",
    "for make in makes:\n",
    "    t_data = car_data[car_data[\"Make\"] == make]\n",
    "    ax.scatter(\n",
    "        np.log10(t_data[\"Mileage\"]),\n",
    "        t_data[\"Liter\"],\n",
    "        np.log10(t_data[\"Price\"]),\n",
    "        label=make,\n",
    "    )\n",
    "    ax.legend(loc=\"upper left\")\n",
    "\n",
    "ax.set_xlabel(\"$\\\\log_{10}$ Milage\")\n",
    "ax.set_ylabel(\"Litres\")\n",
    "ax.set_zlabel(\"$\\\\log_{10}$ Price\")\n",
    "\n",
    "\n",
    "plt.show()"
   ]
  },
  {
   "cell_type": "markdown",
   "metadata": {},
   "source": [
    "## Multiple regression"
   ]
  },
  {
   "cell_type": "code",
   "execution_count": null,
   "metadata": {},
   "outputs": [],
   "source": [
    "xydata = np.column_stack((car_data[\"Mileage\"], car_data[\"Liter\"]))\n",
    "zdata = car_data[\"Price\"]\n",
    "\n",
    "\n",
    "def price_f(data, a_offset, b_mil, c_lit):\n",
    "    return a_offset + b_mil * data[:, 0] + c_lit * data[:, 1]\n",
    "\n",
    "\n",
    "params, pcov = curve_fit(price_f, xydata, zdata)\n",
    "print(params)"
   ]
  },
  {
   "cell_type": "code",
   "execution_count": null,
   "metadata": {},
   "outputs": [],
   "source": [
    "from matplotlib import cm\n",
    "\n",
    "ax = plt.axes(projection=\"3d\")\n",
    "\n",
    "t_mil = np.linspace(0, 50000, 100)\n",
    "t_L = np.linspace(1, 7, 20)\n",
    "X, Y = np.meshgrid(t_mil, t_L)\n",
    "\n",
    "\n",
    "def price_f2(x, y, a_offset, b_mil, c_lit):\n",
    "    return a_offset + b_mil * x + c_lit * y\n",
    "\n",
    "\n",
    "Z = price_f2(X, Y, params[0], params[1], params[2])\n",
    "\n",
    "ax.set_box_aspect(aspect=None, zoom=0.85)\n",
    "ax.plot_surface(X / 1000, Y, Z / 1000, cmap=cm.Blues, alpha=0.85)\n",
    "\n",
    "for make in makes:\n",
    "    t_data = car_data[car_data[\"Make\"] == make]\n",
    "    ax.scatter(\n",
    "        t_data[\"Mileage\"] / 1000, t_data[\"Liter\"], t_data[\"Price\"] / 1000, label=make\n",
    "    )\n",
    "    ax.legend(loc=\"upper left\")\n",
    "\n",
    "ax.set_xlabel(\"Milage ('000)\")\n",
    "ax.set_ylabel(\"Litres\")\n",
    "ax.set_zlabel(\"Price ('000)\")\n",
    "\n",
    "plt.show()"
   ]
  },
  {
   "cell_type": "markdown",
   "metadata": {},
   "source": [
    "### Include catagorical variables\n",
    "\n",
    "In this case, silly.\n",
    "But still informative."
   ]
  },
  {
   "cell_type": "code",
   "execution_count": null,
   "metadata": {},
   "outputs": [],
   "source": [
    "is_cadillac = car_data[\"Make\"] == \"Cadillac\"\n",
    "# print(is_cadillac)\n",
    "\n",
    "is_cadillac = 1.0 * is_cadillac\n",
    "# print(is_cadillac)\n",
    "\n",
    "xydata = np.column_stack((car_data[\"Mileage\"], car_data[\"Liter\"], is_cadillac))\n",
    "zdata = car_data[\"Price\"]\n",
    "\n",
    "\n",
    "def price_f(data, a_offset, b_mil, c_lit, d_cadi):\n",
    "    return a_offset + b_mil * data[:, 0] + c_lit * data[:, 1] + d_cadi * data[:, 2]\n",
    "\n",
    "\n",
    "params, pcov = curve_fit(price_f, xydata, zdata)\n",
    "print(params)"
   ]
  }
 ],
 "metadata": {
  "kernelspec": {
   "display_name": "Python 3",
   "language": "python",
   "name": "python3"
  },
  "language_info": {
   "codemirror_mode": {
    "name": "ipython",
    "version": 3
   },
   "file_extension": ".py",
   "mimetype": "text/x-python",
   "name": "python",
   "nbconvert_exporter": "python",
   "pygments_lexer": "ipython3",
   "version": "3.10.12"
  }
 },
 "nbformat": 4,
 "nbformat_minor": 2
}
