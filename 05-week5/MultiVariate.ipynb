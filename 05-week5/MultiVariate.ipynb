{
 "cells": [
  {
   "cell_type": "code",
   "execution_count": null,
   "metadata": {},
   "outputs": [],
   "source": [
    "import numpy as np\n",
    "import pandas as pd\n",
    "from matplotlib import pyplot as plt\n",
    "from scipy.optimize import curve_fit"
   ]
  },
  {
   "cell_type": "markdown",
   "metadata": {},
   "source": [
    "* https://matplotlib.org/stable/api/_as_gen/matplotlib.pyplot.scatter.html\n",
    "* https://matplotlib.org/stable/api/_as_gen/matplotlib.pyplot.stem.html\n",
    "\n",
    "Demos:\n",
    "* https://matplotlib.org/stable/gallery/mplot3d/"
   ]
  },
  {
   "cell_type": "markdown",
   "metadata": {},
   "source": [
    "## Basic 3D plots"
   ]
  },
  {
   "cell_type": "code",
   "execution_count": null,
   "metadata": {},
   "outputs": [],
   "source": [
    "filename = \"../03-week3/catretina.csv\"\n",
    "data = np.genfromtxt(filename, delimiter=\",\", names=True, skip_header=1)\n",
    "collumns = list(data.dtype.names)\n",
    "\n",
    "print(collumns)\n",
    "\n",
    "x = data[\"retinarea\"]\n",
    "y = data[\"age\"]\n",
    "z = data[\"cpRatio\"]"
   ]
  },
  {
   "cell_type": "code",
   "execution_count": null,
   "metadata": {},
   "outputs": [],
   "source": [
    "fig, axs = plt.subplots(ncols=3)\n",
    "fig.tight_layout(pad=2.0)  # add some space\n",
    "\n",
    "axs[0].plot(x, z, \"x-\")\n",
    "axs[0].set_xlabel(\"retinarea\")\n",
    "axs[0].set_ylabel(\"cpRatio\")\n",
    "\n",
    "axs[1].plot(y, z, \"x-\")\n",
    "axs[1].set_xlabel(\"age\")\n",
    "axs[1].set_ylabel(\"cpRatio\")\n",
    "\n",
    "axs[2].plot(y, x, \"x-\")\n",
    "axs[2].set_xlabel(\"age\")\n",
    "axs[2].set_ylabel(\"retinarea\")\n",
    "plt.show()"
   ]
  },
  {
   "cell_type": "code",
   "execution_count": null,
   "metadata": {},
   "outputs": [],
   "source": [
    "ax = plt.axes(projection=\"3d\")\n",
    "ax.scatter(x, y, z)\n",
    "\n",
    "ax.set_xlabel(\"x\")\n",
    "ax.set_ylabel(\"y\")\n",
    "ax.set_zlabel(\"z\")\n",
    "\n",
    "plt.show()"
   ]
  },
  {
   "cell_type": "code",
   "execution_count": null,
   "metadata": {},
   "outputs": [],
   "source": [
    "ax = plt.axes(projection=\"3d\")\n",
    "\n",
    "ax.set_box_aspect(aspect=None, zoom=0.85)\n",
    "\n",
    "ax.stem(x, y, z)\n",
    "\n",
    "ax.view_init(45.0, 60.0, 0.0)\n",
    "ax.set_xlabel(\"retinarea (mm$^2$)\")\n",
    "ax.set_ylabel(\"age\")\n",
    "ax.set_zlabel(\"cpRatio\")\n",
    "\n",
    "plt.show()"
   ]
  },
  {
   "cell_type": "code",
   "execution_count": null,
   "metadata": {},
   "outputs": [],
   "source": [
    "fig, ax = plt.subplots(subplot_kw={\"projection\": \"3d\"})\n",
    "# ax.stem(x, y, z)\n",
    "ax.set(xlabel=\"x\", ylabel=\"y\", zlabel=\"z\")\n",
    "\n",
    "ax.stem(x, y, z, orientation=\"x\")\n",
    "ax.stem(x, y, z, orientation=\"z\")\n",
    "plt.show()"
   ]
  },
  {
   "cell_type": "markdown",
   "metadata": {},
   "source": [
    "## Heatmaps\n",
    "\n",
    "* http://www.bom.gov.au/climate/maps/averages/temperature/\n",
    "* http://www.bom.gov.au/web01/ncc/www/climatology/temperature/mxt/mxtan.zip\n",
    "* Data is 2D array\n",
    "* data[i, j] is the temp. at x-position i, y-position j"
   ]
  },
  {
   "cell_type": "code",
   "execution_count": null,
   "metadata": {},
   "outputs": [],
   "source": [
    "import seaborn as sns\n",
    "\n",
    "maxann = np.genfromtxt(\"maxann.txt\", skip_header=6, delimiter=\" \")"
   ]
  },
  {
   "cell_type": "code",
   "execution_count": null,
   "metadata": {},
   "outputs": [],
   "source": [
    "sns.heatmap(maxann)\n",
    "plt.show()"
   ]
  },
  {
   "cell_type": "markdown",
   "metadata": {},
   "source": [
    "Remove the \"no data\" flags: -9999"
   ]
  },
  {
   "cell_type": "code",
   "execution_count": null,
   "metadata": {},
   "outputs": [],
   "source": [
    "maxann[maxann == -9999] = np.nan\n",
    "\n",
    "ax = sns.heatmap(maxann)\n",
    "ax.collections[0].colorbar.set_label(\"Maximum Annual Temperature (1991-2020)\")\n",
    "plt.show()"
   ]
  },
  {
   "cell_type": "markdown",
   "metadata": {},
   "source": [
    "Attempt to label axis"
   ]
  },
  {
   "cell_type": "code",
   "execution_count": null,
   "metadata": {},
   "outputs": [],
   "source": [
    "xmin = 112.0\n",
    "nx = 1681\n",
    "\n",
    "ymin = -44.0\n",
    "ny = 1361\n",
    "\n",
    "dx = 0.025\n",
    "\n",
    "x = np.linspace(xmin, xmin + dx * (nx - 1), nx)\n",
    "y = np.linspace(ymin, ymin + dx * (nx - 1), ny)\n",
    "\n",
    "\n",
    "every = 100\n",
    "ylabels = []\n",
    "for i, ty in enumerate(y):\n",
    "    if i % every == 0:\n",
    "        ylabels.append(f\"{ty:.0f}\")\n",
    "ylabels.reverse()\n",
    "\n",
    "xlabels = []\n",
    "for i, tx in enumerate(x):\n",
    "    if i % every == 0:\n",
    "        xlabels.append(f\"{tx:.0f}\")\n",
    "\n",
    "ax = sns.heatmap(maxann)\n",
    "ax.collections[0].colorbar.set_label(\"Maximum Annual Temperature (1991-2020)\")\n",
    "ax.set_yticks(range(0, ny, every))\n",
    "ax.set_yticklabels(ylabels)\n",
    "ax.set_xticks(range(0, nx, every))\n",
    "ax.set_xticklabels(xlabels)\n",
    "ax.set_xlabel(\"Longtitude\")\n",
    "ax.set_ylabel(\"Lattitude\")\n",
    "plt.show()"
   ]
  },
  {
   "cell_type": "code",
   "execution_count": null,
   "metadata": {},
   "outputs": [],
   "source": [
    "from matplotlib import cm\n",
    "\n",
    "fig = plt.figure()\n",
    "ax = fig.add_subplot(projection=\"3d\")\n",
    "ax.set_box_aspect(aspect=None, zoom=0.85)\n",
    "\n",
    "X, Y = np.meshgrid(x, y)\n",
    "\n",
    "# Plot the surface\n",
    "ax.plot_surface(X, Y, maxann, cmap=cm.coolwarm)\n",
    "\n",
    "ax.view_init(-50, -70, 0)\n",
    "\n",
    "ax.set_xlabel(\"Longtitude\")\n",
    "ax.set_ylabel(\"Lattitude\")\n",
    "ax.set_zlabel(\"Temp\")\n",
    "\n",
    "plt.show()"
   ]
  },
  {
   "cell_type": "markdown",
   "metadata": {},
   "source": [
    "### Spatial Correlation"
   ]
  },
  {
   "cell_type": "markdown",
   "metadata": {},
   "source": [
    "Zoom in on Tassie:"
   ]
  },
  {
   "cell_type": "code",
   "execution_count": null,
   "metadata": {},
   "outputs": [],
   "source": [
    "tassie = maxann[1210:, 1281:1464]\n",
    "ax = sns.heatmap(tassie)"
   ]
  },
  {
   "cell_type": "code",
   "execution_count": null,
   "metadata": {},
   "outputs": [],
   "source": [
    "t0 = np.nanmean(tassie)\n",
    "\n",
    "print(t0)\n",
    "\n",
    "\n",
    "def ycf(data, k):\n",
    "    ty = 0.0\n",
    "    t0 = np.nanmean(data)\n",
    "    count = 0\n",
    "    for i in range(len(data) - k):\n",
    "        for j in range(len(data[i]) - k):\n",
    "            # nb: this is very rough!\n",
    "            # Should really average _all_ points distance k apart (pythagorus...)\n",
    "            # With enough data, this is OK (but may miss some features)\n",
    "            t1 = data[i, j]\n",
    "            t2 = data[i, j + k]\n",
    "            t3 = data[i + k, j]\n",
    "            if np.isnan(t1) or np.isnan(t2) or np.isnan(t3):\n",
    "                continue\n",
    "            ty += 0.5 * ((t1 - t0) * (t2 - t0) + (t1 - t0) * (t3 - t0))\n",
    "            count += 1\n",
    "    return ty / count if count > 0 else 0\n",
    "\n",
    "\n",
    "y0 = ycf(tassie, 0)\n",
    "print(y0)\n",
    "yy = [ycf(tassie, k) / y0 for k in range(85)]\n",
    "\n",
    "plt.plot(yy)\n",
    "plt.show()"
   ]
  },
  {
   "cell_type": "markdown",
   "metadata": {},
   "source": [
    "### 'anomaly' (just average _difference_ as function of distance)"
   ]
  },
  {
   "cell_type": "code",
   "execution_count": null,
   "metadata": {},
   "outputs": [],
   "source": [
    "def dy(data, k):\n",
    "    ty = 0.0\n",
    "    count = 0\n",
    "    for i in range(len(data) - k):\n",
    "        for j in range(len(data[i]) - k):\n",
    "            # nb: this is very rough!\n",
    "            # Should really average _all_ points distance k apart (pythagorus...)\n",
    "            # With enough data, this is OK (but may miss some features)\n",
    "            t1 = data[i, j]\n",
    "            t2 = data[i, j + k]\n",
    "            t3 = data[i + k, j]\n",
    "            if np.isnan(t1) or np.isnan(t2) or np.isnan(t3):\n",
    "                continue\n",
    "            ty += 0.5 * (np.abs((t1-t2)) + np.abs((t1-t3)))\n",
    "            count += 1\n",
    "    return ty / count if count > 0 else 0\n",
    "\n",
    "yy = [dy(tassie, k) for k in range(85)]\n",
    "\n",
    "plt.plot(yy)\n",
    "plt.ylabel(\"$\\\\Delta T(d)$\")\n",
    "plt.xlabel(\"distance (grid points)\")\n",
    "plt.show()"
   ]
  },
  {
   "cell_type": "markdown",
   "metadata": {},
   "source": [
    "### \"Perfectly\" clumpy example:"
   ]
  },
  {
   "cell_type": "code",
   "execution_count": null,
   "metadata": {},
   "outputs": [],
   "source": [
    "def f(x,y):\n",
    "    return np.cos(x/2)*np.cos(y/2)\n",
    "\n",
    "x = np.arange(-25, 25, 1)\n",
    "y = np.arange(-25, 25, 1)\n",
    "\n",
    "X, Y = np.meshgrid(x, y)\n",
    "Z = f(X,Y)\n",
    "\n",
    "fig, ax = plt.subplots(subplot_kw={\"projection\": \"3d\"})\n",
    "# Plot the surface.\n",
    "surf = ax.plot_surface(X, Y, Z, cmap=cm.coolwarm)"
   ]
  },
  {
   "cell_type": "code",
   "execution_count": null,
   "metadata": {},
   "outputs": [],
   "source": [
    "y0 = ycf(Z, 0)\n",
    "print(y0)\n",
    "yy = [ycf(Z, k) / y0 for k in range(40)]\n",
    "\n",
    "plt.plot(yy, \"x-\")\n",
    "plt.title(\"Spatial correlation\")\n",
    "plt.xlabel(\"Distance\")\n",
    "plt.show()"
   ]
  },
  {
   "cell_type": "code",
   "execution_count": null,
   "metadata": {},
   "outputs": [],
   "source": [
    "yy = [dy(Z, k) for k in range(40)]\n",
    "\n",
    "plt.plot(yy, \"x-\")\n",
    "plt.title(\"Difference\")\n",
    "plt.xlabel(\"Distance\")\n",
    "plt.show()"
   ]
  }
 ],
 "metadata": {
  "kernelspec": {
   "display_name": "Python 3",
   "language": "python",
   "name": "python3"
  },
  "language_info": {
   "codemirror_mode": {
    "name": "ipython",
    "version": 3
   },
   "file_extension": ".py",
   "mimetype": "text/x-python",
   "name": "python",
   "nbconvert_exporter": "python",
   "pygments_lexer": "ipython3",
   "version": "3.12.2"
  }
 },
 "nbformat": 4,
 "nbformat_minor": 2
}
